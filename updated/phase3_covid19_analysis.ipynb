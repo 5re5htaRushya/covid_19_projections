{
 "cells": [
  {
   "cell_type": "code",
   "execution_count": 314,
   "metadata": {},
   "outputs": [],
   "source": [
    "import numpy as np\n",
    "import pandas as pd\n",
    "import warnings\n",
    "warnings.filterwarnings(\"ignore\")"
   ]
  },
  {
   "cell_type": "code",
   "execution_count": 309,
   "metadata": {},
   "outputs": [
    {
     "data": {
      "text/html": [
       "<div>\n",
       "<style scoped>\n",
       "    .dataframe tbody tr th:only-of-type {\n",
       "        vertical-align: middle;\n",
       "    }\n",
       "\n",
       "    .dataframe tbody tr th {\n",
       "        vertical-align: top;\n",
       "    }\n",
       "\n",
       "    .dataframe thead th {\n",
       "        text-align: right;\n",
       "    }\n",
       "</style>\n",
       "<table border=\"1\" class=\"dataframe\">\n",
       "  <thead>\n",
       "    <tr style=\"text-align: right;\">\n",
       "      <th></th>\n",
       "      <th>Date</th>\n",
       "      <th>Date_YMD</th>\n",
       "      <th>Daily Confirmed</th>\n",
       "      <th>Total Confirmed</th>\n",
       "      <th>Daily Recovered</th>\n",
       "      <th>Total Recovered</th>\n",
       "      <th>Daily Deceased</th>\n",
       "      <th>Total Deceased</th>\n",
       "    </tr>\n",
       "  </thead>\n",
       "  <tbody>\n",
       "    <tr>\n",
       "      <th>0</th>\n",
       "      <td>30 January 2020</td>\n",
       "      <td>2020-01-30</td>\n",
       "      <td>1</td>\n",
       "      <td>1</td>\n",
       "      <td>0</td>\n",
       "      <td>0</td>\n",
       "      <td>0</td>\n",
       "      <td>0</td>\n",
       "    </tr>\n",
       "    <tr>\n",
       "      <th>1</th>\n",
       "      <td>31 January 2020</td>\n",
       "      <td>2020-01-31</td>\n",
       "      <td>0</td>\n",
       "      <td>1</td>\n",
       "      <td>0</td>\n",
       "      <td>0</td>\n",
       "      <td>0</td>\n",
       "      <td>0</td>\n",
       "    </tr>\n",
       "    <tr>\n",
       "      <th>2</th>\n",
       "      <td>1 February 2020</td>\n",
       "      <td>2020-02-01</td>\n",
       "      <td>0</td>\n",
       "      <td>1</td>\n",
       "      <td>0</td>\n",
       "      <td>0</td>\n",
       "      <td>0</td>\n",
       "      <td>0</td>\n",
       "    </tr>\n",
       "    <tr>\n",
       "      <th>3</th>\n",
       "      <td>2 February 2020</td>\n",
       "      <td>2020-02-02</td>\n",
       "      <td>1</td>\n",
       "      <td>2</td>\n",
       "      <td>0</td>\n",
       "      <td>0</td>\n",
       "      <td>0</td>\n",
       "      <td>0</td>\n",
       "    </tr>\n",
       "    <tr>\n",
       "      <th>4</th>\n",
       "      <td>3 February 2020</td>\n",
       "      <td>2020-02-03</td>\n",
       "      <td>1</td>\n",
       "      <td>3</td>\n",
       "      <td>0</td>\n",
       "      <td>0</td>\n",
       "      <td>0</td>\n",
       "      <td>0</td>\n",
       "    </tr>\n",
       "  </tbody>\n",
       "</table>\n",
       "</div>"
      ],
      "text/plain": [
       "              Date    Date_YMD  Daily Confirmed  Total Confirmed  \\\n",
       "0  30 January 2020  2020-01-30                1                1   \n",
       "1  31 January 2020  2020-01-31                0                1   \n",
       "2  1 February 2020  2020-02-01                0                1   \n",
       "3  2 February 2020  2020-02-02                1                2   \n",
       "4  3 February 2020  2020-02-03                1                3   \n",
       "\n",
       "   Daily Recovered  Total Recovered  Daily Deceased  Total Deceased  \n",
       "0                0                0               0               0  \n",
       "1                0                0               0               0  \n",
       "2                0                0               0               0  \n",
       "3                0                0               0               0  \n",
       "4                0                0               0               0  "
      ]
     },
     "execution_count": 309,
     "metadata": {},
     "output_type": "execute_result"
    }
   ],
   "source": [
    "#Reading the file(downloaded from covid19india.org)\n",
    "df = pd.read_csv('case_time_series_26.csv')\n",
    "df.head()"
   ]
  },
  {
   "cell_type": "code",
   "execution_count": 310,
   "metadata": {},
   "outputs": [],
   "source": [
    "#To avoid outliers\n",
    "pop = df[['Date', 'Daily Confirmed', 'Total Confirmed', 'Daily Deceased', 'Total Deceased']][62:]"
   ]
  },
  {
   "cell_type": "code",
   "execution_count": 311,
   "metadata": {},
   "outputs": [
    {
     "data": {
      "text/html": [
       "<div>\n",
       "<style scoped>\n",
       "    .dataframe tbody tr th:only-of-type {\n",
       "        vertical-align: middle;\n",
       "    }\n",
       "\n",
       "    .dataframe tbody tr th {\n",
       "        vertical-align: top;\n",
       "    }\n",
       "\n",
       "    .dataframe thead th {\n",
       "        text-align: right;\n",
       "    }\n",
       "</style>\n",
       "<table border=\"1\" class=\"dataframe\">\n",
       "  <thead>\n",
       "    <tr style=\"text-align: right;\">\n",
       "      <th></th>\n",
       "      <th>Date</th>\n",
       "      <th>Daily Confirmed</th>\n",
       "      <th>Total Confirmed</th>\n",
       "      <th>Daily Deceased</th>\n",
       "      <th>Total Deceased</th>\n",
       "      <th>CFR</th>\n",
       "    </tr>\n",
       "  </thead>\n",
       "  <tbody>\n",
       "    <tr>\n",
       "      <th>62</th>\n",
       "      <td>1 April 2020</td>\n",
       "      <td>424</td>\n",
       "      <td>2059</td>\n",
       "      <td>6</td>\n",
       "      <td>53</td>\n",
       "      <td>1.415094</td>\n",
       "    </tr>\n",
       "    <tr>\n",
       "      <th>63</th>\n",
       "      <td>2 April 2020</td>\n",
       "      <td>486</td>\n",
       "      <td>2545</td>\n",
       "      <td>16</td>\n",
       "      <td>69</td>\n",
       "      <td>3.292181</td>\n",
       "    </tr>\n",
       "    <tr>\n",
       "      <th>64</th>\n",
       "      <td>3 April 2020</td>\n",
       "      <td>560</td>\n",
       "      <td>3105</td>\n",
       "      <td>14</td>\n",
       "      <td>83</td>\n",
       "      <td>2.500000</td>\n",
       "    </tr>\n",
       "    <tr>\n",
       "      <th>65</th>\n",
       "      <td>4 April 2020</td>\n",
       "      <td>579</td>\n",
       "      <td>3684</td>\n",
       "      <td>13</td>\n",
       "      <td>96</td>\n",
       "      <td>2.245250</td>\n",
       "    </tr>\n",
       "    <tr>\n",
       "      <th>66</th>\n",
       "      <td>5 April 2020</td>\n",
       "      <td>609</td>\n",
       "      <td>4293</td>\n",
       "      <td>22</td>\n",
       "      <td>118</td>\n",
       "      <td>3.612479</td>\n",
       "    </tr>\n",
       "  </tbody>\n",
       "</table>\n",
       "</div>"
      ],
      "text/plain": [
       "            Date  Daily Confirmed  Total Confirmed  Daily Deceased  \\\n",
       "62  1 April 2020              424             2059               6   \n",
       "63  2 April 2020              486             2545              16   \n",
       "64  3 April 2020              560             3105              14   \n",
       "65  4 April 2020              579             3684              13   \n",
       "66  5 April 2020              609             4293              22   \n",
       "\n",
       "    Total Deceased       CFR  \n",
       "62              53  1.415094  \n",
       "63              69  3.292181  \n",
       "64              83  2.500000  \n",
       "65              96  2.245250  \n",
       "66             118  3.612479  "
      ]
     },
     "execution_count": 311,
     "metadata": {},
     "output_type": "execute_result"
    }
   ],
   "source": [
    "pop['CFR'] = (pop['Daily Deceased']/pop['Daily Confirmed'])*100 #Calculating Case Fatality Rate\n",
    "pop.head()"
   ]
  },
  {
   "cell_type": "code",
   "execution_count": 312,
   "metadata": {},
   "outputs": [
    {
     "data": {
      "text/plain": [
       "452    1.11932\n",
       "dtype: float64"
      ]
     },
     "execution_count": 312,
     "metadata": {},
     "output_type": "execute_result"
    }
   ],
   "source": [
    "df[452:]['Total Deceased']/df[452:]['Total Confirmed']*100"
   ]
  },
  {
   "cell_type": "code",
   "execution_count": 313,
   "metadata": {},
   "outputs": [
    {
     "data": {
      "text/plain": [
       "138    18.076854\n",
       "Name: CFR, dtype: float64"
      ]
     },
     "execution_count": 313,
     "metadata": {},
     "output_type": "execute_result"
    }
   ],
   "source": [
    "pop['CFR'][pop['CFR']>17.5] #removing Outliers"
   ]
  },
  {
   "cell_type": "code",
   "execution_count": 315,
   "metadata": {},
   "outputs": [],
   "source": [
    "pop['CFR'][pop['CFR']>17.5] = float(df[452:]['Total Deceased']/df[452:]['Total Confirmed']*100)"
   ]
  },
  {
   "cell_type": "code",
   "execution_count": 316,
   "metadata": {},
   "outputs": [
    {
     "name": "stdout",
     "output_type": "stream",
     "text": [
      "Population Mean = 1.572668013155459\n"
     ]
    }
   ],
   "source": [
    "import statistics #Mean and Standard Deviation\n",
    "print('Population Mean = '+str(statistics.mean(pop['CFR'])))\n",
    "mu_pop = statistics.mean(pop['CFR'])\n",
    "#print('Phase1 Standard Deviation = '+str(statistics.stdev(pop['CFR'])))"
   ]
  },
  {
   "cell_type": "markdown",
   "metadata": {},
   "source": [
    "# Phase 1"
   ]
  },
  {
   "cell_type": "code",
   "execution_count": 322,
   "metadata": {},
   "outputs": [
    {
     "data": {
      "text/html": [
       "<div>\n",
       "<style scoped>\n",
       "    .dataframe tbody tr th:only-of-type {\n",
       "        vertical-align: middle;\n",
       "    }\n",
       "\n",
       "    .dataframe tbody tr th {\n",
       "        vertical-align: top;\n",
       "    }\n",
       "\n",
       "    .dataframe thead th {\n",
       "        text-align: right;\n",
       "    }\n",
       "</style>\n",
       "<table border=\"1\" class=\"dataframe\">\n",
       "  <thead>\n",
       "    <tr style=\"text-align: right;\">\n",
       "      <th></th>\n",
       "      <th>index</th>\n",
       "      <th>Date</th>\n",
       "      <th>Daily Confirmed</th>\n",
       "      <th>Total Confirmed</th>\n",
       "      <th>Daily Deceased</th>\n",
       "      <th>Total Deceased</th>\n",
       "      <th>CFR</th>\n",
       "    </tr>\n",
       "  </thead>\n",
       "  <tbody>\n",
       "    <tr>\n",
       "      <th>0</th>\n",
       "      <td>62</td>\n",
       "      <td>1 April 2020</td>\n",
       "      <td>424</td>\n",
       "      <td>2059</td>\n",
       "      <td>6</td>\n",
       "      <td>53</td>\n",
       "      <td>1.415094</td>\n",
       "    </tr>\n",
       "    <tr>\n",
       "      <th>1</th>\n",
       "      <td>63</td>\n",
       "      <td>2 April 2020</td>\n",
       "      <td>486</td>\n",
       "      <td>2545</td>\n",
       "      <td>16</td>\n",
       "      <td>69</td>\n",
       "      <td>3.292181</td>\n",
       "    </tr>\n",
       "    <tr>\n",
       "      <th>2</th>\n",
       "      <td>64</td>\n",
       "      <td>3 April 2020</td>\n",
       "      <td>560</td>\n",
       "      <td>3105</td>\n",
       "      <td>14</td>\n",
       "      <td>83</td>\n",
       "      <td>2.500000</td>\n",
       "    </tr>\n",
       "    <tr>\n",
       "      <th>3</th>\n",
       "      <td>65</td>\n",
       "      <td>4 April 2020</td>\n",
       "      <td>579</td>\n",
       "      <td>3684</td>\n",
       "      <td>13</td>\n",
       "      <td>96</td>\n",
       "      <td>2.245250</td>\n",
       "    </tr>\n",
       "    <tr>\n",
       "      <th>4</th>\n",
       "      <td>66</td>\n",
       "      <td>5 April 2020</td>\n",
       "      <td>609</td>\n",
       "      <td>4293</td>\n",
       "      <td>22</td>\n",
       "      <td>118</td>\n",
       "      <td>3.612479</td>\n",
       "    </tr>\n",
       "  </tbody>\n",
       "</table>\n",
       "</div>"
      ],
      "text/plain": [
       "   index          Date  Daily Confirmed  Total Confirmed  Daily Deceased  \\\n",
       "0     62  1 April 2020              424             2059               6   \n",
       "1     63  2 April 2020              486             2545              16   \n",
       "2     64  3 April 2020              560             3105              14   \n",
       "3     65  4 April 2020              579             3684              13   \n",
       "4     66  5 April 2020              609             4293              22   \n",
       "\n",
       "   Total Deceased       CFR  \n",
       "0              53  1.415094  \n",
       "1              69  3.292181  \n",
       "2              83  2.500000  \n",
       "3              96  2.245250  \n",
       "4             118  3.612479  "
      ]
     },
     "execution_count": 322,
     "metadata": {},
     "output_type": "execute_result"
    }
   ],
   "source": [
    "df1 = pop[0:183] #extracting from 1st April, 2020 to 30th September, 2020\n",
    "df1 =  df1.reset_index()\n",
    "df1.head()"
   ]
  },
  {
   "cell_type": "code",
   "execution_count": 318,
   "metadata": {},
   "outputs": [
    {
     "name": "stdout",
     "output_type": "stream",
     "text": [
      "Phase1 Mean = 2.219044620149545\n",
      "Phase1 Standard Deviation = 0.9433562605454509\n"
     ]
    }
   ],
   "source": [
    "import statistics #Mean and Standard Deviation\n",
    "print('Phase1 Mean = '+str(statistics.mean(df1['CFR'])))\n",
    "print('Phase1 Standard Deviation = '+str(statistics.stdev(df1['CFR'])))"
   ]
  },
  {
   "cell_type": "markdown",
   "metadata": {},
   "source": [
    "Scatter plot for CFR time series data"
   ]
  },
  {
   "cell_type": "code",
   "execution_count": 393,
   "metadata": {},
   "outputs": [
    {
     "data": {
      "image/png": "[encoded data removed]",
      "text/plain": [
       "<Figure size 1000x500 with 1 Axes>"
      ]
     },
     "metadata": {},
     "output_type": "display_data"
    }
   ],
   "source": [
    "import matplotlib.pyplot as plt\n",
    "import matplotlib as mpl\n",
    "import seaborn as sns\n",
    "\n",
    "\n",
    "\n",
    "mpl.style.use('seaborn')\n",
    "plt.figure(figsize=(10,5))\n",
    "plt.scatter(df1.index, df1['CFR'], s=20)\n",
    "plt.xlabel(\"Day\")\n",
    "plt.ylabel(\"Case Fatality Rate\")\n",
    "plt.show()\n",
    "\n"
   ]
  },
  {
   "cell_type": "markdown",
   "metadata": {},
   "source": [
    "Histogram"
   ]
  },
  {
   "cell_type": "code",
   "execution_count": 392,
   "metadata": {},
   "outputs": [
    {
     "data": {
      "text/plain": [
       "[Text(0.5, 1.0, 'Frequency Histogram'), Text(0, 0.5, 'Frequency')]"
      ]
     },
     "execution_count": 392,
     "metadata": {},
     "output_type": "execute_result"
    },
    {
     "data": {
      "image/png": "[encoded data removed]",
      "text/plain": [
       "<Figure size 720x360 with 1 Axes>"
      ]
     },
     "metadata": {},
     "output_type": "display_data"
    }
   ],
   "source": [
    "%matplotlib inline\n",
    "mpl.style.use('seaborn')\n",
    "plt.figure(figsize=(10,5))\n",
    "plt.rcParams.update({'figure.figsize':(10, 4), 'figure.dpi':100})\n",
    "\n",
    "plt.hist(df1['CFR'], bins=40)\n",
    "plt.gca().set(title='Frequency Histogram', ylabel='Frequency')\n",
    "\n",
    "\n"
   ]
  },
  {
   "cell_type": "markdown",
   "metadata": {},
   "source": [
    "# Phase 2(October - Feb)"
   ]
  },
  {
   "cell_type": "code",
   "execution_count": 345,
   "metadata": {},
   "outputs": [
    {
     "data": {
      "text/html": [
       "<div>\n",
       "<style scoped>\n",
       "    .dataframe tbody tr th:only-of-type {\n",
       "        vertical-align: middle;\n",
       "    }\n",
       "\n",
       "    .dataframe tbody tr th {\n",
       "        vertical-align: top;\n",
       "    }\n",
       "\n",
       "    .dataframe thead th {\n",
       "        text-align: right;\n",
       "    }\n",
       "</style>\n",
       "<table border=\"1\" class=\"dataframe\">\n",
       "  <thead>\n",
       "    <tr style=\"text-align: right;\">\n",
       "      <th></th>\n",
       "      <th>index</th>\n",
       "      <th>Date</th>\n",
       "      <th>Daily Confirmed</th>\n",
       "      <th>Total Confirmed</th>\n",
       "      <th>Daily Deceased</th>\n",
       "      <th>Total Deceased</th>\n",
       "      <th>CFR</th>\n",
       "    </tr>\n",
       "  </thead>\n",
       "  <tbody>\n",
       "    <tr>\n",
       "      <th>0</th>\n",
       "      <td>245</td>\n",
       "      <td>1 October 2020</td>\n",
       "      <td>81784</td>\n",
       "      <td>6392060</td>\n",
       "      <td>1099</td>\n",
       "      <td>99221</td>\n",
       "      <td>1.343784</td>\n",
       "    </tr>\n",
       "    <tr>\n",
       "      <th>1</th>\n",
       "      <td>246</td>\n",
       "      <td>2 October 2020</td>\n",
       "      <td>79883</td>\n",
       "      <td>6471943</td>\n",
       "      <td>1068</td>\n",
       "      <td>100289</td>\n",
       "      <td>1.336955</td>\n",
       "    </tr>\n",
       "    <tr>\n",
       "      <th>2</th>\n",
       "      <td>247</td>\n",
       "      <td>3 October 2020</td>\n",
       "      <td>75479</td>\n",
       "      <td>6547422</td>\n",
       "      <td>937</td>\n",
       "      <td>101226</td>\n",
       "      <td>1.241405</td>\n",
       "    </tr>\n",
       "    <tr>\n",
       "      <th>3</th>\n",
       "      <td>248</td>\n",
       "      <td>4 October 2020</td>\n",
       "      <td>74770</td>\n",
       "      <td>6622192</td>\n",
       "      <td>903</td>\n",
       "      <td>102129</td>\n",
       "      <td>1.207704</td>\n",
       "    </tr>\n",
       "    <tr>\n",
       "      <th>4</th>\n",
       "      <td>249</td>\n",
       "      <td>5 October 2020</td>\n",
       "      <td>60130</td>\n",
       "      <td>6682322</td>\n",
       "      <td>886</td>\n",
       "      <td>103015</td>\n",
       "      <td>1.473474</td>\n",
       "    </tr>\n",
       "  </tbody>\n",
       "</table>\n",
       "</div>"
      ],
      "text/plain": [
       "   index            Date  Daily Confirmed  Total Confirmed  Daily Deceased  \\\n",
       "0    245  1 October 2020            81784          6392060            1099   \n",
       "1    246  2 October 2020            79883          6471943            1068   \n",
       "2    247  3 October 2020            75479          6547422             937   \n",
       "3    248  4 October 2020            74770          6622192             903   \n",
       "4    249  5 October 2020            60130          6682322             886   \n",
       "\n",
       "   Total Deceased       CFR  \n",
       "0           99221  1.343784  \n",
       "1          100289  1.336955  \n",
       "2          101226  1.241405  \n",
       "3          102129  1.207704  \n",
       "4          103015  1.473474  "
      ]
     },
     "execution_count": 345,
     "metadata": {},
     "output_type": "execute_result"
    }
   ],
   "source": [
    "df2 = pop[183:334] #Extracting from 1st October, 2020 to 30th January, 2021\n",
    "df2 = df2.reset_index()\n",
    "df2.head()"
   ]
  },
  {
   "cell_type": "code",
   "execution_count": 346,
   "metadata": {},
   "outputs": [
    {
     "name": "stdout",
     "output_type": "stream",
     "text": [
      "Phase2 mean = 1.1663602438452223\n",
      "Phase2 Standard Deviation = 0.23878407743069166\n"
     ]
    }
   ],
   "source": [
    "print('Phase2 mean = '+str(statistics.mean(df2['CFR'])))\n",
    "print('Phase2 Standard Deviation = '+str(statistics.stdev(df2['CFR'])))"
   ]
  },
  {
   "cell_type": "code",
   "execution_count": 395,
   "metadata": {},
   "outputs": [
    {
     "data": {
      "image/png": "[encoded data removed]",
      "text/plain": [
       "<Figure size 1000x500 with 1 Axes>"
      ]
     },
     "metadata": {},
     "output_type": "display_data"
    }
   ],
   "source": [
    "import matplotlib.pyplot as plt\n",
    "mpl.style.use('seaborn')\n",
    "plt.figure(figsize=(10,5))\n",
    "plt.scatter(df2.index, df2['CFR'], s=20, c='#e66c80')\n",
    "plt.xlabel(\"Day\")\n",
    "plt.ylabel(\"Case Fatality Rate\")\n",
    "plt.show()\n",
    "\n"
   ]
  },
  {
   "cell_type": "code",
   "execution_count": 328,
   "metadata": {},
   "outputs": [
    {
     "data": {
      "text/plain": [
       "[Text(0.5, 1.0, 'Frequency Histogram'), Text(0, 0.5, 'Frequency')]"
      ]
     },
     "execution_count": 328,
     "metadata": {},
     "output_type": "execute_result"
    },
    {
     "data": {
      "image/png": "[encoded data removed]",
      "text/plain": [
       "<Figure size 720x360 with 1 Axes>"
      ]
     },
     "metadata": {},
     "output_type": "display_data"
    }
   ],
   "source": [
    "%matplotlib inline\n",
    "mpl.style.use('seaborn')\n",
    "plt.figure(figsize=(10,5))\n",
    "plt.rcParams.update({'figure.figsize':(10, 5), 'figure.dpi':100})\n",
    "\n",
    "plt.hist(df2['CFR'], bins=10, color = \"#e66c80\")\n",
    "plt.gca().set(title='Frequency Histogram', ylabel='Frequency')"
   ]
  },
  {
   "cell_type": "markdown",
   "metadata": {},
   "source": [
    "# Phase 3 (March - till Date)"
   ]
  },
  {
   "cell_type": "code",
   "execution_count": 348,
   "metadata": {},
   "outputs": [
    {
     "data": {
      "text/html": [
       "<div>\n",
       "<style scoped>\n",
       "    .dataframe tbody tr th:only-of-type {\n",
       "        vertical-align: middle;\n",
       "    }\n",
       "\n",
       "    .dataframe tbody tr th {\n",
       "        vertical-align: top;\n",
       "    }\n",
       "\n",
       "    .dataframe thead th {\n",
       "        text-align: right;\n",
       "    }\n",
       "</style>\n",
       "<table border=\"1\" class=\"dataframe\">\n",
       "  <thead>\n",
       "    <tr style=\"text-align: right;\">\n",
       "      <th></th>\n",
       "      <th>index</th>\n",
       "      <th>Date</th>\n",
       "      <th>Daily Confirmed</th>\n",
       "      <th>Total Confirmed</th>\n",
       "      <th>Daily Deceased</th>\n",
       "      <th>Total Deceased</th>\n",
       "      <th>CFR</th>\n",
       "    </tr>\n",
       "  </thead>\n",
       "  <tbody>\n",
       "    <tr>\n",
       "      <th>0</th>\n",
       "      <td>396</td>\n",
       "      <td>1 March 2021</td>\n",
       "      <td>12270</td>\n",
       "      <td>11124248</td>\n",
       "      <td>92</td>\n",
       "      <td>156695</td>\n",
       "      <td>0.749796</td>\n",
       "    </tr>\n",
       "    <tr>\n",
       "      <th>1</th>\n",
       "      <td>397</td>\n",
       "      <td>2 March 2021</td>\n",
       "      <td>14998</td>\n",
       "      <td>11139246</td>\n",
       "      <td>98</td>\n",
       "      <td>156793</td>\n",
       "      <td>0.653420</td>\n",
       "    </tr>\n",
       "    <tr>\n",
       "      <th>2</th>\n",
       "      <td>398</td>\n",
       "      <td>3 March 2021</td>\n",
       "      <td>17425</td>\n",
       "      <td>11156671</td>\n",
       "      <td>87</td>\n",
       "      <td>156880</td>\n",
       "      <td>0.499283</td>\n",
       "    </tr>\n",
       "    <tr>\n",
       "      <th>3</th>\n",
       "      <td>399</td>\n",
       "      <td>4 March 2021</td>\n",
       "      <td>16824</td>\n",
       "      <td>11173495</td>\n",
       "      <td>113</td>\n",
       "      <td>156993</td>\n",
       "      <td>0.671660</td>\n",
       "    </tr>\n",
       "    <tr>\n",
       "      <th>4</th>\n",
       "      <td>400</td>\n",
       "      <td>5 March 2021</td>\n",
       "      <td>18324</td>\n",
       "      <td>11191819</td>\n",
       "      <td>109</td>\n",
       "      <td>157102</td>\n",
       "      <td>0.594848</td>\n",
       "    </tr>\n",
       "  </tbody>\n",
       "</table>\n",
       "</div>"
      ],
      "text/plain": [
       "   index          Date  Daily Confirmed  Total Confirmed  Daily Deceased  \\\n",
       "0    396  1 March 2021            12270         11124248              92   \n",
       "1    397  2 March 2021            14998         11139246              98   \n",
       "2    398  3 March 2021            17425         11156671              87   \n",
       "3    399  4 March 2021            16824         11173495             113   \n",
       "4    400  5 March 2021            18324         11191819             109   \n",
       "\n",
       "   Total Deceased       CFR  \n",
       "0          156695  0.749796  \n",
       "1          156793  0.653420  \n",
       "2          156880  0.499283  \n",
       "3          156993  0.671660  \n",
       "4          157102  0.594848  "
      ]
     },
     "execution_count": 348,
     "metadata": {},
     "output_type": "execute_result"
    }
   ],
   "source": [
    "df3 = pop[334:] #Extracting from 1st February, 2021 till date\n",
    "df3 = df3.reset_index()\n",
    "df3.head()"
   ]
  },
  {
   "cell_type": "code",
   "execution_count": 349,
   "metadata": {},
   "outputs": [
    {
     "name": "stdout",
     "output_type": "stream",
     "text": [
      "Phase3 mean = 0.5738180848384073\n",
      "Phase3 Standard Deviation = 0.10805766190798674\n"
     ]
    }
   ],
   "source": [
    "print('Phase3 mean = '+str(statistics.mean(df3['CFR'])))\n",
    "print('Phase3 Standard Deviation = '+str(statistics.stdev(df3['CFR'])))"
   ]
  },
  {
   "cell_type": "code",
   "execution_count": 365,
   "metadata": {},
   "outputs": [
    {
     "data": {
      "image/png": "[encoded data removed]",
      "text/plain": [
       "<Figure size 1000x500 with 1 Axes>"
      ]
     },
     "metadata": {},
     "output_type": "display_data"
    }
   ],
   "source": [
    "import matplotlib.pyplot as plt\n",
    "plt.figure(figsize=(10,5))\n",
    "plt.scatter(df3.index, df3['CFR'], s=20, c='#8ebf7a')\n",
    "plt.xlabel(\"Day\")\n",
    "plt.ylabel(\"Case Fatality Rate\")\n",
    "plt.show()"
   ]
  },
  {
   "cell_type": "code",
   "execution_count": 364,
   "metadata": {},
   "outputs": [
    {
     "data": {
      "text/plain": [
       "[Text(0.5, 1.0, 'Frequency Histogram'), Text(0, 0.5, 'Frequency')]"
      ]
     },
     "execution_count": 364,
     "metadata": {},
     "output_type": "execute_result"
    },
    {
     "data": {
      "image/png": "[encoded data removed]",
      "text/plain": [
       "<Figure size 720x360 with 1 Axes>"
      ]
     },
     "metadata": {},
     "output_type": "display_data"
    }
   ],
   "source": [
    "%matplotlib inline\n",
    "mpl.style.use('seaborn')\n",
    "plt.figure(figsize=(10,5))\n",
    "plt.rcParams.update({'figure.figsize':(10, 5), 'figure.dpi':100})\n",
    "\n",
    "plt.hist(df3['CFR'], bins=10, color = \"#8ebf7a\")\n",
    "plt.gca().set(title='Frequency Histogram', ylabel='Frequency')"
   ]
  },
  {
   "cell_type": "markdown",
   "metadata": {},
   "source": [
    "# z - test"
   ]
  },
  {
   "cell_type": "markdown",
   "metadata": {},
   "source": [
    "Testing Phase 1 against the Population Mean"
   ]
  },
  {
   "cell_type": "code",
   "execution_count": 335,
   "metadata": {},
   "outputs": [
    {
     "name": "stdout",
     "output_type": "stream",
     "text": [
      "mean=2.23 stdv=0.08\n",
      "Reject Null Hypothesis\n"
     ]
    }
   ],
   "source": [
    "#z-test\n",
    "import math\n",
    "import numpy as np\n",
    "from numpy.random import randn\n",
    "from statsmodels.stats.weightstats import ztest\n",
    "  \n",
    "# Generate a random array of 50 numbers having mean 110 and sd 15\n",
    "# similar to the IQ scores data we assume above\n",
    "mean_iq = statistics.mean(df1['CFR'])\n",
    "sd_iq = statistics.stdev(df1['CFR'])/math.sqrt(len(df1['CFR']))\n",
    "alpha =0.05\n",
    "null_mean = mu_pop\n",
    "data = sd_iq*randn(len(df1['CFR']))+mean_iq\n",
    "# print mean and sd\n",
    "print('mean=%.2f stdv=%.2f' % (np.mean(data), np.std(data)))\n",
    "  \n",
    "# now we perform the test. In this function, we passed data, in value parameter\n",
    "# we passed mean value in the null hypothesis, in alternative hypothesis we check whether the\n",
    "# mean is larger\n",
    "  \n",
    "ztest_Score, p_value= ztest(data,value = null_mean, alternative='larger')\n",
    "# the function outputs a p_value and z-score corresponding to that value, we compare the \n",
    "# p-value with alpha, if it is greater than alpha then we do not null hypothesis \n",
    "# else we reject it.\n",
    "  \n",
    "if(p_value <  alpha):\n",
    "  print(\"Reject Null Hypothesis\")\n",
    "else:\n",
    "  print(\"Fail to Reject NUll Hypothesis\")"
   ]
  },
  {
   "cell_type": "markdown",
   "metadata": {},
   "source": [
    "Testing Phase 2 against the Population Mean"
   ]
  },
  {
   "cell_type": "code",
   "execution_count": 336,
   "metadata": {},
   "outputs": [
    {
     "name": "stdout",
     "output_type": "stream",
     "text": [
      "mean=1.17 stdv=0.02\n",
      "Accept NUll Hypothesis\n"
     ]
    }
   ],
   "source": [
    "mean_iq = statistics.mean(df2['CFR'])\n",
    "sd_iq = statistics.stdev(df2['CFR'])/math.sqrt(len(df2['CFR']))\n",
    "alpha =0.05\n",
    "null_mean = mu_pop\n",
    "data = sd_iq*randn(len(df2['CFR']))+mean_iq\n",
    "# print mean and sd\n",
    "print('mean=%.2f stdv=%.2f' % (np.mean(data), np.std(data)))\n",
    "  \n",
    "# now we perform the test. In this function, we passed data, in value parameter\n",
    "# we passed mean value in the null hypothesis, in alternative hypothesis we check whether the\n",
    "# mean is larger\n",
    "  \n",
    "ztest_Score, p_value= ztest(data,value = null_mean, alternative='larger')\n",
    "# the function outputs a p_value and z-score corresponding to that value, we compare the \n",
    "# p-value with alpha, if it is greater than alpha then we do not null hypothesis \n",
    "# else we reject it.\n",
    "  \n",
    "if(p_value <  alpha):\n",
    "  print(\"Reject Null Hypothesis\")\n",
    "else:\n",
    "  print(\"Accept NUll Hypothesis\")"
   ]
  },
  {
   "cell_type": "markdown",
   "metadata": {},
   "source": [
    "Testing Phase 3 against the Population Mean"
   ]
  },
  {
   "cell_type": "code",
   "execution_count": 337,
   "metadata": {},
   "outputs": [
    {
     "name": "stdout",
     "output_type": "stream",
     "text": [
      "mean=0.58 stdv=0.01\n",
      "Accept NUll Hypothesis\n"
     ]
    }
   ],
   "source": [
    "mean_iq = statistics.mean(df3['CFR'])\n",
    "sd_iq = statistics.stdev(df3['CFR'])/math.sqrt(len(df3['CFR']))\n",
    "alpha =0.05\n",
    "null_mean = mu_pop\n",
    "data = sd_iq*randn(len(df3['CFR']))+mean_iq\n",
    "# print mean and sd\n",
    "print('mean=%.2f stdv=%.2f' % (np.mean(data), np.std(data)))\n",
    "  \n",
    "# now we perform the test. In this function, we passed data, in value parameter\n",
    "# we passed mean value in the null hypothesis, in alternative hypothesis we check whether the\n",
    "# mean is larger\n",
    "  \n",
    "ztest_Score, p_value= ztest(data,value = null_mean, alternative='larger')\n",
    "# the function outputs a p_value and z-score corresponding to that value, we compare the \n",
    "# p-value with alpha, if it is greater than alpha then we do not null hypothesis \n",
    "# else we reject it.\n",
    "  \n",
    "if(p_value <  alpha):\n",
    "  print(\"Reject Null Hypothesis\")\n",
    "else:\n",
    "  print(\"Accept NUll Hypothesis\")"
   ]
  },
  {
   "cell_type": "markdown",
   "metadata": {},
   "source": [
    "# Two Sample z-test"
   ]
  },
  {
   "cell_type": "markdown",
   "metadata": {},
   "source": [
    "Phase 2 against Phase 1"
   ]
  },
  {
   "cell_type": "code",
   "execution_count": 338,
   "metadata": {},
   "outputs": [
    {
     "name": "stdout",
     "output_type": "stream",
     "text": [
      "1.0287970247265223e-40\n",
      "reject null hypothesis\n"
     ]
    }
   ],
   "source": [
    "from scipy import stats\n",
    "from statsmodels.stats import weightstats as stests\n",
    "\n",
    "ztest ,pval1 = stests.ztest(df2['CFR'], x2=df1['CFR'], value=0,alternative='two-sided')\n",
    "print(float(pval1))\n",
    "if pval1<0.05:\n",
    "    print(\"reject null hypothesis\")\n",
    "else:\n",
    "    print(\"accept null hypothesis\")"
   ]
  },
  {
   "cell_type": "markdown",
   "metadata": {},
   "source": [
    "Phase 3 against Phase 1"
   ]
  },
  {
   "cell_type": "code",
   "execution_count": 339,
   "metadata": {},
   "outputs": [
    {
     "name": "stdout",
     "output_type": "stream",
     "text": [
      "2.478068233595394e-39\n",
      "reject null hypothesis\n"
     ]
    }
   ],
   "source": [
    "from scipy import stats\n",
    "from statsmodels.stats import weightstats as stests\n",
    "\n",
    "ztest ,pval1 = stests.ztest(df3['CFR'], x2=df1['CFR'], value=0,alternative='two-sided')\n",
    "print(float(pval1))\n",
    "if pval1<0.05:\n",
    "    print(\"reject null hypothesis\")\n",
    "else:\n",
    "    print(\"accept null hypothesis\")"
   ]
  },
  {
   "cell_type": "markdown",
   "metadata": {},
   "source": [
    "Phase 3 against Phase 2"
   ]
  },
  {
   "cell_type": "code",
   "execution_count": 340,
   "metadata": {},
   "outputs": [
    {
     "name": "stdout",
     "output_type": "stream",
     "text": [
      "1.1305802244312386e-72\n",
      "reject null hypothesis\n"
     ]
    }
   ],
   "source": [
    "from scipy import stats\n",
    "from statsmodels.stats import weightstats as stests\n",
    "\n",
    "ztest ,pval1 = stests.ztest(df3['CFR'], x2=df2['CFR'], value=0,alternative='two-sided')\n",
    "print(float(pval1))\n",
    "if pval1<0.05:\n",
    "    print(\"reject null hypothesis\")\n",
    "else:\n",
    "    print(\"accept null hypothesis\")"
   ]
  },
  {
   "cell_type": "markdown",
   "metadata": {},
   "source": [
    "Visualizing all the Distributions"
   ]
  },
  {
   "cell_type": "code",
   "execution_count": 396,
   "metadata": {},
   "outputs": [],
   "source": [
    "time1 = pop['CFR'].to_frame()\n",
    "time2 = df1['CFR'].to_frame()\n",
    "time3 = df2['CFR'].to_frame()\n",
    "time4 = df3['CFR'].to_frame()"
   ]
  },
  {
   "cell_type": "code",
   "execution_count": 397,
   "metadata": {},
   "outputs": [],
   "source": [
    "time1[\"Data\"] = \"Overall\"\n",
    "time2[\"Data\"] = \"Dawn\"\n",
    "time3[\"Data\"] = \"Calm\"\n",
    "time4[\"Data\"] = \"Storm\""
   ]
  },
  {
   "cell_type": "code",
   "execution_count": 398,
   "metadata": {},
   "outputs": [],
   "source": [
    "times = [time1, time2, time3, time4]\n",
    "allTimes = pd.concat(times)"
   ]
  },
  {
   "cell_type": "code",
   "execution_count": 399,
   "metadata": {},
   "outputs": [],
   "source": [
    "result = pd.concat(times)\n",
    "#result"
   ]
  },
  {
   "cell_type": "code",
   "execution_count": 290,
   "metadata": {},
   "outputs": [],
   "source": [
    "import seaborn as sns\n",
    "sns.set_theme(style=\"whitegrid\")"
   ]
  },
  {
   "cell_type": "code",
   "execution_count": 291,
   "metadata": {},
   "outputs": [
    {
     "data": {
      "image/png": "[encoded data removed]",
      "text/plain": [
       "<Figure size 1000x500 with 1 Axes>"
      ]
     },
     "metadata": {},
     "output_type": "display_data"
    }
   ],
   "source": [
    "ax = sns.boxplot(x=\"Data\", y=\"CFR\", data=result)"
   ]
  },
  {
   "cell_type": "markdown",
   "metadata": {},
   "source": [
    "# Analysing Last 4 weeks"
   ]
  },
  {
   "cell_type": "code",
   "execution_count": 351,
   "metadata": {},
   "outputs": [],
   "source": [
    "last_month = df3['CFR'][-28:] #Extracting last 4 week's data"
   ]
  },
  {
   "cell_type": "code",
   "execution_count": 352,
   "metadata": {},
   "outputs": [],
   "source": [
    "last_month_data = df3[-28:]"
   ]
  },
  {
   "cell_type": "code",
   "execution_count": 353,
   "metadata": {},
   "outputs": [
    {
     "data": {
      "text/html": [
       "<div>\n",
       "<style scoped>\n",
       "    .dataframe tbody tr th:only-of-type {\n",
       "        vertical-align: middle;\n",
       "    }\n",
       "\n",
       "    .dataframe tbody tr th {\n",
       "        vertical-align: top;\n",
       "    }\n",
       "\n",
       "    .dataframe thead th {\n",
       "        text-align: right;\n",
       "    }\n",
       "</style>\n",
       "<table border=\"1\" class=\"dataframe\">\n",
       "  <thead>\n",
       "    <tr style=\"text-align: right;\">\n",
       "      <th></th>\n",
       "      <th>level_0</th>\n",
       "      <th>index</th>\n",
       "      <th>Date</th>\n",
       "      <th>Daily Confirmed</th>\n",
       "      <th>Total Confirmed</th>\n",
       "      <th>Daily Deceased</th>\n",
       "      <th>Total Deceased</th>\n",
       "      <th>CFR</th>\n",
       "    </tr>\n",
       "  </thead>\n",
       "  <tbody>\n",
       "    <tr>\n",
       "      <th>0</th>\n",
       "      <td>29</td>\n",
       "      <td>425</td>\n",
       "      <td>30 March 2021</td>\n",
       "      <td>53237</td>\n",
       "      <td>12148521</td>\n",
       "      <td>355</td>\n",
       "      <td>161911</td>\n",
       "      <td>0.666829</td>\n",
       "    </tr>\n",
       "    <tr>\n",
       "      <th>1</th>\n",
       "      <td>30</td>\n",
       "      <td>426</td>\n",
       "      <td>31 March 2021</td>\n",
       "      <td>72113</td>\n",
       "      <td>12220634</td>\n",
       "      <td>458</td>\n",
       "      <td>162369</td>\n",
       "      <td>0.635114</td>\n",
       "    </tr>\n",
       "    <tr>\n",
       "      <th>2</th>\n",
       "      <td>31</td>\n",
       "      <td>427</td>\n",
       "      <td>1 April 2021</td>\n",
       "      <td>81398</td>\n",
       "      <td>12302032</td>\n",
       "      <td>468</td>\n",
       "      <td>162837</td>\n",
       "      <td>0.574953</td>\n",
       "    </tr>\n",
       "    <tr>\n",
       "      <th>3</th>\n",
       "      <td>32</td>\n",
       "      <td>428</td>\n",
       "      <td>2 April 2021</td>\n",
       "      <td>89023</td>\n",
       "      <td>12391055</td>\n",
       "      <td>713</td>\n",
       "      <td>163550</td>\n",
       "      <td>0.800917</td>\n",
       "    </tr>\n",
       "    <tr>\n",
       "      <th>4</th>\n",
       "      <td>33</td>\n",
       "      <td>429</td>\n",
       "      <td>3 April 2021</td>\n",
       "      <td>92994</td>\n",
       "      <td>12484049</td>\n",
       "      <td>514</td>\n",
       "      <td>164064</td>\n",
       "      <td>0.552724</td>\n",
       "    </tr>\n",
       "  </tbody>\n",
       "</table>\n",
       "</div>"
      ],
      "text/plain": [
       "   level_0  index           Date  Daily Confirmed  Total Confirmed  \\\n",
       "0       29    425  30 March 2021            53237         12148521   \n",
       "1       30    426  31 March 2021            72113         12220634   \n",
       "2       31    427   1 April 2021            81398         12302032   \n",
       "3       32    428   2 April 2021            89023         12391055   \n",
       "4       33    429   3 April 2021            92994         12484049   \n",
       "\n",
       "   Daily Deceased  Total Deceased       CFR  \n",
       "0             355          161911  0.666829  \n",
       "1             458          162369  0.635114  \n",
       "2             468          162837  0.574953  \n",
       "3             713          163550  0.800917  \n",
       "4             514          164064  0.552724  "
      ]
     },
     "execution_count": 353,
     "metadata": {},
     "output_type": "execute_result"
    }
   ],
   "source": [
    "last_month_data = last_month_data.reset_index()\n",
    "last_month_data.head()"
   ]
  },
  {
   "cell_type": "code",
   "execution_count": 354,
   "metadata": {},
   "outputs": [
    {
     "data": {
      "text/html": [
       "<div>\n",
       "<style scoped>\n",
       "    .dataframe tbody tr th:only-of-type {\n",
       "        vertical-align: middle;\n",
       "    }\n",
       "\n",
       "    .dataframe tbody tr th {\n",
       "        vertical-align: top;\n",
       "    }\n",
       "\n",
       "    .dataframe thead th {\n",
       "        text-align: right;\n",
       "    }\n",
       "</style>\n",
       "<table border=\"1\" class=\"dataframe\">\n",
       "  <thead>\n",
       "    <tr style=\"text-align: right;\">\n",
       "      <th></th>\n",
       "      <th>X</th>\n",
       "      <th>index</th>\n",
       "      <th>Date</th>\n",
       "      <th>Daily Confirmed</th>\n",
       "      <th>Total Confirmed</th>\n",
       "      <th>Daily Deceased</th>\n",
       "      <th>Total Deceased</th>\n",
       "      <th>CFR</th>\n",
       "    </tr>\n",
       "  </thead>\n",
       "  <tbody>\n",
       "    <tr>\n",
       "      <th>0</th>\n",
       "      <td>29</td>\n",
       "      <td>425</td>\n",
       "      <td>30 March 2021</td>\n",
       "      <td>53237</td>\n",
       "      <td>12148521</td>\n",
       "      <td>355</td>\n",
       "      <td>161911</td>\n",
       "      <td>0.666829</td>\n",
       "    </tr>\n",
       "    <tr>\n",
       "      <th>1</th>\n",
       "      <td>30</td>\n",
       "      <td>426</td>\n",
       "      <td>31 March 2021</td>\n",
       "      <td>72113</td>\n",
       "      <td>12220634</td>\n",
       "      <td>458</td>\n",
       "      <td>162369</td>\n",
       "      <td>0.635114</td>\n",
       "    </tr>\n",
       "    <tr>\n",
       "      <th>2</th>\n",
       "      <td>31</td>\n",
       "      <td>427</td>\n",
       "      <td>1 April 2021</td>\n",
       "      <td>81398</td>\n",
       "      <td>12302032</td>\n",
       "      <td>468</td>\n",
       "      <td>162837</td>\n",
       "      <td>0.574953</td>\n",
       "    </tr>\n",
       "    <tr>\n",
       "      <th>3</th>\n",
       "      <td>32</td>\n",
       "      <td>428</td>\n",
       "      <td>2 April 2021</td>\n",
       "      <td>89023</td>\n",
       "      <td>12391055</td>\n",
       "      <td>713</td>\n",
       "      <td>163550</td>\n",
       "      <td>0.800917</td>\n",
       "    </tr>\n",
       "    <tr>\n",
       "      <th>4</th>\n",
       "      <td>33</td>\n",
       "      <td>429</td>\n",
       "      <td>3 April 2021</td>\n",
       "      <td>92994</td>\n",
       "      <td>12484049</td>\n",
       "      <td>514</td>\n",
       "      <td>164064</td>\n",
       "      <td>0.552724</td>\n",
       "    </tr>\n",
       "  </tbody>\n",
       "</table>\n",
       "</div>"
      ],
      "text/plain": [
       "    X  index           Date  Daily Confirmed  Total Confirmed  Daily Deceased  \\\n",
       "0  29    425  30 March 2021            53237         12148521             355   \n",
       "1  30    426  31 March 2021            72113         12220634             458   \n",
       "2  31    427   1 April 2021            81398         12302032             468   \n",
       "3  32    428   2 April 2021            89023         12391055             713   \n",
       "4  33    429   3 April 2021            92994         12484049             514   \n",
       "\n",
       "   Total Deceased       CFR  \n",
       "0          161911  0.666829  \n",
       "1          162369  0.635114  \n",
       "2          162837  0.574953  \n",
       "3          163550  0.800917  \n",
       "4          164064  0.552724  "
      ]
     },
     "execution_count": 354,
     "metadata": {},
     "output_type": "execute_result"
    }
   ],
   "source": [
    "last_month_data = last_month_data.rename(columns={\"level_0\": \"X\"})\n",
    "last_month_data.head()"
   ]
  },
  {
   "cell_type": "code",
   "execution_count": 149,
   "metadata": {},
   "outputs": [],
   "source": [
    "last_month_data.to_csv('last_month.csv')"
   ]
  },
  {
   "cell_type": "markdown",
   "metadata": {},
   "source": [
    "One Sample T-test (against Population Mean)"
   ]
  },
  {
   "cell_type": "code",
   "execution_count": 355,
   "metadata": {},
   "outputs": [
    {
     "name": "stdout",
     "output_type": "stream",
     "text": [
      "t Statistic:  -47.4354621442257\n",
      "P Value:  1.5252515175502669e-27\n"
     ]
    }
   ],
   "source": [
    "from scipy.stats import ttest_1samp\n",
    "tscore, pvalue = ttest_1samp(last_month, popmean=mu_pop)\n",
    "print(\"t Statistic: \", tscore)  \n",
    "print(\"P Value: \", pvalue)"
   ]
  },
  {
   "cell_type": "markdown",
   "metadata": {},
   "source": [
    "Reject Null Hypothesis"
   ]
  },
  {
   "cell_type": "markdown",
   "metadata": {},
   "source": [
    "# Results"
   ]
  },
  {
   "cell_type": "markdown",
   "metadata": {},
   "source": [
    "1. Phase 1 vs Population - Reject Null Hypothesis \n",
    "2. Phase 2 vs Population - Accept Null Hypothesis\n",
    "3. Phase 3 vs Population - Accept Null Hypothesis\n",
    "4. Phase 1 vs Phase 2 - Reject Null Hypothesis\n",
    "5. Phase 1 vs Phase 3 - Reject Null Hypothesis\n",
    "6. Phase 2 vs Phase 3 - Reject Null Hypothesis\n",
    "7. Last 28 days vs Population - Reject Null Hypothesis (t-test)"
   ]
  },
  {
   "cell_type": "markdown",
   "metadata": {},
   "source": [
    "# SIR Model"
   ]
  },
  {
   "cell_type": "code",
   "execution_count": 151,
   "metadata": {},
   "outputs": [],
   "source": [
    "from astropy import modeling"
   ]
  },
  {
   "cell_type": "code",
   "execution_count": 152,
   "metadata": {},
   "outputs": [],
   "source": [
    "x=last_month_data['X']"
   ]
  },
  {
   "cell_type": "markdown",
   "metadata": {},
   "source": [
    "# Predicting Cases"
   ]
  },
  {
   "cell_type": "code",
   "execution_count": 400,
   "metadata": {},
   "outputs": [],
   "source": [
    "fitter = modeling.fitting.LevMarLSQFitter()\n",
    "model = modeling.models.Gaussian1D()   # depending on the data you need to give some initial values\n",
    "fitted_model = fitter(model, x, last_month_data['Daily Confirmed'])"
   ]
  },
  {
   "cell_type": "code",
   "execution_count": 401,
   "metadata": {},
   "outputs": [
    {
     "data": {
      "text/plain": [
       "[<matplotlib.lines.Line2D at 0x1b380880ee0>]"
      ]
     },
     "execution_count": 401,
     "metadata": {},
     "output_type": "execute_result"
    },
    {
     "data": {
      "image/png": "[encoded data removed]",
      "text/plain": [
       "<Figure size 800x550 with 1 Axes>"
      ]
     },
     "metadata": {},
     "output_type": "display_data"
    }
   ],
   "source": [
    "plt.plot(x, last_month_data['Daily Confirmed'])\n",
    "plt.plot(x, fitted_model(x))"
   ]
  },
  {
   "cell_type": "code",
   "execution_count": 402,
   "metadata": {},
   "outputs": [
    {
     "data": {
      "text/plain": [
       "[<matplotlib.lines.Line2D at 0x1b380a935b0>]"
      ]
     },
     "execution_count": 402,
     "metadata": {},
     "output_type": "execute_result"
    },
    {
     "data": {
      "image/png": "[encoded data removed]",
      "text/plain": [
       "<Figure size 1000x500 with 1 Axes>"
      ]
     },
     "metadata": {},
     "output_type": "display_data"
    }
   ],
   "source": [
    "plt.figure(figsize=(10,5))\n",
    "plt.xlabel('DAY') \n",
    "plt.ylabel('Cases Reported') \n",
    "plt.bar(x, last_month_data['Daily Confirmed'], color ='#7baaad')\n",
    "plt.plot(x, fitted_model(x), color ='orange')"
   ]
  },
  {
   "cell_type": "code",
   "execution_count": 403,
   "metadata": {},
   "outputs": [],
   "source": [
    "l = [i for i in range(0, 35)]\n",
    "l = pd.Series(l)"
   ]
  },
  {
   "cell_type": "markdown",
   "metadata": {},
   "source": [
    "Next week forecasts for Daily Cases"
   ]
  },
  {
   "cell_type": "code",
   "execution_count": 405,
   "metadata": {},
   "outputs": [
    {
     "data": {
      "text/plain": [
       "array([367247.16746964, 375154.89015107, 382036.34681742, 387829.34770764,\n",
       "       392480.9397012 , 395948.21203254, 398198.95530315])"
      ]
     },
     "execution_count": 405,
     "metadata": {},
     "output_type": "execute_result"
    }
   ],
   "source": [
    "#forecasts\n",
    "fitted_model(l)[-7:]"
   ]
  },
  {
   "cell_type": "code",
   "execution_count": 408,
   "metadata": {},
   "outputs": [
    {
     "name": "stdout",
     "output_type": "stream",
     "text": [
      "Day 1: 367247.1674696417\n",
      "Day 2: 375154.89015107206\n",
      "Day 3: 382036.3468174187\n",
      "Day 4: 387829.34770764067\n",
      "Day 5: 392480.93970120064\n",
      "Day 6: 395948.21203253954\n",
      "Day 7: 398198.95530315384\n"
     ]
    }
   ],
   "source": [
    "n=1\n",
    "for i in fitted_model(l)[-7:]:\n",
    "    print('Day '+str(n)+': '+str(i))\n",
    "    n=n+1"
   ]
  },
  {
   "cell_type": "markdown",
   "metadata": {},
   "source": [
    "# Predicting Deaths"
   ]
  },
  {
   "cell_type": "code",
   "execution_count": 409,
   "metadata": {},
   "outputs": [],
   "source": [
    "fitter = modeling.fitting.LevMarLSQFitter()\n",
    "model = modeling.models.Gaussian1D()   # depending on the data you need to give some initial values\n",
    "fitted_model = fitter(model, x, last_month_data['Daily Deceased'])"
   ]
  },
  {
   "cell_type": "code",
   "execution_count": 410,
   "metadata": {},
   "outputs": [
    {
     "data": {
      "text/plain": [
       "[<matplotlib.lines.Line2D at 0x1b38026c550>]"
      ]
     },
     "execution_count": 410,
     "metadata": {},
     "output_type": "execute_result"
    },
    {
     "data": {
      "image/png": "[encoded data removed]",
      "text/plain": [
       "<Figure size 1000x500 with 1 Axes>"
      ]
     },
     "metadata": {},
     "output_type": "display_data"
    }
   ],
   "source": [
    "plt.figure(figsize=(10,5))\n",
    "plt.plot(x, last_month_data['Daily Deceased'])\n",
    "plt.plot(x, fitted_model(x))"
   ]
  },
  {
   "cell_type": "code",
   "execution_count": 411,
   "metadata": {},
   "outputs": [
    {
     "data": {
      "text/plain": [
       "[<matplotlib.lines.Line2D at 0x1b3801f97f0>]"
      ]
     },
     "execution_count": 411,
     "metadata": {},
     "output_type": "execute_result"
    },
    {
     "data": {
      "image/png": "[encoded data removed]",
      "text/plain": [
       "<Figure size 1000x500 with 1 Axes>"
      ]
     },
     "metadata": {},
     "output_type": "display_data"
    }
   ],
   "source": [
    "plt.figure(figsize=(10,5))\n",
    "plt.xlabel('DAY') \n",
    "plt.ylabel('Deaths') \n",
    "plt.bar(x, last_month_data['Daily Deceased'], color ='#b895c7')\n",
    "plt.plot(x, fitted_model(x), color ='orange')"
   ]
  },
  {
   "cell_type": "markdown",
   "metadata": {},
   "source": [
    "Daily Deaths Forecast for next week"
   ]
  },
  {
   "cell_type": "code",
   "execution_count": 412,
   "metadata": {
    "scrolled": true
   },
   "outputs": [
    {
     "name": "stdout",
     "output_type": "stream",
     "text": [
      "Day 1: 3237.4536560872666\n",
      "Day 2: 3482.092763145873\n",
      "Day 3: 3743.0382958975697\n",
      "Day 4: 4021.1971128000773\n",
      "Day 5: 4317.512575848549\n",
      "Day 6: 4632.964986229754\n",
      "Day 7: 4968.571940807789\n"
     ]
    }
   ],
   "source": [
    "n=1\n",
    "for i in fitted_model(l)[-7:]:\n",
    "    print('Day '+str(n)+': '+str(i))\n",
    "    n=n+1"
   ]
  }
 ],
 "metadata": {
  "kernelspec": {
   "display_name": "Python 3",
   "language": "python",
   "name": "python3"
  },
  "language_info": {
   "codemirror_mode": {
    "name": "ipython",
    "version": 3
   },
   "file_extension": ".py",
   "mimetype": "text/x-python",
   "name": "python",
   "nbconvert_exporter": "python",
   "pygments_lexer": "ipython3",
   "version": "3.8.5"
  }
 },
 "nbformat": 4,
 "nbformat_minor": 4
}
