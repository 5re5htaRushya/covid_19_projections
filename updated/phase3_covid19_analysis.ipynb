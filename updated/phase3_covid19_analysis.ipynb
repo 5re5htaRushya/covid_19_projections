{
 "cells": [
  {
   "cell_type": "code",
   "execution_count": 1,
   "metadata": {},
   "outputs": [],
   "source": [
    "import numpy as np\n",
    "import pandas as pd"
   ]
  },
  {
   "cell_type": "code",
   "execution_count": 2,
   "metadata": {},
   "outputs": [
    {
     "data": {
      "text/html": [
       "<div>\n",
       "<style scoped>\n",
       "    .dataframe tbody tr th:only-of-type {\n",
       "        vertical-align: middle;\n",
       "    }\n",
       "\n",
       "    .dataframe tbody tr th {\n",
       "        vertical-align: top;\n",
       "    }\n",
       "\n",
       "    .dataframe thead th {\n",
       "        text-align: right;\n",
       "    }\n",
       "</style>\n",
       "<table border=\"1\" class=\"dataframe\">\n",
       "  <thead>\n",
       "    <tr style=\"text-align: right;\">\n",
       "      <th></th>\n",
       "      <th>Date</th>\n",
       "      <th>Date_YMD</th>\n",
       "      <th>Daily Confirmed</th>\n",
       "      <th>Total Confirmed</th>\n",
       "      <th>Daily Recovered</th>\n",
       "      <th>Total Recovered</th>\n",
       "      <th>Daily Deceased</th>\n",
       "      <th>Total Deceased</th>\n",
       "    </tr>\n",
       "  </thead>\n",
       "  <tbody>\n",
       "    <tr>\n",
       "      <th>0</th>\n",
       "      <td>30 January 2020</td>\n",
       "      <td>2020-01-30</td>\n",
       "      <td>1</td>\n",
       "      <td>1</td>\n",
       "      <td>0</td>\n",
       "      <td>0</td>\n",
       "      <td>0</td>\n",
       "      <td>0</td>\n",
       "    </tr>\n",
       "    <tr>\n",
       "      <th>1</th>\n",
       "      <td>31 January 2020</td>\n",
       "      <td>2020-01-31</td>\n",
       "      <td>0</td>\n",
       "      <td>1</td>\n",
       "      <td>0</td>\n",
       "      <td>0</td>\n",
       "      <td>0</td>\n",
       "      <td>0</td>\n",
       "    </tr>\n",
       "    <tr>\n",
       "      <th>2</th>\n",
       "      <td>1 February 2020</td>\n",
       "      <td>2020-02-01</td>\n",
       "      <td>0</td>\n",
       "      <td>1</td>\n",
       "      <td>0</td>\n",
       "      <td>0</td>\n",
       "      <td>0</td>\n",
       "      <td>0</td>\n",
       "    </tr>\n",
       "    <tr>\n",
       "      <th>3</th>\n",
       "      <td>2 February 2020</td>\n",
       "      <td>2020-02-02</td>\n",
       "      <td>1</td>\n",
       "      <td>2</td>\n",
       "      <td>0</td>\n",
       "      <td>0</td>\n",
       "      <td>0</td>\n",
       "      <td>0</td>\n",
       "    </tr>\n",
       "    <tr>\n",
       "      <th>4</th>\n",
       "      <td>3 February 2020</td>\n",
       "      <td>2020-02-03</td>\n",
       "      <td>1</td>\n",
       "      <td>3</td>\n",
       "      <td>0</td>\n",
       "      <td>0</td>\n",
       "      <td>0</td>\n",
       "      <td>0</td>\n",
       "    </tr>\n",
       "    <tr>\n",
       "      <th>...</th>\n",
       "      <td>...</td>\n",
       "      <td>...</td>\n",
       "      <td>...</td>\n",
       "      <td>...</td>\n",
       "      <td>...</td>\n",
       "      <td>...</td>\n",
       "      <td>...</td>\n",
       "      <td>...</td>\n",
       "    </tr>\n",
       "    <tr>\n",
       "      <th>448</th>\n",
       "      <td>22 April 2021</td>\n",
       "      <td>2021-04-22</td>\n",
       "      <td>332518</td>\n",
       "      <td>16257424</td>\n",
       "      <td>192311</td>\n",
       "      <td>13641571</td>\n",
       "      <td>2257</td>\n",
       "      <td>186338</td>\n",
       "    </tr>\n",
       "    <tr>\n",
       "      <th>449</th>\n",
       "      <td>23 April 2021</td>\n",
       "      <td>2021-04-23</td>\n",
       "      <td>345281</td>\n",
       "      <td>16602705</td>\n",
       "      <td>220541</td>\n",
       "      <td>13862112</td>\n",
       "      <td>2620</td>\n",
       "      <td>188958</td>\n",
       "    </tr>\n",
       "    <tr>\n",
       "      <th>450</th>\n",
       "      <td>24 April 2021</td>\n",
       "      <td>2021-04-24</td>\n",
       "      <td>348979</td>\n",
       "      <td>16951684</td>\n",
       "      <td>215801</td>\n",
       "      <td>14077913</td>\n",
       "      <td>2761</td>\n",
       "      <td>191719</td>\n",
       "    </tr>\n",
       "    <tr>\n",
       "      <th>451</th>\n",
       "      <td>25 April 2021</td>\n",
       "      <td>2021-04-25</td>\n",
       "      <td>354653</td>\n",
       "      <td>17306337</td>\n",
       "      <td>218624</td>\n",
       "      <td>14296537</td>\n",
       "      <td>2808</td>\n",
       "      <td>194527</td>\n",
       "    </tr>\n",
       "    <tr>\n",
       "      <th>452</th>\n",
       "      <td>26 April 2021</td>\n",
       "      <td>2021-04-26</td>\n",
       "      <td>319460</td>\n",
       "      <td>17625797</td>\n",
       "      <td>248952</td>\n",
       "      <td>14545489</td>\n",
       "      <td>2762</td>\n",
       "      <td>197289</td>\n",
       "    </tr>\n",
       "  </tbody>\n",
       "</table>\n",
       "<p>453 rows × 8 columns</p>\n",
       "</div>"
      ],
      "text/plain": [
       "                Date    Date_YMD  Daily Confirmed  Total Confirmed  \\\n",
       "0    30 January 2020  2020-01-30                1                1   \n",
       "1    31 January 2020  2020-01-31                0                1   \n",
       "2    1 February 2020  2020-02-01                0                1   \n",
       "3    2 February 2020  2020-02-02                1                2   \n",
       "4    3 February 2020  2020-02-03                1                3   \n",
       "..               ...         ...              ...              ...   \n",
       "448    22 April 2021  2021-04-22           332518         16257424   \n",
       "449    23 April 2021  2021-04-23           345281         16602705   \n",
       "450    24 April 2021  2021-04-24           348979         16951684   \n",
       "451    25 April 2021  2021-04-25           354653         17306337   \n",
       "452    26 April 2021  2021-04-26           319460         17625797   \n",
       "\n",
       "     Daily Recovered  Total Recovered  Daily Deceased  Total Deceased  \n",
       "0                  0                0               0               0  \n",
       "1                  0                0               0               0  \n",
       "2                  0                0               0               0  \n",
       "3                  0                0               0               0  \n",
       "4                  0                0               0               0  \n",
       "..               ...              ...             ...             ...  \n",
       "448           192311         13641571            2257          186338  \n",
       "449           220541         13862112            2620          188958  \n",
       "450           215801         14077913            2761          191719  \n",
       "451           218624         14296537            2808          194527  \n",
       "452           248952         14545489            2762          197289  \n",
       "\n",
       "[453 rows x 8 columns]"
      ]
     },
     "execution_count": 2,
     "metadata": {},
     "output_type": "execute_result"
    }
   ],
   "source": [
    "#Reading the file(downloaded from covid19india.org)\n",
    "df = pd.read_csv('case_time_series_26.csv')\n",
    "df"
   ]
  },
  {
   "cell_type": "code",
   "execution_count": 262,
   "metadata": {},
   "outputs": [],
   "source": [
    "#To avoid outliers\n",
    "pop = df[['Date', 'Daily Confirmed', 'Total Confirmed', 'Daily Deceased', 'Total Deceased']][62:]"
   ]
  },
  {
   "cell_type": "code",
   "execution_count": 263,
   "metadata": {},
   "outputs": [
    {
     "data": {
      "text/html": [
       "<div>\n",
       "<style scoped>\n",
       "    .dataframe tbody tr th:only-of-type {\n",
       "        vertical-align: middle;\n",
       "    }\n",
       "\n",
       "    .dataframe tbody tr th {\n",
       "        vertical-align: top;\n",
       "    }\n",
       "\n",
       "    .dataframe thead th {\n",
       "        text-align: right;\n",
       "    }\n",
       "</style>\n",
       "<table border=\"1\" class=\"dataframe\">\n",
       "  <thead>\n",
       "    <tr style=\"text-align: right;\">\n",
       "      <th></th>\n",
       "      <th>Date</th>\n",
       "      <th>Daily Confirmed</th>\n",
       "      <th>Total Confirmed</th>\n",
       "      <th>Daily Deceased</th>\n",
       "      <th>Total Deceased</th>\n",
       "      <th>CFR</th>\n",
       "    </tr>\n",
       "  </thead>\n",
       "  <tbody>\n",
       "    <tr>\n",
       "      <th>62</th>\n",
       "      <td>1 April 2020</td>\n",
       "      <td>424</td>\n",
       "      <td>2059</td>\n",
       "      <td>6</td>\n",
       "      <td>53</td>\n",
       "      <td>1.415094</td>\n",
       "    </tr>\n",
       "    <tr>\n",
       "      <th>63</th>\n",
       "      <td>2 April 2020</td>\n",
       "      <td>486</td>\n",
       "      <td>2545</td>\n",
       "      <td>16</td>\n",
       "      <td>69</td>\n",
       "      <td>3.292181</td>\n",
       "    </tr>\n",
       "    <tr>\n",
       "      <th>64</th>\n",
       "      <td>3 April 2020</td>\n",
       "      <td>560</td>\n",
       "      <td>3105</td>\n",
       "      <td>14</td>\n",
       "      <td>83</td>\n",
       "      <td>2.500000</td>\n",
       "    </tr>\n",
       "    <tr>\n",
       "      <th>65</th>\n",
       "      <td>4 April 2020</td>\n",
       "      <td>579</td>\n",
       "      <td>3684</td>\n",
       "      <td>13</td>\n",
       "      <td>96</td>\n",
       "      <td>2.245250</td>\n",
       "    </tr>\n",
       "    <tr>\n",
       "      <th>66</th>\n",
       "      <td>5 April 2020</td>\n",
       "      <td>609</td>\n",
       "      <td>4293</td>\n",
       "      <td>22</td>\n",
       "      <td>118</td>\n",
       "      <td>3.612479</td>\n",
       "    </tr>\n",
       "    <tr>\n",
       "      <th>...</th>\n",
       "      <td>...</td>\n",
       "      <td>...</td>\n",
       "      <td>...</td>\n",
       "      <td>...</td>\n",
       "      <td>...</td>\n",
       "      <td>...</td>\n",
       "    </tr>\n",
       "    <tr>\n",
       "      <th>448</th>\n",
       "      <td>22 April 2021</td>\n",
       "      <td>332518</td>\n",
       "      <td>16257424</td>\n",
       "      <td>2257</td>\n",
       "      <td>186338</td>\n",
       "      <td>0.678760</td>\n",
       "    </tr>\n",
       "    <tr>\n",
       "      <th>449</th>\n",
       "      <td>23 April 2021</td>\n",
       "      <td>345281</td>\n",
       "      <td>16602705</td>\n",
       "      <td>2620</td>\n",
       "      <td>188958</td>\n",
       "      <td>0.758802</td>\n",
       "    </tr>\n",
       "    <tr>\n",
       "      <th>450</th>\n",
       "      <td>24 April 2021</td>\n",
       "      <td>348979</td>\n",
       "      <td>16951684</td>\n",
       "      <td>2761</td>\n",
       "      <td>191719</td>\n",
       "      <td>0.791165</td>\n",
       "    </tr>\n",
       "    <tr>\n",
       "      <th>451</th>\n",
       "      <td>25 April 2021</td>\n",
       "      <td>354653</td>\n",
       "      <td>17306337</td>\n",
       "      <td>2808</td>\n",
       "      <td>194527</td>\n",
       "      <td>0.791760</td>\n",
       "    </tr>\n",
       "    <tr>\n",
       "      <th>452</th>\n",
       "      <td>26 April 2021</td>\n",
       "      <td>319460</td>\n",
       "      <td>17625797</td>\n",
       "      <td>2762</td>\n",
       "      <td>197289</td>\n",
       "      <td>0.864584</td>\n",
       "    </tr>\n",
       "  </tbody>\n",
       "</table>\n",
       "<p>391 rows × 6 columns</p>\n",
       "</div>"
      ],
      "text/plain": [
       "              Date  Daily Confirmed  Total Confirmed  Daily Deceased  \\\n",
       "62    1 April 2020              424             2059               6   \n",
       "63    2 April 2020              486             2545              16   \n",
       "64    3 April 2020              560             3105              14   \n",
       "65    4 April 2020              579             3684              13   \n",
       "66    5 April 2020              609             4293              22   \n",
       "..             ...              ...              ...             ...   \n",
       "448  22 April 2021           332518         16257424            2257   \n",
       "449  23 April 2021           345281         16602705            2620   \n",
       "450  24 April 2021           348979         16951684            2761   \n",
       "451  25 April 2021           354653         17306337            2808   \n",
       "452  26 April 2021           319460         17625797            2762   \n",
       "\n",
       "     Total Deceased       CFR  \n",
       "62               53  1.415094  \n",
       "63               69  3.292181  \n",
       "64               83  2.500000  \n",
       "65               96  2.245250  \n",
       "66              118  3.612479  \n",
       "..              ...       ...  \n",
       "448          186338  0.678760  \n",
       "449          188958  0.758802  \n",
       "450          191719  0.791165  \n",
       "451          194527  0.791760  \n",
       "452          197289  0.864584  \n",
       "\n",
       "[391 rows x 6 columns]"
      ]
     },
     "execution_count": 263,
     "metadata": {},
     "output_type": "execute_result"
    }
   ],
   "source": [
    "pop['CFR'] = (pop['Daily Deceased']/pop['Daily Confirmed'])*100 #Calculating Case Fatality Rate\n",
    "pop"
   ]
  },
  {
   "cell_type": "code",
   "execution_count": 264,
   "metadata": {},
   "outputs": [
    {
     "data": {
      "text/plain": [
       "452    1.11932\n",
       "dtype: float64"
      ]
     },
     "execution_count": 264,
     "metadata": {},
     "output_type": "execute_result"
    }
   ],
   "source": [
    "df[452:]['Total Deceased']/df[452:]['Total Confirmed']*100"
   ]
  },
  {
   "cell_type": "code",
   "execution_count": 265,
   "metadata": {},
   "outputs": [
    {
     "data": {
      "text/plain": [
       "138    18.076854\n",
       "Name: CFR, dtype: float64"
      ]
     },
     "execution_count": 265,
     "metadata": {},
     "output_type": "execute_result"
    }
   ],
   "source": [
    "pop['CFR'][pop['CFR']>17.5]"
   ]
  },
  {
   "cell_type": "code",
   "execution_count": 266,
   "metadata": {},
   "outputs": [
    {
     "name": "stderr",
     "output_type": "stream",
     "text": [
      "<ipython-input-266-e49300bc8739>:1: SettingWithCopyWarning: \n",
      "A value is trying to be set on a copy of a slice from a DataFrame\n",
      "\n",
      "See the caveats in the documentation: https://pandas.pydata.org/pandas-docs/stable/user_guide/indexing.html#returning-a-view-versus-a-copy\n",
      "  pop['CFR'][pop['CFR']>17.5] = float(df[452:]['Total Deceased']/df[452:]['Total Confirmed']*100)\n"
     ]
    }
   ],
   "source": [
    "pop['CFR'][pop['CFR']>17.5] = float(df[452:]['Total Deceased']/df[452:]['Total Confirmed']*100)"
   ]
  },
  {
   "cell_type": "code",
   "execution_count": 267,
   "metadata": {},
   "outputs": [
    {
     "name": "stdout",
     "output_type": "stream",
     "text": [
      "Population Mean = 1.572668013155459\n"
     ]
    }
   ],
   "source": [
    "import statistics #Mean and Standard Deviation\n",
    "print('Population Mean = '+str(statistics.mean(pop['CFR'])))\n",
    "mu_pop = statistics.mean(pop['CFR'])\n",
    "#print('Phase1 Standard Deviation = '+str(statistics.stdev(pop['CFR'])))"
   ]
  },
  {
   "cell_type": "markdown",
   "metadata": {},
   "source": [
    "# Phase 1"
   ]
  },
  {
   "cell_type": "code",
   "execution_count": 268,
   "metadata": {},
   "outputs": [
    {
     "data": {
      "text/html": [
       "<div>\n",
       "<style scoped>\n",
       "    .dataframe tbody tr th:only-of-type {\n",
       "        vertical-align: middle;\n",
       "    }\n",
       "\n",
       "    .dataframe tbody tr th {\n",
       "        vertical-align: top;\n",
       "    }\n",
       "\n",
       "    .dataframe thead th {\n",
       "        text-align: right;\n",
       "    }\n",
       "</style>\n",
       "<table border=\"1\" class=\"dataframe\">\n",
       "  <thead>\n",
       "    <tr style=\"text-align: right;\">\n",
       "      <th></th>\n",
       "      <th>Date</th>\n",
       "      <th>Daily Confirmed</th>\n",
       "      <th>Total Confirmed</th>\n",
       "      <th>Daily Deceased</th>\n",
       "      <th>Total Deceased</th>\n",
       "      <th>CFR</th>\n",
       "    </tr>\n",
       "  </thead>\n",
       "  <tbody>\n",
       "    <tr>\n",
       "      <th>62</th>\n",
       "      <td>1 April 2020</td>\n",
       "      <td>424</td>\n",
       "      <td>2059</td>\n",
       "      <td>6</td>\n",
       "      <td>53</td>\n",
       "      <td>1.415094</td>\n",
       "    </tr>\n",
       "    <tr>\n",
       "      <th>63</th>\n",
       "      <td>2 April 2020</td>\n",
       "      <td>486</td>\n",
       "      <td>2545</td>\n",
       "      <td>16</td>\n",
       "      <td>69</td>\n",
       "      <td>3.292181</td>\n",
       "    </tr>\n",
       "    <tr>\n",
       "      <th>64</th>\n",
       "      <td>3 April 2020</td>\n",
       "      <td>560</td>\n",
       "      <td>3105</td>\n",
       "      <td>14</td>\n",
       "      <td>83</td>\n",
       "      <td>2.500000</td>\n",
       "    </tr>\n",
       "    <tr>\n",
       "      <th>65</th>\n",
       "      <td>4 April 2020</td>\n",
       "      <td>579</td>\n",
       "      <td>3684</td>\n",
       "      <td>13</td>\n",
       "      <td>96</td>\n",
       "      <td>2.245250</td>\n",
       "    </tr>\n",
       "    <tr>\n",
       "      <th>66</th>\n",
       "      <td>5 April 2020</td>\n",
       "      <td>609</td>\n",
       "      <td>4293</td>\n",
       "      <td>22</td>\n",
       "      <td>118</td>\n",
       "      <td>3.612479</td>\n",
       "    </tr>\n",
       "    <tr>\n",
       "      <th>...</th>\n",
       "      <td>...</td>\n",
       "      <td>...</td>\n",
       "      <td>...</td>\n",
       "      <td>...</td>\n",
       "      <td>...</td>\n",
       "      <td>...</td>\n",
       "    </tr>\n",
       "    <tr>\n",
       "      <th>240</th>\n",
       "      <td>26 September 2020</td>\n",
       "      <td>88759</td>\n",
       "      <td>5990589</td>\n",
       "      <td>1124</td>\n",
       "      <td>93950</td>\n",
       "      <td>1.266350</td>\n",
       "    </tr>\n",
       "    <tr>\n",
       "      <th>241</th>\n",
       "      <td>27 September 2020</td>\n",
       "      <td>82770</td>\n",
       "      <td>6073359</td>\n",
       "      <td>1040</td>\n",
       "      <td>94990</td>\n",
       "      <td>1.256494</td>\n",
       "    </tr>\n",
       "    <tr>\n",
       "      <th>242</th>\n",
       "      <td>28 September 2020</td>\n",
       "      <td>69669</td>\n",
       "      <td>6143028</td>\n",
       "      <td>775</td>\n",
       "      <td>95765</td>\n",
       "      <td>1.112403</td>\n",
       "    </tr>\n",
       "    <tr>\n",
       "      <th>243</th>\n",
       "      <td>29 September 2020</td>\n",
       "      <td>80500</td>\n",
       "      <td>6223528</td>\n",
       "      <td>1178</td>\n",
       "      <td>96943</td>\n",
       "      <td>1.463354</td>\n",
       "    </tr>\n",
       "    <tr>\n",
       "      <th>244</th>\n",
       "      <td>30 September 2020</td>\n",
       "      <td>86748</td>\n",
       "      <td>6310276</td>\n",
       "      <td>1179</td>\n",
       "      <td>98122</td>\n",
       "      <td>1.359109</td>\n",
       "    </tr>\n",
       "  </tbody>\n",
       "</table>\n",
       "<p>183 rows × 6 columns</p>\n",
       "</div>"
      ],
      "text/plain": [
       "                  Date  Daily Confirmed  Total Confirmed  Daily Deceased  \\\n",
       "62        1 April 2020              424             2059               6   \n",
       "63        2 April 2020              486             2545              16   \n",
       "64        3 April 2020              560             3105              14   \n",
       "65        4 April 2020              579             3684              13   \n",
       "66        5 April 2020              609             4293              22   \n",
       "..                 ...              ...              ...             ...   \n",
       "240  26 September 2020            88759          5990589            1124   \n",
       "241  27 September 2020            82770          6073359            1040   \n",
       "242  28 September 2020            69669          6143028             775   \n",
       "243  29 September 2020            80500          6223528            1178   \n",
       "244  30 September 2020            86748          6310276            1179   \n",
       "\n",
       "     Total Deceased       CFR  \n",
       "62               53  1.415094  \n",
       "63               69  3.292181  \n",
       "64               83  2.500000  \n",
       "65               96  2.245250  \n",
       "66              118  3.612479  \n",
       "..              ...       ...  \n",
       "240           93950  1.266350  \n",
       "241           94990  1.256494  \n",
       "242           95765  1.112403  \n",
       "243           96943  1.463354  \n",
       "244           98122  1.359109  \n",
       "\n",
       "[183 rows x 6 columns]"
      ]
     },
     "execution_count": 268,
     "metadata": {},
     "output_type": "execute_result"
    }
   ],
   "source": [
    "df1 = pop[0:183] #extracting from 1st April, 2020 to 30th September, 2020\n",
    "df1 "
   ]
  },
  {
   "cell_type": "code",
   "execution_count": 269,
   "metadata": {},
   "outputs": [
    {
     "name": "stdout",
     "output_type": "stream",
     "text": [
      "Phase1 Mean = 2.219044620149545\n",
      "Phase1 Standard Deviation = 0.9433562605454509\n"
     ]
    }
   ],
   "source": [
    "import statistics #Mean and Standard Deviation\n",
    "print('Phase1 Mean = '+str(statistics.mean(df1['CFR'])))\n",
    "print('Phase1 Standard Deviation = '+str(statistics.stdev(df1['CFR'])))"
   ]
  },
  {
   "cell_type": "markdown",
   "metadata": {},
   "source": [
    "Scatter plot for CFR time series data"
   ]
  },
  {
   "cell_type": "code",
   "execution_count": 270,
   "metadata": {},
   "outputs": [
    {
     "data": {
      "image/png": "[encoded data removed]",
      "text/plain": [
       "<Figure size 1000x500 with 1 Axes>"
      ]
     },
     "metadata": {},
     "output_type": "display_data"
    }
   ],
   "source": [
    "import matplotlib.pyplot as plt\n",
    "import matplotlib as mpl\n",
    "mpl.style.use('seaborn')\n",
    "plt.figure(figsize=(10,5))\n",
    "plt.scatter(df1.index, df1['CFR'])\n",
    "plt.xlabel(\"Day\")\n",
    "plt.ylabel(\"Case Fatality Rate\")\n",
    "plt.show()\n"
   ]
  },
  {
   "cell_type": "markdown",
   "metadata": {},
   "source": [
    "Histogram"
   ]
  },
  {
   "cell_type": "code",
   "execution_count": 271,
   "metadata": {},
   "outputs": [
    {
     "data": {
      "text/plain": [
       "[Text(0.5, 1.0, 'Frequency Histogram'), Text(0, 0.5, 'Frequency')]"
      ]
     },
     "execution_count": 271,
     "metadata": {},
     "output_type": "execute_result"
    },
    {
     "data": {
      "image/png": "[encoded data removed]",
      "text/plain": [
       "<Figure size 720x360 with 1 Axes>"
      ]
     },
     "metadata": {},
     "output_type": "display_data"
    }
   ],
   "source": [
    "%matplotlib inline\n",
    "mpl.style.use('seaborn')\n",
    "plt.figure(figsize=(10,5))\n",
    "plt.rcParams.update({'figure.figsize':(10, 5), 'figure.dpi':100})\n",
    "\n",
    "plt.hist(df1['CFR'], bins=40)\n",
    "plt.gca().set(title='Frequency Histogram', ylabel='Frequency')"
   ]
  },
  {
   "cell_type": "markdown",
   "metadata": {},
   "source": [
    "# Phase 2(October - Feb)"
   ]
  },
  {
   "cell_type": "code",
   "execution_count": 272,
   "metadata": {},
   "outputs": [
    {
     "data": {
      "text/html": [
       "<div>\n",
       "<style scoped>\n",
       "    .dataframe tbody tr th:only-of-type {\n",
       "        vertical-align: middle;\n",
       "    }\n",
       "\n",
       "    .dataframe tbody tr th {\n",
       "        vertical-align: top;\n",
       "    }\n",
       "\n",
       "    .dataframe thead th {\n",
       "        text-align: right;\n",
       "    }\n",
       "</style>\n",
       "<table border=\"1\" class=\"dataframe\">\n",
       "  <thead>\n",
       "    <tr style=\"text-align: right;\">\n",
       "      <th></th>\n",
       "      <th>Date</th>\n",
       "      <th>Daily Confirmed</th>\n",
       "      <th>Total Confirmed</th>\n",
       "      <th>Daily Deceased</th>\n",
       "      <th>Total Deceased</th>\n",
       "      <th>CFR</th>\n",
       "    </tr>\n",
       "  </thead>\n",
       "  <tbody>\n",
       "    <tr>\n",
       "      <th>245</th>\n",
       "      <td>1 October 2020</td>\n",
       "      <td>81784</td>\n",
       "      <td>6392060</td>\n",
       "      <td>1099</td>\n",
       "      <td>99221</td>\n",
       "      <td>1.343784</td>\n",
       "    </tr>\n",
       "    <tr>\n",
       "      <th>246</th>\n",
       "      <td>2 October 2020</td>\n",
       "      <td>79883</td>\n",
       "      <td>6471943</td>\n",
       "      <td>1068</td>\n",
       "      <td>100289</td>\n",
       "      <td>1.336955</td>\n",
       "    </tr>\n",
       "    <tr>\n",
       "      <th>247</th>\n",
       "      <td>3 October 2020</td>\n",
       "      <td>75479</td>\n",
       "      <td>6547422</td>\n",
       "      <td>937</td>\n",
       "      <td>101226</td>\n",
       "      <td>1.241405</td>\n",
       "    </tr>\n",
       "    <tr>\n",
       "      <th>248</th>\n",
       "      <td>4 October 2020</td>\n",
       "      <td>74770</td>\n",
       "      <td>6622192</td>\n",
       "      <td>903</td>\n",
       "      <td>102129</td>\n",
       "      <td>1.207704</td>\n",
       "    </tr>\n",
       "    <tr>\n",
       "      <th>249</th>\n",
       "      <td>5 October 2020</td>\n",
       "      <td>60130</td>\n",
       "      <td>6682322</td>\n",
       "      <td>886</td>\n",
       "      <td>103015</td>\n",
       "      <td>1.473474</td>\n",
       "    </tr>\n",
       "    <tr>\n",
       "      <th>...</th>\n",
       "      <td>...</td>\n",
       "      <td>...</td>\n",
       "      <td>...</td>\n",
       "      <td>...</td>\n",
       "      <td>...</td>\n",
       "      <td>...</td>\n",
       "    </tr>\n",
       "    <tr>\n",
       "      <th>363</th>\n",
       "      <td>27 January 2021</td>\n",
       "      <td>11556</td>\n",
       "      <td>10701985</td>\n",
       "      <td>123</td>\n",
       "      <td>153294</td>\n",
       "      <td>1.064382</td>\n",
       "    </tr>\n",
       "    <tr>\n",
       "      <th>364</th>\n",
       "      <td>28 January 2021</td>\n",
       "      <td>18912</td>\n",
       "      <td>10720897</td>\n",
       "      <td>162</td>\n",
       "      <td>153456</td>\n",
       "      <td>0.856599</td>\n",
       "    </tr>\n",
       "    <tr>\n",
       "      <th>365</th>\n",
       "      <td>29 January 2021</td>\n",
       "      <td>13054</td>\n",
       "      <td>10733951</td>\n",
       "      <td>137</td>\n",
       "      <td>153593</td>\n",
       "      <td>1.049487</td>\n",
       "    </tr>\n",
       "    <tr>\n",
       "      <th>366</th>\n",
       "      <td>30 January 2021</td>\n",
       "      <td>13073</td>\n",
       "      <td>10747024</td>\n",
       "      <td>128</td>\n",
       "      <td>153721</td>\n",
       "      <td>0.979117</td>\n",
       "    </tr>\n",
       "    <tr>\n",
       "      <th>367</th>\n",
       "      <td>31 January 2021</td>\n",
       "      <td>11527</td>\n",
       "      <td>10758551</td>\n",
       "      <td>116</td>\n",
       "      <td>153837</td>\n",
       "      <td>1.006333</td>\n",
       "    </tr>\n",
       "  </tbody>\n",
       "</table>\n",
       "<p>123 rows × 6 columns</p>\n",
       "</div>"
      ],
      "text/plain": [
       "                Date  Daily Confirmed  Total Confirmed  Daily Deceased  \\\n",
       "245   1 October 2020            81784          6392060            1099   \n",
       "246   2 October 2020            79883          6471943            1068   \n",
       "247   3 October 2020            75479          6547422             937   \n",
       "248   4 October 2020            74770          6622192             903   \n",
       "249   5 October 2020            60130          6682322             886   \n",
       "..               ...              ...              ...             ...   \n",
       "363  27 January 2021            11556         10701985             123   \n",
       "364  28 January 2021            18912         10720897             162   \n",
       "365  29 January 2021            13054         10733951             137   \n",
       "366  30 January 2021            13073         10747024             128   \n",
       "367  31 January 2021            11527         10758551             116   \n",
       "\n",
       "     Total Deceased       CFR  \n",
       "245           99221  1.343784  \n",
       "246          100289  1.336955  \n",
       "247          101226  1.241405  \n",
       "248          102129  1.207704  \n",
       "249          103015  1.473474  \n",
       "..              ...       ...  \n",
       "363          153294  1.064382  \n",
       "364          153456  0.856599  \n",
       "365          153593  1.049487  \n",
       "366          153721  0.979117  \n",
       "367          153837  1.006333  \n",
       "\n",
       "[123 rows x 6 columns]"
      ]
     },
     "execution_count": 272,
     "metadata": {},
     "output_type": "execute_result"
    }
   ],
   "source": [
    "df2 = pop[183:306] #Extracting from 1st October, 2020 to 30th January, 2021\n",
    "df2"
   ]
  },
  {
   "cell_type": "code",
   "execution_count": 273,
   "metadata": {},
   "outputs": [
    {
     "name": "stdout",
     "output_type": "stream",
     "text": [
      "Phase2 mean = 1.2505906979835721\n",
      "Phase2 Standard Deviation = 0.16804018629363066\n"
     ]
    }
   ],
   "source": [
    "print('Phase2 mean = '+str(statistics.mean(df2['CFR'])))\n",
    "print('Phase2 Standard Deviation = '+str(statistics.stdev(df2['CFR'])))"
   ]
  },
  {
   "cell_type": "code",
   "execution_count": 274,
   "metadata": {},
   "outputs": [
    {
     "data": {
      "image/png": "[encoded data removed]",
      "text/plain": [
       "<Figure size 1000x500 with 1 Axes>"
      ]
     },
     "metadata": {},
     "output_type": "display_data"
    }
   ],
   "source": [
    "import matplotlib.pyplot as plt\n",
    "plt.figure(figsize=(10,5))\n",
    "plt.scatter(df2.index, df2['CFR'], c='#b53f3f')\n",
    "plt.xlabel(\"Day\")\n",
    "plt.ylabel(\"Case Fatality Rate\")\n",
    "plt.show()"
   ]
  },
  {
   "cell_type": "code",
   "execution_count": 275,
   "metadata": {},
   "outputs": [
    {
     "data": {
      "text/plain": [
       "[Text(0.5, 1.0, 'Frequency Histogram'), Text(0, 0.5, 'Frequency')]"
      ]
     },
     "execution_count": 275,
     "metadata": {},
     "output_type": "execute_result"
    },
    {
     "data": {
      "image/png": "[encoded data removed]",
      "text/plain": [
       "<Figure size 720x360 with 1 Axes>"
      ]
     },
     "metadata": {
      "needs_background": "light"
     },
     "output_type": "display_data"
    }
   ],
   "source": [
    "%matplotlib inline\n",
    "plt.figure(figsize=(10,5))\n",
    "plt.rcParams.update({'figure.figsize':(10, 5), 'figure.dpi':100})\n",
    "\n",
    "plt.hist(df2['CFR'], bins=10, color = \"#b53f3f\")\n",
    "plt.gca().set(title='Frequency Histogram', ylabel='Frequency')"
   ]
  },
  {
   "cell_type": "markdown",
   "metadata": {},
   "source": [
    "# Phase 3 (Feb - till Date)"
   ]
  },
  {
   "cell_type": "code",
   "execution_count": 276,
   "metadata": {},
   "outputs": [
    {
     "data": {
      "text/html": [
       "<div>\n",
       "<style scoped>\n",
       "    .dataframe tbody tr th:only-of-type {\n",
       "        vertical-align: middle;\n",
       "    }\n",
       "\n",
       "    .dataframe tbody tr th {\n",
       "        vertical-align: top;\n",
       "    }\n",
       "\n",
       "    .dataframe thead th {\n",
       "        text-align: right;\n",
       "    }\n",
       "</style>\n",
       "<table border=\"1\" class=\"dataframe\">\n",
       "  <thead>\n",
       "    <tr style=\"text-align: right;\">\n",
       "      <th></th>\n",
       "      <th>Date</th>\n",
       "      <th>Daily Confirmed</th>\n",
       "      <th>Total Confirmed</th>\n",
       "      <th>Daily Deceased</th>\n",
       "      <th>Total Deceased</th>\n",
       "      <th>CFR</th>\n",
       "    </tr>\n",
       "  </thead>\n",
       "  <tbody>\n",
       "    <tr>\n",
       "      <th>368</th>\n",
       "      <td>1 February 2021</td>\n",
       "      <td>8579</td>\n",
       "      <td>10767130</td>\n",
       "      <td>94</td>\n",
       "      <td>153931</td>\n",
       "      <td>1.095699</td>\n",
       "    </tr>\n",
       "    <tr>\n",
       "      <th>369</th>\n",
       "      <td>2 February 2021</td>\n",
       "      <td>11001</td>\n",
       "      <td>10778131</td>\n",
       "      <td>113</td>\n",
       "      <td>154044</td>\n",
       "      <td>1.027179</td>\n",
       "    </tr>\n",
       "    <tr>\n",
       "      <th>370</th>\n",
       "      <td>3 February 2021</td>\n",
       "      <td>12925</td>\n",
       "      <td>10791056</td>\n",
       "      <td>107</td>\n",
       "      <td>154151</td>\n",
       "      <td>0.827853</td>\n",
       "    </tr>\n",
       "    <tr>\n",
       "      <th>371</th>\n",
       "      <td>4 February 2021</td>\n",
       "      <td>12401</td>\n",
       "      <td>10803457</td>\n",
       "      <td>120</td>\n",
       "      <td>154271</td>\n",
       "      <td>0.967664</td>\n",
       "    </tr>\n",
       "    <tr>\n",
       "      <th>372</th>\n",
       "      <td>5 February 2021</td>\n",
       "      <td>11711</td>\n",
       "      <td>10815168</td>\n",
       "      <td>95</td>\n",
       "      <td>154366</td>\n",
       "      <td>0.811203</td>\n",
       "    </tr>\n",
       "    <tr>\n",
       "      <th>...</th>\n",
       "      <td>...</td>\n",
       "      <td>...</td>\n",
       "      <td>...</td>\n",
       "      <td>...</td>\n",
       "      <td>...</td>\n",
       "      <td>...</td>\n",
       "    </tr>\n",
       "    <tr>\n",
       "      <th>448</th>\n",
       "      <td>22 April 2021</td>\n",
       "      <td>332518</td>\n",
       "      <td>16257424</td>\n",
       "      <td>2257</td>\n",
       "      <td>186338</td>\n",
       "      <td>0.678760</td>\n",
       "    </tr>\n",
       "    <tr>\n",
       "      <th>449</th>\n",
       "      <td>23 April 2021</td>\n",
       "      <td>345281</td>\n",
       "      <td>16602705</td>\n",
       "      <td>2620</td>\n",
       "      <td>188958</td>\n",
       "      <td>0.758802</td>\n",
       "    </tr>\n",
       "    <tr>\n",
       "      <th>450</th>\n",
       "      <td>24 April 2021</td>\n",
       "      <td>348979</td>\n",
       "      <td>16951684</td>\n",
       "      <td>2761</td>\n",
       "      <td>191719</td>\n",
       "      <td>0.791165</td>\n",
       "    </tr>\n",
       "    <tr>\n",
       "      <th>451</th>\n",
       "      <td>25 April 2021</td>\n",
       "      <td>354653</td>\n",
       "      <td>17306337</td>\n",
       "      <td>2808</td>\n",
       "      <td>194527</td>\n",
       "      <td>0.791760</td>\n",
       "    </tr>\n",
       "    <tr>\n",
       "      <th>452</th>\n",
       "      <td>26 April 2021</td>\n",
       "      <td>319460</td>\n",
       "      <td>17625797</td>\n",
       "      <td>2762</td>\n",
       "      <td>197289</td>\n",
       "      <td>0.864584</td>\n",
       "    </tr>\n",
       "  </tbody>\n",
       "</table>\n",
       "<p>85 rows × 6 columns</p>\n",
       "</div>"
      ],
      "text/plain": [
       "                Date  Daily Confirmed  Total Confirmed  Daily Deceased  \\\n",
       "368  1 February 2021             8579         10767130              94   \n",
       "369  2 February 2021            11001         10778131             113   \n",
       "370  3 February 2021            12925         10791056             107   \n",
       "371  4 February 2021            12401         10803457             120   \n",
       "372  5 February 2021            11711         10815168              95   \n",
       "..               ...              ...              ...             ...   \n",
       "448    22 April 2021           332518         16257424            2257   \n",
       "449    23 April 2021           345281         16602705            2620   \n",
       "450    24 April 2021           348979         16951684            2761   \n",
       "451    25 April 2021           354653         17306337            2808   \n",
       "452    26 April 2021           319460         17625797            2762   \n",
       "\n",
       "     Total Deceased       CFR  \n",
       "368          153931  1.095699  \n",
       "369          154044  1.027179  \n",
       "370          154151  0.827853  \n",
       "371          154271  0.967664  \n",
       "372          154366  0.811203  \n",
       "..              ...       ...  \n",
       "448          186338  0.678760  \n",
       "449          188958  0.758802  \n",
       "450          191719  0.791165  \n",
       "451          194527  0.791760  \n",
       "452          197289  0.864584  \n",
       "\n",
       "[85 rows x 6 columns]"
      ]
     },
     "execution_count": 276,
     "metadata": {},
     "output_type": "execute_result"
    }
   ],
   "source": [
    "df3 = pop[306:] #Extracting from 1st February, 2021 till date\n",
    "df3"
   ]
  },
  {
   "cell_type": "code",
   "execution_count": 277,
   "metadata": {},
   "outputs": [
    {
     "name": "stdout",
     "output_type": "stream",
     "text": [
      "Phase3 mean = 0.647122021228687\n",
      "Phase3 Standard Deviation = 0.15373410238013988\n"
     ]
    }
   ],
   "source": [
    "print('Phase3 mean = '+str(statistics.mean(df3['CFR'])))\n",
    "print('Phase3 Standard Deviation = '+str(statistics.stdev(df3['CFR'])))"
   ]
  },
  {
   "cell_type": "code",
   "execution_count": 278,
   "metadata": {},
   "outputs": [
    {
     "data": {
      "image/png": "[encoded data removed]",
      "text/plain": [
       "<Figure size 1000x500 with 1 Axes>"
      ]
     },
     "metadata": {
      "needs_background": "light"
     },
     "output_type": "display_data"
    }
   ],
   "source": [
    "import matplotlib.pyplot as plt\n",
    "plt.figure(figsize=(10,5))\n",
    "plt.scatter(df3.index, df3['CFR'], c='#4ba63f')\n",
    "plt.xlabel(\"Day\")\n",
    "plt.ylabel(\"Case Fatality Rate\")\n",
    "plt.show()"
   ]
  },
  {
   "cell_type": "code",
   "execution_count": 279,
   "metadata": {},
   "outputs": [
    {
     "data": {
      "text/plain": [
       "[Text(0.5, 1.0, 'Frequency Histogram'), Text(0, 0.5, 'Frequency')]"
      ]
     },
     "execution_count": 279,
     "metadata": {},
     "output_type": "execute_result"
    },
    {
     "data": {
      "image/png": "[encoded data removed]",
      "text/plain": [
       "<Figure size 720x360 with 1 Axes>"
      ]
     },
     "metadata": {
      "needs_background": "light"
     },
     "output_type": "display_data"
    }
   ],
   "source": [
    "%matplotlib inline\n",
    "plt.figure(figsize=(10,5))\n",
    "plt.rcParams.update({'figure.figsize':(10, 5), 'figure.dpi':100})\n",
    "\n",
    "plt.hist(df3['CFR'], bins=10, color = \"#4ba63f\")\n",
    "plt.gca().set(title='Frequency Histogram', ylabel='Frequency')"
   ]
  },
  {
   "cell_type": "markdown",
   "metadata": {},
   "source": [
    "# z - test"
   ]
  },
  {
   "cell_type": "markdown",
   "metadata": {},
   "source": [
    "Testing Phase 1 against the Population Mean"
   ]
  },
  {
   "cell_type": "code",
   "execution_count": 280,
   "metadata": {},
   "outputs": [
    {
     "name": "stdout",
     "output_type": "stream",
     "text": [
      "mean=2.22 stdv=0.06\n",
      "Reject Null Hypothesis\n"
     ]
    }
   ],
   "source": [
    "#z-test\n",
    "import math\n",
    "import numpy as np\n",
    "from numpy.random import randn\n",
    "from statsmodels.stats.weightstats import ztest\n",
    "  \n",
    "# Generate a random array of 50 numbers having mean 110 and sd 15\n",
    "# similar to the IQ scores data we assume above\n",
    "mean_iq = statistics.mean(df1['CFR'])\n",
    "sd_iq = statistics.stdev(df1['CFR'])/math.sqrt(len(df1['CFR']))\n",
    "alpha =0.05\n",
    "null_mean = mu_pop\n",
    "data = sd_iq*randn(len(df1['CFR']))+mean_iq\n",
    "# print mean and sd\n",
    "print('mean=%.2f stdv=%.2f' % (np.mean(data), np.std(data)))\n",
    "  \n",
    "# now we perform the test. In this function, we passed data, in value parameter\n",
    "# we passed mean value in the null hypothesis, in alternative hypothesis we check whether the\n",
    "# mean is larger\n",
    "  \n",
    "ztest_Score, p_value= ztest(data,value = null_mean, alternative='larger')\n",
    "# the function outputs a p_value and z-score corresponding to that value, we compare the \n",
    "# p-value with alpha, if it is greater than alpha then we do not null hypothesis \n",
    "# else we reject it.\n",
    "  \n",
    "if(p_value <  alpha):\n",
    "  print(\"Reject Null Hypothesis\")\n",
    "else:\n",
    "  print(\"Fail to Reject NUll Hypothesis\")"
   ]
  },
  {
   "cell_type": "markdown",
   "metadata": {},
   "source": [
    "Testing Phase 2 against the Population Mean"
   ]
  },
  {
   "cell_type": "code",
   "execution_count": 281,
   "metadata": {},
   "outputs": [
    {
     "name": "stdout",
     "output_type": "stream",
     "text": [
      "mean=1.25 stdv=0.02\n",
      "Accept NUll Hypothesis\n"
     ]
    }
   ],
   "source": [
    "mean_iq = statistics.mean(df2['CFR'])\n",
    "sd_iq = statistics.stdev(df2['CFR'])/math.sqrt(len(df2['CFR']))\n",
    "alpha =0.05\n",
    "null_mean = mu_pop\n",
    "data = sd_iq*randn(len(df2['CFR']))+mean_iq\n",
    "# print mean and sd\n",
    "print('mean=%.2f stdv=%.2f' % (np.mean(data), np.std(data)))\n",
    "  \n",
    "# now we perform the test. In this function, we passed data, in value parameter\n",
    "# we passed mean value in the null hypothesis, in alternative hypothesis we check whether the\n",
    "# mean is larger\n",
    "  \n",
    "ztest_Score, p_value= ztest(data,value = null_mean, alternative='larger')\n",
    "# the function outputs a p_value and z-score corresponding to that value, we compare the \n",
    "# p-value with alpha, if it is greater than alpha then we do not null hypothesis \n",
    "# else we reject it.\n",
    "  \n",
    "if(p_value <  alpha):\n",
    "  print(\"Reject Null Hypothesis\")\n",
    "else:\n",
    "  print(\"Accept NUll Hypothesis\")"
   ]
  },
  {
   "cell_type": "markdown",
   "metadata": {},
   "source": [
    "Testing Phase 3 against the Population Mean"
   ]
  },
  {
   "cell_type": "code",
   "execution_count": 282,
   "metadata": {},
   "outputs": [
    {
     "name": "stdout",
     "output_type": "stream",
     "text": [
      "mean=0.65 stdv=0.02\n",
      "Accept NUll Hypothesis\n"
     ]
    }
   ],
   "source": [
    "mean_iq = statistics.mean(df3['CFR'])\n",
    "sd_iq = statistics.stdev(df3['CFR'])/math.sqrt(len(df3['CFR']))\n",
    "alpha =0.05\n",
    "null_mean = mu_pop\n",
    "data = sd_iq*randn(len(df3['CFR']))+mean_iq\n",
    "# print mean and sd\n",
    "print('mean=%.2f stdv=%.2f' % (np.mean(data), np.std(data)))\n",
    "  \n",
    "# now we perform the test. In this function, we passed data, in value parameter\n",
    "# we passed mean value in the null hypothesis, in alternative hypothesis we check whether the\n",
    "# mean is larger\n",
    "  \n",
    "ztest_Score, p_value= ztest(data,value = null_mean, alternative='larger')\n",
    "# the function outputs a p_value and z-score corresponding to that value, we compare the \n",
    "# p-value with alpha, if it is greater than alpha then we do not null hypothesis \n",
    "# else we reject it.\n",
    "  \n",
    "if(p_value <  alpha):\n",
    "  print(\"Reject Null Hypothesis\")\n",
    "else:\n",
    "  print(\"Accept NUll Hypothesis\")"
   ]
  },
  {
   "cell_type": "markdown",
   "metadata": {},
   "source": [
    "# Two Sample z-test"
   ]
  },
  {
   "cell_type": "markdown",
   "metadata": {},
   "source": [
    "Phase 2 against Phase 1"
   ]
  },
  {
   "cell_type": "code",
   "execution_count": 283,
   "metadata": {},
   "outputs": [
    {
     "name": "stdout",
     "output_type": "stream",
     "text": [
      "2.0596471430041298e-29\n",
      "reject null hypothesis\n"
     ]
    }
   ],
   "source": [
    "from scipy import stats\n",
    "from statsmodels.stats import weightstats as stests\n",
    "\n",
    "ztest ,pval1 = stests.ztest(df2['CFR'], x2=df1['CFR'], value=0,alternative='two-sided')\n",
    "print(float(pval1))\n",
    "if pval1<0.05:\n",
    "    print(\"reject null hypothesis\")\n",
    "else:\n",
    "    print(\"accept null hypothesis\")"
   ]
  },
  {
   "cell_type": "markdown",
   "metadata": {},
   "source": [
    "Phase 3 against Phase 1"
   ]
  },
  {
   "cell_type": "code",
   "execution_count": 284,
   "metadata": {},
   "outputs": [
    {
     "name": "stdout",
     "output_type": "stream",
     "text": [
      "1.5493719886176839e-52\n",
      "reject null hypothesis\n"
     ]
    }
   ],
   "source": [
    "from scipy import stats\n",
    "from statsmodels.stats import weightstats as stests\n",
    "\n",
    "ztest ,pval1 = stests.ztest(df3['CFR'], x2=df1['CFR'], value=0,alternative='two-sided')\n",
    "print(float(pval1))\n",
    "if pval1<0.05:\n",
    "    print(\"reject null hypothesis\")\n",
    "else:\n",
    "    print(\"accept null hypothesis\")"
   ]
  },
  {
   "cell_type": "markdown",
   "metadata": {},
   "source": [
    "Phase 3 against Phase 2"
   ]
  },
  {
   "cell_type": "code",
   "execution_count": 285,
   "metadata": {},
   "outputs": [
    {
     "name": "stdout",
     "output_type": "stream",
     "text": [
      "4.904906685675696e-153\n",
      "reject null hypothesis\n"
     ]
    }
   ],
   "source": [
    "from scipy import stats\n",
    "from statsmodels.stats import weightstats as stests\n",
    "\n",
    "ztest ,pval1 = stests.ztest(df3['CFR'], x2=df2['CFR'], value=0,alternative='two-sided')\n",
    "print(float(pval1))\n",
    "if pval1<0.05:\n",
    "    print(\"reject null hypothesis\")\n",
    "else:\n",
    "    print(\"accept null hypothesis\")"
   ]
  },
  {
   "cell_type": "markdown",
   "metadata": {},
   "source": [
    "Visualizing all the Distributions"
   ]
  },
  {
   "cell_type": "code",
   "execution_count": 286,
   "metadata": {},
   "outputs": [],
   "source": [
    "time1 = pop['CFR'].to_frame()\n",
    "time2 = df1['CFR'].to_frame()\n",
    "time3 = df2['CFR'].to_frame()\n",
    "time4 = df3['CFR'].to_frame()"
   ]
  },
  {
   "cell_type": "code",
   "execution_count": 287,
   "metadata": {},
   "outputs": [],
   "source": [
    "time1[\"Data\"] = \"Overall\"\n",
    "time2[\"Data\"] = \"Dawn\"\n",
    "time3[\"Data\"] = \"Calm\"\n",
    "time4[\"Data\"] = \"Storm\""
   ]
  },
  {
   "cell_type": "code",
   "execution_count": 288,
   "metadata": {},
   "outputs": [],
   "source": [
    "times = [time1, time2, time3, time4]\n",
    "allTimes = pd.concat(times)"
   ]
  },
  {
   "cell_type": "code",
   "execution_count": 289,
   "metadata": {},
   "outputs": [
    {
     "data": {
      "text/html": [
       "<div>\n",
       "<style scoped>\n",
       "    .dataframe tbody tr th:only-of-type {\n",
       "        vertical-align: middle;\n",
       "    }\n",
       "\n",
       "    .dataframe tbody tr th {\n",
       "        vertical-align: top;\n",
       "    }\n",
       "\n",
       "    .dataframe thead th {\n",
       "        text-align: right;\n",
       "    }\n",
       "</style>\n",
       "<table border=\"1\" class=\"dataframe\">\n",
       "  <thead>\n",
       "    <tr style=\"text-align: right;\">\n",
       "      <th></th>\n",
       "      <th>CFR</th>\n",
       "      <th>Data</th>\n",
       "    </tr>\n",
       "  </thead>\n",
       "  <tbody>\n",
       "    <tr>\n",
       "      <th>62</th>\n",
       "      <td>1.415094</td>\n",
       "      <td>Overall</td>\n",
       "    </tr>\n",
       "    <tr>\n",
       "      <th>63</th>\n",
       "      <td>3.292181</td>\n",
       "      <td>Overall</td>\n",
       "    </tr>\n",
       "    <tr>\n",
       "      <th>64</th>\n",
       "      <td>2.500000</td>\n",
       "      <td>Overall</td>\n",
       "    </tr>\n",
       "    <tr>\n",
       "      <th>65</th>\n",
       "      <td>2.245250</td>\n",
       "      <td>Overall</td>\n",
       "    </tr>\n",
       "    <tr>\n",
       "      <th>66</th>\n",
       "      <td>3.612479</td>\n",
       "      <td>Overall</td>\n",
       "    </tr>\n",
       "    <tr>\n",
       "      <th>...</th>\n",
       "      <td>...</td>\n",
       "      <td>...</td>\n",
       "    </tr>\n",
       "    <tr>\n",
       "      <th>448</th>\n",
       "      <td>0.678760</td>\n",
       "      <td>Storm</td>\n",
       "    </tr>\n",
       "    <tr>\n",
       "      <th>449</th>\n",
       "      <td>0.758802</td>\n",
       "      <td>Storm</td>\n",
       "    </tr>\n",
       "    <tr>\n",
       "      <th>450</th>\n",
       "      <td>0.791165</td>\n",
       "      <td>Storm</td>\n",
       "    </tr>\n",
       "    <tr>\n",
       "      <th>451</th>\n",
       "      <td>0.791760</td>\n",
       "      <td>Storm</td>\n",
       "    </tr>\n",
       "    <tr>\n",
       "      <th>452</th>\n",
       "      <td>0.864584</td>\n",
       "      <td>Storm</td>\n",
       "    </tr>\n",
       "  </tbody>\n",
       "</table>\n",
       "<p>782 rows × 2 columns</p>\n",
       "</div>"
      ],
      "text/plain": [
       "          CFR     Data\n",
       "62   1.415094  Overall\n",
       "63   3.292181  Overall\n",
       "64   2.500000  Overall\n",
       "65   2.245250  Overall\n",
       "66   3.612479  Overall\n",
       "..        ...      ...\n",
       "448  0.678760    Storm\n",
       "449  0.758802    Storm\n",
       "450  0.791165    Storm\n",
       "451  0.791760    Storm\n",
       "452  0.864584    Storm\n",
       "\n",
       "[782 rows x 2 columns]"
      ]
     },
     "execution_count": 289,
     "metadata": {},
     "output_type": "execute_result"
    }
   ],
   "source": [
    "result = pd.concat(times)\n",
    "result"
   ]
  },
  {
   "cell_type": "code",
   "execution_count": 290,
   "metadata": {},
   "outputs": [],
   "source": [
    "import seaborn as sns\n",
    "sns.set_theme(style=\"whitegrid\")"
   ]
  },
  {
   "cell_type": "code",
   "execution_count": 291,
   "metadata": {},
   "outputs": [
    {
     "data": {
      "image/png": "[encoded data removed]",
      "text/plain": [
       "<Figure size 1000x500 with 1 Axes>"
      ]
     },
     "metadata": {},
     "output_type": "display_data"
    }
   ],
   "source": [
    "ax = sns.boxplot(x=\"Data\", y=\"CFR\", data=result)"
   ]
  },
  {
   "cell_type": "markdown",
   "metadata": {},
   "source": [
    "# Analysing Last 4 weeks"
   ]
  },
  {
   "cell_type": "code",
   "execution_count": 292,
   "metadata": {},
   "outputs": [],
   "source": [
    "last_month = df3['CFR'][-28:] #Extracting last 4 week's data"
   ]
  },
  {
   "cell_type": "code",
   "execution_count": 293,
   "metadata": {},
   "outputs": [],
   "source": [
    "last_month_data = df3[-28:]"
   ]
  },
  {
   "cell_type": "code",
   "execution_count": 294,
   "metadata": {},
   "outputs": [
    {
     "data": {
      "text/html": [
       "<div>\n",
       "<style scoped>\n",
       "    .dataframe tbody tr th:only-of-type {\n",
       "        vertical-align: middle;\n",
       "    }\n",
       "\n",
       "    .dataframe tbody tr th {\n",
       "        vertical-align: top;\n",
       "    }\n",
       "\n",
       "    .dataframe thead th {\n",
       "        text-align: right;\n",
       "    }\n",
       "</style>\n",
       "<table border=\"1\" class=\"dataframe\">\n",
       "  <thead>\n",
       "    <tr style=\"text-align: right;\">\n",
       "      <th></th>\n",
       "      <th>index</th>\n",
       "      <th>Date</th>\n",
       "      <th>Daily Confirmed</th>\n",
       "      <th>Total Confirmed</th>\n",
       "      <th>Daily Deceased</th>\n",
       "      <th>Total Deceased</th>\n",
       "      <th>CFR</th>\n",
       "    </tr>\n",
       "  </thead>\n",
       "  <tbody>\n",
       "    <tr>\n",
       "      <th>0</th>\n",
       "      <td>425</td>\n",
       "      <td>30 March 2021</td>\n",
       "      <td>53237</td>\n",
       "      <td>12148521</td>\n",
       "      <td>355</td>\n",
       "      <td>161911</td>\n",
       "      <td>0.666829</td>\n",
       "    </tr>\n",
       "    <tr>\n",
       "      <th>1</th>\n",
       "      <td>426</td>\n",
       "      <td>31 March 2021</td>\n",
       "      <td>72113</td>\n",
       "      <td>12220634</td>\n",
       "      <td>458</td>\n",
       "      <td>162369</td>\n",
       "      <td>0.635114</td>\n",
       "    </tr>\n",
       "    <tr>\n",
       "      <th>2</th>\n",
       "      <td>427</td>\n",
       "      <td>1 April 2021</td>\n",
       "      <td>81398</td>\n",
       "      <td>12302032</td>\n",
       "      <td>468</td>\n",
       "      <td>162837</td>\n",
       "      <td>0.574953</td>\n",
       "    </tr>\n",
       "    <tr>\n",
       "      <th>3</th>\n",
       "      <td>428</td>\n",
       "      <td>2 April 2021</td>\n",
       "      <td>89023</td>\n",
       "      <td>12391055</td>\n",
       "      <td>713</td>\n",
       "      <td>163550</td>\n",
       "      <td>0.800917</td>\n",
       "    </tr>\n",
       "    <tr>\n",
       "      <th>4</th>\n",
       "      <td>429</td>\n",
       "      <td>3 April 2021</td>\n",
       "      <td>92994</td>\n",
       "      <td>12484049</td>\n",
       "      <td>514</td>\n",
       "      <td>164064</td>\n",
       "      <td>0.552724</td>\n",
       "    </tr>\n",
       "    <tr>\n",
       "      <th>5</th>\n",
       "      <td>430</td>\n",
       "      <td>4 April 2021</td>\n",
       "      <td>103794</td>\n",
       "      <td>12587843</td>\n",
       "      <td>477</td>\n",
       "      <td>164541</td>\n",
       "      <td>0.459564</td>\n",
       "    </tr>\n",
       "    <tr>\n",
       "      <th>6</th>\n",
       "      <td>431</td>\n",
       "      <td>5 April 2021</td>\n",
       "      <td>96563</td>\n",
       "      <td>12684406</td>\n",
       "      <td>446</td>\n",
       "      <td>164987</td>\n",
       "      <td>0.461875</td>\n",
       "    </tr>\n",
       "    <tr>\n",
       "      <th>7</th>\n",
       "      <td>432</td>\n",
       "      <td>6 April 2021</td>\n",
       "      <td>115312</td>\n",
       "      <td>12799718</td>\n",
       "      <td>630</td>\n",
       "      <td>165617</td>\n",
       "      <td>0.546344</td>\n",
       "    </tr>\n",
       "    <tr>\n",
       "      <th>8</th>\n",
       "      <td>433</td>\n",
       "      <td>7 April 2021</td>\n",
       "      <td>126276</td>\n",
       "      <td>12925994</td>\n",
       "      <td>684</td>\n",
       "      <td>166301</td>\n",
       "      <td>0.541671</td>\n",
       "    </tr>\n",
       "    <tr>\n",
       "      <th>9</th>\n",
       "      <td>434</td>\n",
       "      <td>8 April 2021</td>\n",
       "      <td>131878</td>\n",
       "      <td>13057872</td>\n",
       "      <td>802</td>\n",
       "      <td>167103</td>\n",
       "      <td>0.608138</td>\n",
       "    </tr>\n",
       "    <tr>\n",
       "      <th>10</th>\n",
       "      <td>435</td>\n",
       "      <td>9 April 2021</td>\n",
       "      <td>144945</td>\n",
       "      <td>13202817</td>\n",
       "      <td>773</td>\n",
       "      <td>167876</td>\n",
       "      <td>0.533306</td>\n",
       "    </tr>\n",
       "    <tr>\n",
       "      <th>11</th>\n",
       "      <td>436</td>\n",
       "      <td>10 April 2021</td>\n",
       "      <td>152565</td>\n",
       "      <td>13355382</td>\n",
       "      <td>838</td>\n",
       "      <td>168714</td>\n",
       "      <td>0.549274</td>\n",
       "    </tr>\n",
       "    <tr>\n",
       "      <th>12</th>\n",
       "      <td>437</td>\n",
       "      <td>11 April 2021</td>\n",
       "      <td>169914</td>\n",
       "      <td>13525296</td>\n",
       "      <td>904</td>\n",
       "      <td>169618</td>\n",
       "      <td>0.532034</td>\n",
       "    </tr>\n",
       "    <tr>\n",
       "      <th>13</th>\n",
       "      <td>438</td>\n",
       "      <td>12 April 2021</td>\n",
       "      <td>160838</td>\n",
       "      <td>13686134</td>\n",
       "      <td>880</td>\n",
       "      <td>170498</td>\n",
       "      <td>0.547134</td>\n",
       "    </tr>\n",
       "    <tr>\n",
       "      <th>14</th>\n",
       "      <td>439</td>\n",
       "      <td>13 April 2021</td>\n",
       "      <td>185297</td>\n",
       "      <td>13871431</td>\n",
       "      <td>1026</td>\n",
       "      <td>171524</td>\n",
       "      <td>0.553706</td>\n",
       "    </tr>\n",
       "    <tr>\n",
       "      <th>15</th>\n",
       "      <td>440</td>\n",
       "      <td>14 April 2021</td>\n",
       "      <td>199584</td>\n",
       "      <td>14071015</td>\n",
       "      <td>1038</td>\n",
       "      <td>172562</td>\n",
       "      <td>0.520082</td>\n",
       "    </tr>\n",
       "    <tr>\n",
       "      <th>16</th>\n",
       "      <td>441</td>\n",
       "      <td>15 April 2021</td>\n",
       "      <td>216828</td>\n",
       "      <td>14287843</td>\n",
       "      <td>1184</td>\n",
       "      <td>173746</td>\n",
       "      <td>0.546055</td>\n",
       "    </tr>\n",
       "    <tr>\n",
       "      <th>17</th>\n",
       "      <td>442</td>\n",
       "      <td>16 April 2021</td>\n",
       "      <td>234002</td>\n",
       "      <td>14521845</td>\n",
       "      <td>1338</td>\n",
       "      <td>175084</td>\n",
       "      <td>0.571790</td>\n",
       "    </tr>\n",
       "    <tr>\n",
       "      <th>18</th>\n",
       "      <td>443</td>\n",
       "      <td>17 April 2021</td>\n",
       "      <td>260895</td>\n",
       "      <td>14782740</td>\n",
       "      <td>1498</td>\n",
       "      <td>176582</td>\n",
       "      <td>0.574177</td>\n",
       "    </tr>\n",
       "    <tr>\n",
       "      <th>19</th>\n",
       "      <td>444</td>\n",
       "      <td>18 April 2021</td>\n",
       "      <td>275063</td>\n",
       "      <td>15057803</td>\n",
       "      <td>1620</td>\n",
       "      <td>178202</td>\n",
       "      <td>0.588956</td>\n",
       "    </tr>\n",
       "    <tr>\n",
       "      <th>20</th>\n",
       "      <td>445</td>\n",
       "      <td>19 April 2021</td>\n",
       "      <td>257003</td>\n",
       "      <td>15314806</td>\n",
       "      <td>1757</td>\n",
       "      <td>179959</td>\n",
       "      <td>0.683650</td>\n",
       "    </tr>\n",
       "    <tr>\n",
       "      <th>21</th>\n",
       "      <td>446</td>\n",
       "      <td>20 April 2021</td>\n",
       "      <td>294365</td>\n",
       "      <td>15609171</td>\n",
       "      <td>2021</td>\n",
       "      <td>181980</td>\n",
       "      <td>0.686563</td>\n",
       "    </tr>\n",
       "    <tr>\n",
       "      <th>22</th>\n",
       "      <td>447</td>\n",
       "      <td>21 April 2021</td>\n",
       "      <td>315735</td>\n",
       "      <td>15924906</td>\n",
       "      <td>2101</td>\n",
       "      <td>184081</td>\n",
       "      <td>0.665431</td>\n",
       "    </tr>\n",
       "    <tr>\n",
       "      <th>23</th>\n",
       "      <td>448</td>\n",
       "      <td>22 April 2021</td>\n",
       "      <td>332518</td>\n",
       "      <td>16257424</td>\n",
       "      <td>2257</td>\n",
       "      <td>186338</td>\n",
       "      <td>0.678760</td>\n",
       "    </tr>\n",
       "    <tr>\n",
       "      <th>24</th>\n",
       "      <td>449</td>\n",
       "      <td>23 April 2021</td>\n",
       "      <td>345281</td>\n",
       "      <td>16602705</td>\n",
       "      <td>2620</td>\n",
       "      <td>188958</td>\n",
       "      <td>0.758802</td>\n",
       "    </tr>\n",
       "    <tr>\n",
       "      <th>25</th>\n",
       "      <td>450</td>\n",
       "      <td>24 April 2021</td>\n",
       "      <td>348979</td>\n",
       "      <td>16951684</td>\n",
       "      <td>2761</td>\n",
       "      <td>191719</td>\n",
       "      <td>0.791165</td>\n",
       "    </tr>\n",
       "    <tr>\n",
       "      <th>26</th>\n",
       "      <td>451</td>\n",
       "      <td>25 April 2021</td>\n",
       "      <td>354653</td>\n",
       "      <td>17306337</td>\n",
       "      <td>2808</td>\n",
       "      <td>194527</td>\n",
       "      <td>0.791760</td>\n",
       "    </tr>\n",
       "    <tr>\n",
       "      <th>27</th>\n",
       "      <td>452</td>\n",
       "      <td>26 April 2021</td>\n",
       "      <td>319460</td>\n",
       "      <td>17625797</td>\n",
       "      <td>2762</td>\n",
       "      <td>197289</td>\n",
       "      <td>0.864584</td>\n",
       "    </tr>\n",
       "  </tbody>\n",
       "</table>\n",
       "</div>"
      ],
      "text/plain": [
       "    index           Date  Daily Confirmed  Total Confirmed  Daily Deceased  \\\n",
       "0     425  30 March 2021            53237         12148521             355   \n",
       "1     426  31 March 2021            72113         12220634             458   \n",
       "2     427   1 April 2021            81398         12302032             468   \n",
       "3     428   2 April 2021            89023         12391055             713   \n",
       "4     429   3 April 2021            92994         12484049             514   \n",
       "5     430   4 April 2021           103794         12587843             477   \n",
       "6     431   5 April 2021            96563         12684406             446   \n",
       "7     432   6 April 2021           115312         12799718             630   \n",
       "8     433   7 April 2021           126276         12925994             684   \n",
       "9     434   8 April 2021           131878         13057872             802   \n",
       "10    435   9 April 2021           144945         13202817             773   \n",
       "11    436  10 April 2021           152565         13355382             838   \n",
       "12    437  11 April 2021           169914         13525296             904   \n",
       "13    438  12 April 2021           160838         13686134             880   \n",
       "14    439  13 April 2021           185297         13871431            1026   \n",
       "15    440  14 April 2021           199584         14071015            1038   \n",
       "16    441  15 April 2021           216828         14287843            1184   \n",
       "17    442  16 April 2021           234002         14521845            1338   \n",
       "18    443  17 April 2021           260895         14782740            1498   \n",
       "19    444  18 April 2021           275063         15057803            1620   \n",
       "20    445  19 April 2021           257003         15314806            1757   \n",
       "21    446  20 April 2021           294365         15609171            2021   \n",
       "22    447  21 April 2021           315735         15924906            2101   \n",
       "23    448  22 April 2021           332518         16257424            2257   \n",
       "24    449  23 April 2021           345281         16602705            2620   \n",
       "25    450  24 April 2021           348979         16951684            2761   \n",
       "26    451  25 April 2021           354653         17306337            2808   \n",
       "27    452  26 April 2021           319460         17625797            2762   \n",
       "\n",
       "    Total Deceased       CFR  \n",
       "0           161911  0.666829  \n",
       "1           162369  0.635114  \n",
       "2           162837  0.574953  \n",
       "3           163550  0.800917  \n",
       "4           164064  0.552724  \n",
       "5           164541  0.459564  \n",
       "6           164987  0.461875  \n",
       "7           165617  0.546344  \n",
       "8           166301  0.541671  \n",
       "9           167103  0.608138  \n",
       "10          167876  0.533306  \n",
       "11          168714  0.549274  \n",
       "12          169618  0.532034  \n",
       "13          170498  0.547134  \n",
       "14          171524  0.553706  \n",
       "15          172562  0.520082  \n",
       "16          173746  0.546055  \n",
       "17          175084  0.571790  \n",
       "18          176582  0.574177  \n",
       "19          178202  0.588956  \n",
       "20          179959  0.683650  \n",
       "21          181980  0.686563  \n",
       "22          184081  0.665431  \n",
       "23          186338  0.678760  \n",
       "24          188958  0.758802  \n",
       "25          191719  0.791165  \n",
       "26          194527  0.791760  \n",
       "27          197289  0.864584  "
      ]
     },
     "execution_count": 294,
     "metadata": {},
     "output_type": "execute_result"
    }
   ],
   "source": [
    "last_month_data = last_month_data.reset_index()\n",
    "last_month_data"
   ]
  },
  {
   "cell_type": "code",
   "execution_count": 296,
   "metadata": {},
   "outputs": [
    {
     "data": {
      "text/html": [
       "<div>\n",
       "<style scoped>\n",
       "    .dataframe tbody tr th:only-of-type {\n",
       "        vertical-align: middle;\n",
       "    }\n",
       "\n",
       "    .dataframe tbody tr th {\n",
       "        vertical-align: top;\n",
       "    }\n",
       "\n",
       "    .dataframe thead th {\n",
       "        text-align: right;\n",
       "    }\n",
       "</style>\n",
       "<table border=\"1\" class=\"dataframe\">\n",
       "  <thead>\n",
       "    <tr style=\"text-align: right;\">\n",
       "      <th></th>\n",
       "      <th>index</th>\n",
       "      <th>Date</th>\n",
       "      <th>Daily Confirmed</th>\n",
       "      <th>Total Confirmed</th>\n",
       "      <th>Daily Deceased</th>\n",
       "      <th>Total Deceased</th>\n",
       "      <th>CFR</th>\n",
       "    </tr>\n",
       "  </thead>\n",
       "  <tbody>\n",
       "    <tr>\n",
       "      <th>0</th>\n",
       "      <td>425</td>\n",
       "      <td>30 March 2021</td>\n",
       "      <td>53237</td>\n",
       "      <td>12148521</td>\n",
       "      <td>355</td>\n",
       "      <td>161911</td>\n",
       "      <td>0.666829</td>\n",
       "    </tr>\n",
       "    <tr>\n",
       "      <th>1</th>\n",
       "      <td>426</td>\n",
       "      <td>31 March 2021</td>\n",
       "      <td>72113</td>\n",
       "      <td>12220634</td>\n",
       "      <td>458</td>\n",
       "      <td>162369</td>\n",
       "      <td>0.635114</td>\n",
       "    </tr>\n",
       "    <tr>\n",
       "      <th>2</th>\n",
       "      <td>427</td>\n",
       "      <td>1 April 2021</td>\n",
       "      <td>81398</td>\n",
       "      <td>12302032</td>\n",
       "      <td>468</td>\n",
       "      <td>162837</td>\n",
       "      <td>0.574953</td>\n",
       "    </tr>\n",
       "    <tr>\n",
       "      <th>3</th>\n",
       "      <td>428</td>\n",
       "      <td>2 April 2021</td>\n",
       "      <td>89023</td>\n",
       "      <td>12391055</td>\n",
       "      <td>713</td>\n",
       "      <td>163550</td>\n",
       "      <td>0.800917</td>\n",
       "    </tr>\n",
       "    <tr>\n",
       "      <th>4</th>\n",
       "      <td>429</td>\n",
       "      <td>3 April 2021</td>\n",
       "      <td>92994</td>\n",
       "      <td>12484049</td>\n",
       "      <td>514</td>\n",
       "      <td>164064</td>\n",
       "      <td>0.552724</td>\n",
       "    </tr>\n",
       "    <tr>\n",
       "      <th>5</th>\n",
       "      <td>430</td>\n",
       "      <td>4 April 2021</td>\n",
       "      <td>103794</td>\n",
       "      <td>12587843</td>\n",
       "      <td>477</td>\n",
       "      <td>164541</td>\n",
       "      <td>0.459564</td>\n",
       "    </tr>\n",
       "    <tr>\n",
       "      <th>6</th>\n",
       "      <td>431</td>\n",
       "      <td>5 April 2021</td>\n",
       "      <td>96563</td>\n",
       "      <td>12684406</td>\n",
       "      <td>446</td>\n",
       "      <td>164987</td>\n",
       "      <td>0.461875</td>\n",
       "    </tr>\n",
       "    <tr>\n",
       "      <th>7</th>\n",
       "      <td>432</td>\n",
       "      <td>6 April 2021</td>\n",
       "      <td>115312</td>\n",
       "      <td>12799718</td>\n",
       "      <td>630</td>\n",
       "      <td>165617</td>\n",
       "      <td>0.546344</td>\n",
       "    </tr>\n",
       "    <tr>\n",
       "      <th>8</th>\n",
       "      <td>433</td>\n",
       "      <td>7 April 2021</td>\n",
       "      <td>126276</td>\n",
       "      <td>12925994</td>\n",
       "      <td>684</td>\n",
       "      <td>166301</td>\n",
       "      <td>0.541671</td>\n",
       "    </tr>\n",
       "    <tr>\n",
       "      <th>9</th>\n",
       "      <td>434</td>\n",
       "      <td>8 April 2021</td>\n",
       "      <td>131878</td>\n",
       "      <td>13057872</td>\n",
       "      <td>802</td>\n",
       "      <td>167103</td>\n",
       "      <td>0.608138</td>\n",
       "    </tr>\n",
       "    <tr>\n",
       "      <th>10</th>\n",
       "      <td>435</td>\n",
       "      <td>9 April 2021</td>\n",
       "      <td>144945</td>\n",
       "      <td>13202817</td>\n",
       "      <td>773</td>\n",
       "      <td>167876</td>\n",
       "      <td>0.533306</td>\n",
       "    </tr>\n",
       "    <tr>\n",
       "      <th>11</th>\n",
       "      <td>436</td>\n",
       "      <td>10 April 2021</td>\n",
       "      <td>152565</td>\n",
       "      <td>13355382</td>\n",
       "      <td>838</td>\n",
       "      <td>168714</td>\n",
       "      <td>0.549274</td>\n",
       "    </tr>\n",
       "    <tr>\n",
       "      <th>12</th>\n",
       "      <td>437</td>\n",
       "      <td>11 April 2021</td>\n",
       "      <td>169914</td>\n",
       "      <td>13525296</td>\n",
       "      <td>904</td>\n",
       "      <td>169618</td>\n",
       "      <td>0.532034</td>\n",
       "    </tr>\n",
       "    <tr>\n",
       "      <th>13</th>\n",
       "      <td>438</td>\n",
       "      <td>12 April 2021</td>\n",
       "      <td>160838</td>\n",
       "      <td>13686134</td>\n",
       "      <td>880</td>\n",
       "      <td>170498</td>\n",
       "      <td>0.547134</td>\n",
       "    </tr>\n",
       "    <tr>\n",
       "      <th>14</th>\n",
       "      <td>439</td>\n",
       "      <td>13 April 2021</td>\n",
       "      <td>185297</td>\n",
       "      <td>13871431</td>\n",
       "      <td>1026</td>\n",
       "      <td>171524</td>\n",
       "      <td>0.553706</td>\n",
       "    </tr>\n",
       "    <tr>\n",
       "      <th>15</th>\n",
       "      <td>440</td>\n",
       "      <td>14 April 2021</td>\n",
       "      <td>199584</td>\n",
       "      <td>14071015</td>\n",
       "      <td>1038</td>\n",
       "      <td>172562</td>\n",
       "      <td>0.520082</td>\n",
       "    </tr>\n",
       "    <tr>\n",
       "      <th>16</th>\n",
       "      <td>441</td>\n",
       "      <td>15 April 2021</td>\n",
       "      <td>216828</td>\n",
       "      <td>14287843</td>\n",
       "      <td>1184</td>\n",
       "      <td>173746</td>\n",
       "      <td>0.546055</td>\n",
       "    </tr>\n",
       "    <tr>\n",
       "      <th>17</th>\n",
       "      <td>442</td>\n",
       "      <td>16 April 2021</td>\n",
       "      <td>234002</td>\n",
       "      <td>14521845</td>\n",
       "      <td>1338</td>\n",
       "      <td>175084</td>\n",
       "      <td>0.571790</td>\n",
       "    </tr>\n",
       "    <tr>\n",
       "      <th>18</th>\n",
       "      <td>443</td>\n",
       "      <td>17 April 2021</td>\n",
       "      <td>260895</td>\n",
       "      <td>14782740</td>\n",
       "      <td>1498</td>\n",
       "      <td>176582</td>\n",
       "      <td>0.574177</td>\n",
       "    </tr>\n",
       "    <tr>\n",
       "      <th>19</th>\n",
       "      <td>444</td>\n",
       "      <td>18 April 2021</td>\n",
       "      <td>275063</td>\n",
       "      <td>15057803</td>\n",
       "      <td>1620</td>\n",
       "      <td>178202</td>\n",
       "      <td>0.588956</td>\n",
       "    </tr>\n",
       "    <tr>\n",
       "      <th>20</th>\n",
       "      <td>445</td>\n",
       "      <td>19 April 2021</td>\n",
       "      <td>257003</td>\n",
       "      <td>15314806</td>\n",
       "      <td>1757</td>\n",
       "      <td>179959</td>\n",
       "      <td>0.683650</td>\n",
       "    </tr>\n",
       "    <tr>\n",
       "      <th>21</th>\n",
       "      <td>446</td>\n",
       "      <td>20 April 2021</td>\n",
       "      <td>294365</td>\n",
       "      <td>15609171</td>\n",
       "      <td>2021</td>\n",
       "      <td>181980</td>\n",
       "      <td>0.686563</td>\n",
       "    </tr>\n",
       "    <tr>\n",
       "      <th>22</th>\n",
       "      <td>447</td>\n",
       "      <td>21 April 2021</td>\n",
       "      <td>315735</td>\n",
       "      <td>15924906</td>\n",
       "      <td>2101</td>\n",
       "      <td>184081</td>\n",
       "      <td>0.665431</td>\n",
       "    </tr>\n",
       "    <tr>\n",
       "      <th>23</th>\n",
       "      <td>448</td>\n",
       "      <td>22 April 2021</td>\n",
       "      <td>332518</td>\n",
       "      <td>16257424</td>\n",
       "      <td>2257</td>\n",
       "      <td>186338</td>\n",
       "      <td>0.678760</td>\n",
       "    </tr>\n",
       "    <tr>\n",
       "      <th>24</th>\n",
       "      <td>449</td>\n",
       "      <td>23 April 2021</td>\n",
       "      <td>345281</td>\n",
       "      <td>16602705</td>\n",
       "      <td>2620</td>\n",
       "      <td>188958</td>\n",
       "      <td>0.758802</td>\n",
       "    </tr>\n",
       "    <tr>\n",
       "      <th>25</th>\n",
       "      <td>450</td>\n",
       "      <td>24 April 2021</td>\n",
       "      <td>348979</td>\n",
       "      <td>16951684</td>\n",
       "      <td>2761</td>\n",
       "      <td>191719</td>\n",
       "      <td>0.791165</td>\n",
       "    </tr>\n",
       "    <tr>\n",
       "      <th>26</th>\n",
       "      <td>451</td>\n",
       "      <td>25 April 2021</td>\n",
       "      <td>354653</td>\n",
       "      <td>17306337</td>\n",
       "      <td>2808</td>\n",
       "      <td>194527</td>\n",
       "      <td>0.791760</td>\n",
       "    </tr>\n",
       "    <tr>\n",
       "      <th>27</th>\n",
       "      <td>452</td>\n",
       "      <td>26 April 2021</td>\n",
       "      <td>319460</td>\n",
       "      <td>17625797</td>\n",
       "      <td>2762</td>\n",
       "      <td>197289</td>\n",
       "      <td>0.864584</td>\n",
       "    </tr>\n",
       "  </tbody>\n",
       "</table>\n",
       "</div>"
      ],
      "text/plain": [
       "    index           Date  Daily Confirmed  Total Confirmed  Daily Deceased  \\\n",
       "0     425  30 March 2021            53237         12148521             355   \n",
       "1     426  31 March 2021            72113         12220634             458   \n",
       "2     427   1 April 2021            81398         12302032             468   \n",
       "3     428   2 April 2021            89023         12391055             713   \n",
       "4     429   3 April 2021            92994         12484049             514   \n",
       "5     430   4 April 2021           103794         12587843             477   \n",
       "6     431   5 April 2021            96563         12684406             446   \n",
       "7     432   6 April 2021           115312         12799718             630   \n",
       "8     433   7 April 2021           126276         12925994             684   \n",
       "9     434   8 April 2021           131878         13057872             802   \n",
       "10    435   9 April 2021           144945         13202817             773   \n",
       "11    436  10 April 2021           152565         13355382             838   \n",
       "12    437  11 April 2021           169914         13525296             904   \n",
       "13    438  12 April 2021           160838         13686134             880   \n",
       "14    439  13 April 2021           185297         13871431            1026   \n",
       "15    440  14 April 2021           199584         14071015            1038   \n",
       "16    441  15 April 2021           216828         14287843            1184   \n",
       "17    442  16 April 2021           234002         14521845            1338   \n",
       "18    443  17 April 2021           260895         14782740            1498   \n",
       "19    444  18 April 2021           275063         15057803            1620   \n",
       "20    445  19 April 2021           257003         15314806            1757   \n",
       "21    446  20 April 2021           294365         15609171            2021   \n",
       "22    447  21 April 2021           315735         15924906            2101   \n",
       "23    448  22 April 2021           332518         16257424            2257   \n",
       "24    449  23 April 2021           345281         16602705            2620   \n",
       "25    450  24 April 2021           348979         16951684            2761   \n",
       "26    451  25 April 2021           354653         17306337            2808   \n",
       "27    452  26 April 2021           319460         17625797            2762   \n",
       "\n",
       "    Total Deceased       CFR  \n",
       "0           161911  0.666829  \n",
       "1           162369  0.635114  \n",
       "2           162837  0.574953  \n",
       "3           163550  0.800917  \n",
       "4           164064  0.552724  \n",
       "5           164541  0.459564  \n",
       "6           164987  0.461875  \n",
       "7           165617  0.546344  \n",
       "8           166301  0.541671  \n",
       "9           167103  0.608138  \n",
       "10          167876  0.533306  \n",
       "11          168714  0.549274  \n",
       "12          169618  0.532034  \n",
       "13          170498  0.547134  \n",
       "14          171524  0.553706  \n",
       "15          172562  0.520082  \n",
       "16          173746  0.546055  \n",
       "17          175084  0.571790  \n",
       "18          176582  0.574177  \n",
       "19          178202  0.588956  \n",
       "20          179959  0.683650  \n",
       "21          181980  0.686563  \n",
       "22          184081  0.665431  \n",
       "23          186338  0.678760  \n",
       "24          188958  0.758802  \n",
       "25          191719  0.791165  \n",
       "26          194527  0.791760  \n",
       "27          197289  0.864584  "
      ]
     },
     "execution_count": 296,
     "metadata": {},
     "output_type": "execute_result"
    }
   ],
   "source": [
    "last_month_data = last_month_data.rename(columns={\"level_0\": \"X\"})\n",
    "last_month_data"
   ]
  },
  {
   "cell_type": "code",
   "execution_count": 149,
   "metadata": {},
   "outputs": [],
   "source": [
    "last_month_data.to_csv('last_month.csv')"
   ]
  },
  {
   "cell_type": "markdown",
   "metadata": {},
   "source": [
    "One Sample T-test (against Population Mean)"
   ]
  },
  {
   "cell_type": "code",
   "execution_count": 297,
   "metadata": {},
   "outputs": [
    {
     "name": "stdout",
     "output_type": "stream",
     "text": [
      "t Statistic:  -47.4354621442257\n",
      "P Value:  1.5252515175502669e-27\n"
     ]
    }
   ],
   "source": [
    "from scipy.stats import ttest_1samp\n",
    "tscore, pvalue = ttest_1samp(last_month, popmean=mu_pop)\n",
    "print(\"t Statistic: \", tscore)  \n",
    "print(\"P Value: \", pvalue)"
   ]
  },
  {
   "cell_type": "markdown",
   "metadata": {},
   "source": [
    "Reject Null Hypothesis"
   ]
  },
  {
   "cell_type": "markdown",
   "metadata": {},
   "source": [
    "# Results"
   ]
  },
  {
   "cell_type": "markdown",
   "metadata": {},
   "source": [
    "1. Phase 1 vs Population - Reject Null Hypothesis \n",
    "2. Phase 2 vs Population - Accept Null Hypothesis\n",
    "3. Phase 3 vs Population - Accept Null Hypothesis\n",
    "4. Phase 1 vs Phase 2 - Reject Null Hypothesis\n",
    "5. Phase 1 vs Phase 3 - Reject Null Hypothesis\n",
    "6. Phase 2 vs Phase 3 - Reject Null Hypothesis\n",
    "7. Last 28 days vs Population - Reject Null Hypothesis (t-test)"
   ]
  },
  {
   "cell_type": "markdown",
   "metadata": {},
   "source": [
    "# SIR Model"
   ]
  },
  {
   "cell_type": "code",
   "execution_count": 151,
   "metadata": {},
   "outputs": [],
   "source": [
    "from astropy import modeling"
   ]
  },
  {
   "cell_type": "code",
   "execution_count": 152,
   "metadata": {},
   "outputs": [],
   "source": [
    "x=last_month_data['X']"
   ]
  },
  {
   "cell_type": "markdown",
   "metadata": {},
   "source": [
    "# Predicting Cases"
   ]
  },
  {
   "cell_type": "code",
   "execution_count": 234,
   "metadata": {},
   "outputs": [],
   "source": [
    "fitter = modeling.fitting.LevMarLSQFitter()\n",
    "model = modeling.models.Gaussian1D()   # depending on the data you need to give some initial values\n",
    "fitted_model = fitter(model, x, last_month_data['Daily Confirmed'])"
   ]
  },
  {
   "cell_type": "code",
   "execution_count": 235,
   "metadata": {},
   "outputs": [
    {
     "data": {
      "text/plain": [
       "[<matplotlib.lines.Line2D at 0x1b3f85eee20>]"
      ]
     },
     "execution_count": 235,
     "metadata": {},
     "output_type": "execute_result"
    },
    {
     "data": {
      "image/png": "[encoded data removed]",
      "text/plain": [
       "<Figure size 1000x500 with 1 Axes>"
      ]
     },
     "metadata": {},
     "output_type": "display_data"
    }
   ],
   "source": [
    "plt.plot(x, last_month_data['Daily Confirmed'])\n",
    "plt.plot(x, fitted_model(x))"
   ]
  },
  {
   "cell_type": "code",
   "execution_count": 155,
   "metadata": {},
   "outputs": [
    {
     "data": {
      "text/plain": [
       "[<matplotlib.lines.Line2D at 0x1b3f138e250>]"
      ]
     },
     "execution_count": 155,
     "metadata": {},
     "output_type": "execute_result"
    },
    {
     "data": {
      "image/png": "[encoded data removed]",
      "text/plain": [
       "<Figure size 1000x500 with 1 Axes>"
      ]
     },
     "metadata": {
      "needs_background": "light"
     },
     "output_type": "display_data"
    }
   ],
   "source": [
    "plt.figure(figsize=(10,5))\n",
    "plt.xlabel('DAY') \n",
    "plt.ylabel('Cases Reported') \n",
    "plt.bar(x, last_month_data['Daily Confirmed'], color ='#48db8d')\n",
    "plt.plot(x, fitted_model(x), color ='orange')"
   ]
  },
  {
   "cell_type": "code",
   "execution_count": 168,
   "metadata": {
    "scrolled": true
   },
   "outputs": [
    {
     "data": {
      "text/plain": [
       "array([ 56821.85288019,  63356.90287837,  70422.98048489,  78032.72596459,\n",
       "        86194.8007986 ,  94913.34439571, 104187.44729961, 114010.6529712 ,\n",
       "       124370.50081069, 135248.12339799, 146617.9109354 , 158447.25554424,\n",
       "       170696.38737559, 183318.31343253, 196258.86856664, 209456.88631688,\n",
       "       222844.4951268 , 236347.54304453, 249886.15132629, 263375.39449046,\n",
       "       276726.10137453, 289845.76871172, 302639.5757519 , 315011.48559193,\n",
       "       326865.41624197, 338106.46212396, 348642.14475653, 358383.66989932])"
      ]
     },
     "execution_count": 168,
     "metadata": {},
     "output_type": "execute_result"
    }
   ],
   "source": [
    "fitted_model(x)"
   ]
  },
  {
   "cell_type": "code",
   "execution_count": 236,
   "metadata": {},
   "outputs": [],
   "source": [
    "l = [i for i in range(0, 35)]\n",
    "l = pd.Series(l)"
   ]
  },
  {
   "cell_type": "code",
   "execution_count": 237,
   "metadata": {},
   "outputs": [
    {
     "data": {
      "text/plain": [
       "array([ 56821.85288019,  63356.90287837,  70422.98048489,  78032.72596459,\n",
       "        86194.8007986 ,  94913.34439571, 104187.44729961, 114010.6529712 ,\n",
       "       124370.50081069, 135248.12339799, 146617.9109354 , 158447.25554424,\n",
       "       170696.38737559, 183318.31343253, 196258.86856664, 209456.88631688,\n",
       "       222844.4951268 , 236347.54304453, 249886.15132629, 263375.39449046,\n",
       "       276726.10137453, 289845.76871172, 302639.5757519 , 315011.48559193,\n",
       "       326865.41624197, 338106.46212396, 348642.14475653, 358383.66989932,\n",
       "       367247.16746964, 375154.89015107, 382036.34681742, 387829.34770764,\n",
       "       392480.9397012 , 395948.21203254, 398198.95530315])"
      ]
     },
     "execution_count": 237,
     "metadata": {},
     "output_type": "execute_result"
    }
   ],
   "source": [
    "fitted_model(l)"
   ]
  },
  {
   "cell_type": "markdown",
   "metadata": {},
   "source": [
    "Next week forecasts for Daily Cases"
   ]
  },
  {
   "cell_type": "code",
   "execution_count": 240,
   "metadata": {},
   "outputs": [
    {
     "data": {
      "text/plain": [
       "array([367247.16746964, 375154.89015107, 382036.34681742, 387829.34770764,\n",
       "       392480.9397012 , 395948.21203254, 398198.95530315])"
      ]
     },
     "execution_count": 240,
     "metadata": {},
     "output_type": "execute_result"
    }
   ],
   "source": [
    "#forecasts\n",
    "fitted_model(l)[-7:]"
   ]
  },
  {
   "cell_type": "markdown",
   "metadata": {},
   "source": [
    "# Predicting Deaths"
   ]
  },
  {
   "cell_type": "code",
   "execution_count": 241,
   "metadata": {},
   "outputs": [
    {
     "name": "stderr",
     "output_type": "stream",
     "text": [
      "WARNING: The fit may be unsuccessful; check fit_info['message'] for more information. [astropy.modeling.fitting]\n"
     ]
    }
   ],
   "source": [
    "fitter = modeling.fitting.LevMarLSQFitter()\n",
    "model = modeling.models.Gaussian1D()   # depending on the data you need to give some initial values\n",
    "fitted_model = fitter(model, x, last_month_data['Daily Deceased'])"
   ]
  },
  {
   "cell_type": "code",
   "execution_count": 242,
   "metadata": {},
   "outputs": [
    {
     "data": {
      "text/plain": [
       "[<matplotlib.lines.Line2D at 0x1b3f866c280>]"
      ]
     },
     "execution_count": 242,
     "metadata": {},
     "output_type": "execute_result"
    },
    {
     "data": {
      "image/png": "[encoded data removed]",
      "text/plain": [
       "<Figure size 1000x500 with 1 Axes>"
      ]
     },
     "metadata": {},
     "output_type": "display_data"
    }
   ],
   "source": [
    "plt.plot(x, last_month_data['Daily Deceased'])\n",
    "plt.plot(x, fitted_model(x))"
   ]
  },
  {
   "cell_type": "code",
   "execution_count": 243,
   "metadata": {},
   "outputs": [
    {
     "data": {
      "text/plain": [
       "[<matplotlib.lines.Line2D at 0x1b3f86b5a30>]"
      ]
     },
     "execution_count": 243,
     "metadata": {},
     "output_type": "execute_result"
    },
    {
     "data": {
      "image/png": "[encoded data removed]",
      "text/plain": [
       "<Figure size 1000x500 with 1 Axes>"
      ]
     },
     "metadata": {},
     "output_type": "display_data"
    }
   ],
   "source": [
    "plt.figure(figsize=(10,5))\n",
    "plt.xlabel('DAY') \n",
    "plt.ylabel('Deaths') \n",
    "plt.bar(x, last_month_data['Daily Deceased'], color ='#48db8d')\n",
    "plt.plot(x, fitted_model(x), color ='orange')"
   ]
  },
  {
   "cell_type": "markdown",
   "metadata": {},
   "source": [
    "Daily Deaths Forecast for next week"
   ]
  },
  {
   "cell_type": "code",
   "execution_count": 246,
   "metadata": {},
   "outputs": [
    {
     "data": {
      "text/plain": [
       "array([3237.45365609, 3482.09276315, 3743.0382959 , 4021.1971128 ,\n",
       "       4317.51257585, 4632.96498623, 4968.57194081])"
      ]
     },
     "execution_count": 246,
     "metadata": {},
     "output_type": "execute_result"
    }
   ],
   "source": [
    "fitted_model(l)[-7:]"
   ]
  }
 ],
 "metadata": {
  "kernelspec": {
   "display_name": "Python 3",
   "language": "python",
   "name": "python3"
  },
  "language_info": {
   "codemirror_mode": {
    "name": "ipython",
    "version": 3
   },
   "file_extension": ".py",
   "mimetype": "text/x-python",
   "name": "python",
   "nbconvert_exporter": "python",
   "pygments_lexer": "ipython3",
   "version": "3.8.5"
  }
 },
 "nbformat": 4,
 "nbformat_minor": 4
}
