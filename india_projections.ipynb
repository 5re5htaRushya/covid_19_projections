{
 "cells": [
  {
   "cell_type": "code",
   "execution_count": 1,
   "metadata": {},
   "outputs": [],
   "source": [
    "df<-read.csv(\"case_time_series.csv\")"
   ]
  },
  {
   "cell_type": "code",
   "execution_count": 2,
   "metadata": {},
   "outputs": [
    {
     "data": {
      "text/html": [
       "<table>\n",
       "<caption>A data.frame: 207 × 9</caption>\n",
       "<thead>\n",
       "\t<tr><th scope=col>index</th><th scope=col>Day</th><th scope=col>Daily.Count</th><th scope=col>Total.Confirmed</th><th scope=col>Daily.Recovered</th><th scope=col>Total.Recovered</th><th scope=col>Daily.Deceased</th><th scope=col>Total.Deceased</th><th scope=col>Date</th></tr>\n",
       "\t<tr><th scope=col>&lt;int&gt;</th><th scope=col>&lt;int&gt;</th><th scope=col>&lt;int&gt;</th><th scope=col>&lt;int&gt;</th><th scope=col>&lt;int&gt;</th><th scope=col>&lt;int&gt;</th><th scope=col>&lt;int&gt;</th><th scope=col>&lt;int&gt;</th><th scope=col>&lt;fct&gt;</th></tr>\n",
       "</thead>\n",
       "<tbody>\n",
       "\t<tr><td> 0</td><td> 1</td><td>  0</td><td>   3</td><td> 0</td><td>  3</td><td> 0</td><td> 0</td><td>1-Mar </td></tr>\n",
       "\t<tr><td> 1</td><td> 2</td><td>  2</td><td>   5</td><td> 0</td><td>  3</td><td> 0</td><td> 0</td><td>2-Mar </td></tr>\n",
       "\t<tr><td> 2</td><td> 3</td><td>  1</td><td>   6</td><td> 0</td><td>  3</td><td> 0</td><td> 0</td><td>3-Mar </td></tr>\n",
       "\t<tr><td> 3</td><td> 4</td><td> 22</td><td>  28</td><td> 0</td><td>  3</td><td> 0</td><td> 0</td><td>4-Mar </td></tr>\n",
       "\t<tr><td> 4</td><td> 5</td><td>  2</td><td>  30</td><td> 0</td><td>  3</td><td> 0</td><td> 0</td><td>5-Mar </td></tr>\n",
       "\t<tr><td> 5</td><td> 6</td><td>  1</td><td>  31</td><td> 0</td><td>  3</td><td> 0</td><td> 0</td><td>6-Mar </td></tr>\n",
       "\t<tr><td> 6</td><td> 7</td><td>  3</td><td>  34</td><td> 0</td><td>  3</td><td> 0</td><td> 0</td><td>7-Mar </td></tr>\n",
       "\t<tr><td> 7</td><td> 8</td><td>  5</td><td>  39</td><td> 0</td><td>  3</td><td> 0</td><td> 0</td><td>8-Mar </td></tr>\n",
       "\t<tr><td> 8</td><td> 9</td><td>  9</td><td>  48</td><td> 0</td><td>  3</td><td> 0</td><td> 0</td><td>9-Mar </td></tr>\n",
       "\t<tr><td> 9</td><td>10</td><td> 15</td><td>  63</td><td> 1</td><td>  4</td><td> 0</td><td> 0</td><td>10-Mar</td></tr>\n",
       "\t<tr><td>10</td><td>11</td><td>  8</td><td>  71</td><td> 0</td><td>  4</td><td> 0</td><td> 0</td><td>11-Mar</td></tr>\n",
       "\t<tr><td>11</td><td>12</td><td> 10</td><td>  81</td><td> 0</td><td>  4</td><td> 1</td><td> 1</td><td>12-Mar</td></tr>\n",
       "\t<tr><td>12</td><td>13</td><td> 10</td><td>  91</td><td> 6</td><td> 10</td><td> 0</td><td> 1</td><td>13-Mar</td></tr>\n",
       "\t<tr><td>13</td><td>14</td><td> 11</td><td> 102</td><td> 0</td><td> 10</td><td> 1</td><td> 2</td><td>14-Mar</td></tr>\n",
       "\t<tr><td>14</td><td>15</td><td> 10</td><td> 112</td><td> 3</td><td> 13</td><td> 0</td><td> 2</td><td>15-Mar</td></tr>\n",
       "\t<tr><td>15</td><td>16</td><td> 14</td><td> 126</td><td> 1</td><td> 14</td><td> 0</td><td> 2</td><td>16-Mar</td></tr>\n",
       "\t<tr><td>16</td><td>17</td><td> 20</td><td> 146</td><td> 1</td><td> 15</td><td> 1</td><td> 3</td><td>17-Mar</td></tr>\n",
       "\t<tr><td>17</td><td>18</td><td> 25</td><td> 171</td><td> 0</td><td> 15</td><td> 0</td><td> 3</td><td>18-Mar</td></tr>\n",
       "\t<tr><td>18</td><td>19</td><td> 27</td><td> 198</td><td> 5</td><td> 20</td><td> 1</td><td> 4</td><td>19-Mar</td></tr>\n",
       "\t<tr><td>19</td><td>20</td><td> 58</td><td> 256</td><td> 3</td><td> 23</td><td> 0</td><td> 4</td><td>20-Mar</td></tr>\n",
       "\t<tr><td>20</td><td>21</td><td> 78</td><td> 334</td><td> 0</td><td> 23</td><td> 0</td><td> 4</td><td>21-Mar</td></tr>\n",
       "\t<tr><td>21</td><td>22</td><td> 69</td><td> 403</td><td> 0</td><td> 23</td><td> 3</td><td> 7</td><td>22-Mar</td></tr>\n",
       "\t<tr><td>22</td><td>23</td><td> 94</td><td> 497</td><td> 2</td><td> 25</td><td> 2</td><td> 9</td><td>23-Mar</td></tr>\n",
       "\t<tr><td>23</td><td>24</td><td> 74</td><td> 571</td><td>15</td><td> 40</td><td> 1</td><td>10</td><td>24-Mar</td></tr>\n",
       "\t<tr><td>24</td><td>25</td><td> 86</td><td> 657</td><td> 3</td><td> 43</td><td> 1</td><td>11</td><td>25-Mar</td></tr>\n",
       "\t<tr><td>25</td><td>26</td><td> 73</td><td> 730</td><td> 7</td><td> 50</td><td> 5</td><td>16</td><td>26-Mar</td></tr>\n",
       "\t<tr><td>26</td><td>27</td><td>153</td><td> 883</td><td>25</td><td> 75</td><td> 3</td><td>19</td><td>27-Mar</td></tr>\n",
       "\t<tr><td>27</td><td>28</td><td>136</td><td>1019</td><td>10</td><td> 85</td><td> 5</td><td>24</td><td>28-Mar</td></tr>\n",
       "\t<tr><td>28</td><td>29</td><td>120</td><td>1139</td><td>17</td><td>102</td><td> 3</td><td>27</td><td>29-Mar</td></tr>\n",
       "\t<tr><td>29</td><td>30</td><td>187</td><td>1326</td><td>35</td><td>137</td><td>14</td><td>41</td><td>30-Mar</td></tr>\n",
       "\t<tr><td>...</td><td>...</td><td>...</td><td>...</td><td>...</td><td>...</td><td>...</td><td>...</td><td>...</td></tr>\n",
       "\t<tr><td>177</td><td>178</td><td>66873</td><td>3231768</td><td> 64151</td><td>2467245</td><td>1066</td><td>59624</td><td>25-Aug</td></tr>\n",
       "\t<tr><td>178</td><td>179</td><td>75995</td><td>3307763</td><td> 56191</td><td>2523436</td><td>1017</td><td>60641</td><td>26-Aug</td></tr>\n",
       "\t<tr><td>179</td><td>180</td><td>76827</td><td>3384590</td><td> 59620</td><td>2583056</td><td>1066</td><td>61707</td><td>27-Aug</td></tr>\n",
       "\t<tr><td>180</td><td>181</td><td>76657</td><td>3461247</td><td> 64475</td><td>2647531</td><td>1019</td><td>62726</td><td>28-Aug</td></tr>\n",
       "\t<tr><td>181</td><td>182</td><td>78479</td><td>3539726</td><td> 64982</td><td>2712513</td><td> 943</td><td>63669</td><td>29-Aug</td></tr>\n",
       "\t<tr><td>182</td><td>183</td><td>79461</td><td>3619187</td><td> 60422</td><td>2772935</td><td> 960</td><td>64629</td><td>30-Aug</td></tr>\n",
       "\t<tr><td>183</td><td>184</td><td>68766</td><td>3687953</td><td> 64435</td><td>2837370</td><td> 816</td><td>65445</td><td>31-Aug</td></tr>\n",
       "\t<tr><td>184</td><td>185</td><td>78168</td><td>3766121</td><td> 62145</td><td>2899515</td><td> 892</td><td>66337</td><td>1-Sep </td></tr>\n",
       "\t<tr><td>185</td><td>186</td><td>82860</td><td>3848981</td><td> 67874</td><td>2967389</td><td> 913</td><td>67250</td><td>2-Sep </td></tr>\n",
       "\t<tr><td>186</td><td>187</td><td>84156</td><td>3933137</td><td> 67491</td><td>3034880</td><td> 979</td><td>68229</td><td>3-Sep </td></tr>\n",
       "\t<tr><td>187</td><td>188</td><td>87115</td><td>4020252</td><td> 69625</td><td>3104505</td><td> 950</td><td>69179</td><td>4-Sep </td></tr>\n",
       "\t<tr><td>188</td><td>189</td><td>90600</td><td>4110852</td><td> 73161</td><td>3177666</td><td> 916</td><td>70095</td><td>5-Sep </td></tr>\n",
       "\t<tr><td>189</td><td>190</td><td>91725</td><td>4202577</td><td> 69630</td><td>3247296</td><td>1005</td><td>71100</td><td>6-Sep </td></tr>\n",
       "\t<tr><td>190</td><td>191</td><td>75015</td><td>4277592</td><td> 74116</td><td>3321412</td><td>1129</td><td>72229</td><td>7-Sep </td></tr>\n",
       "\t<tr><td>191</td><td>192</td><td>89855</td><td>4367447</td><td> 74608</td><td>3396020</td><td>1107</td><td>73336</td><td>8-Sep </td></tr>\n",
       "\t<tr><td>192</td><td>193</td><td>95536</td><td>4462983</td><td> 73062</td><td>3469082</td><td>1168</td><td>74504</td><td>9-Sep </td></tr>\n",
       "\t<tr><td>193</td><td>194</td><td>96762</td><td>4559745</td><td> 70904</td><td>3539986</td><td>1213</td><td>75717</td><td>10-Sep</td></tr>\n",
       "\t<tr><td>194</td><td>195</td><td>97655</td><td>4657400</td><td> 81456</td><td>3621442</td><td>1202</td><td>76919</td><td>11-Sep</td></tr>\n",
       "\t<tr><td>195</td><td>196</td><td>94414</td><td>4751814</td><td> 77862</td><td>3699304</td><td>1111</td><td>78030</td><td>12-Sep</td></tr>\n",
       "\t<tr><td>196</td><td>197</td><td>93220</td><td>4845034</td><td> 77748</td><td>3777052</td><td>1140</td><td>79170</td><td>13-Sep</td></tr>\n",
       "\t<tr><td>197</td><td>198</td><td>81913</td><td>4926947</td><td> 79213</td><td>3856265</td><td>1054</td><td>80224</td><td>14-Sep</td></tr>\n",
       "\t<tr><td>198</td><td>199</td><td>91098</td><td>5018045</td><td> 82849</td><td>3939114</td><td>1281</td><td>81505</td><td>15-Sep</td></tr>\n",
       "\t<tr><td>199</td><td>200</td><td>97860</td><td>5115905</td><td> 82924</td><td>4022038</td><td>1140</td><td>82645</td><td>16-Sep</td></tr>\n",
       "\t<tr><td>200</td><td>201</td><td>96787</td><td>5212692</td><td> 87788</td><td>4109826</td><td>1175</td><td>83820</td><td>17-Sep</td></tr>\n",
       "\t<tr><td>201</td><td>202</td><td>92973</td><td>5305665</td><td> 95515</td><td>4205341</td><td>1221</td><td>85041</td><td>18-Sep</td></tr>\n",
       "\t<tr><td>202</td><td>203</td><td>92574</td><td>5398239</td><td> 94389</td><td>4299730</td><td>1149</td><td>86190</td><td>19-Sep</td></tr>\n",
       "\t<tr><td>203</td><td>204</td><td>87395</td><td>5485634</td><td> 92926</td><td>4392656</td><td>1135</td><td>87325</td><td>20-Sep</td></tr>\n",
       "\t<tr><td>204</td><td>205</td><td>74493</td><td>5560127</td><td>102070</td><td>4494726</td><td>1056</td><td>88381</td><td>21-Sep</td></tr>\n",
       "\t<tr><td>205</td><td>206</td><td>83361</td><td>5643488</td><td> 89653</td><td>4584379</td><td>1085</td><td>89466</td><td>22-Sep</td></tr>\n",
       "\t<tr><td>206</td><td>207</td><td>86703</td><td>5730191</td><td> 87458</td><td>4671837</td><td>1123</td><td>90589</td><td>23-Sep</td></tr>\n",
       "</tbody>\n",
       "</table>\n"
      ],
      "text/latex": [
       "A data.frame: 207 × 9\n",
       "\\begin{tabular}{lllllllll}\n",
       " index & Day & Daily.Count & Total.Confirmed & Daily.Recovered & Total.Recovered & Daily.Deceased & Total.Deceased & Date\\\\\n",
       " <int> & <int> & <int> & <int> & <int> & <int> & <int> & <int> & <fct>\\\\\n",
       "\\hline\n",
       "\t  0 &  1 &   0 &    3 &  0 &   3 &  0 &  0 & 1-Mar \\\\\n",
       "\t  1 &  2 &   2 &    5 &  0 &   3 &  0 &  0 & 2-Mar \\\\\n",
       "\t  2 &  3 &   1 &    6 &  0 &   3 &  0 &  0 & 3-Mar \\\\\n",
       "\t  3 &  4 &  22 &   28 &  0 &   3 &  0 &  0 & 4-Mar \\\\\n",
       "\t  4 &  5 &   2 &   30 &  0 &   3 &  0 &  0 & 5-Mar \\\\\n",
       "\t  5 &  6 &   1 &   31 &  0 &   3 &  0 &  0 & 6-Mar \\\\\n",
       "\t  6 &  7 &   3 &   34 &  0 &   3 &  0 &  0 & 7-Mar \\\\\n",
       "\t  7 &  8 &   5 &   39 &  0 &   3 &  0 &  0 & 8-Mar \\\\\n",
       "\t  8 &  9 &   9 &   48 &  0 &   3 &  0 &  0 & 9-Mar \\\\\n",
       "\t  9 & 10 &  15 &   63 &  1 &   4 &  0 &  0 & 10-Mar\\\\\n",
       "\t 10 & 11 &   8 &   71 &  0 &   4 &  0 &  0 & 11-Mar\\\\\n",
       "\t 11 & 12 &  10 &   81 &  0 &   4 &  1 &  1 & 12-Mar\\\\\n",
       "\t 12 & 13 &  10 &   91 &  6 &  10 &  0 &  1 & 13-Mar\\\\\n",
       "\t 13 & 14 &  11 &  102 &  0 &  10 &  1 &  2 & 14-Mar\\\\\n",
       "\t 14 & 15 &  10 &  112 &  3 &  13 &  0 &  2 & 15-Mar\\\\\n",
       "\t 15 & 16 &  14 &  126 &  1 &  14 &  0 &  2 & 16-Mar\\\\\n",
       "\t 16 & 17 &  20 &  146 &  1 &  15 &  1 &  3 & 17-Mar\\\\\n",
       "\t 17 & 18 &  25 &  171 &  0 &  15 &  0 &  3 & 18-Mar\\\\\n",
       "\t 18 & 19 &  27 &  198 &  5 &  20 &  1 &  4 & 19-Mar\\\\\n",
       "\t 19 & 20 &  58 &  256 &  3 &  23 &  0 &  4 & 20-Mar\\\\\n",
       "\t 20 & 21 &  78 &  334 &  0 &  23 &  0 &  4 & 21-Mar\\\\\n",
       "\t 21 & 22 &  69 &  403 &  0 &  23 &  3 &  7 & 22-Mar\\\\\n",
       "\t 22 & 23 &  94 &  497 &  2 &  25 &  2 &  9 & 23-Mar\\\\\n",
       "\t 23 & 24 &  74 &  571 & 15 &  40 &  1 & 10 & 24-Mar\\\\\n",
       "\t 24 & 25 &  86 &  657 &  3 &  43 &  1 & 11 & 25-Mar\\\\\n",
       "\t 25 & 26 &  73 &  730 &  7 &  50 &  5 & 16 & 26-Mar\\\\\n",
       "\t 26 & 27 & 153 &  883 & 25 &  75 &  3 & 19 & 27-Mar\\\\\n",
       "\t 27 & 28 & 136 & 1019 & 10 &  85 &  5 & 24 & 28-Mar\\\\\n",
       "\t 28 & 29 & 120 & 1139 & 17 & 102 &  3 & 27 & 29-Mar\\\\\n",
       "\t 29 & 30 & 187 & 1326 & 35 & 137 & 14 & 41 & 30-Mar\\\\\n",
       "\t ... & ... & ... & ... & ... & ... & ... & ... & ...\\\\\n",
       "\t 177 & 178 & 66873 & 3231768 &  64151 & 2467245 & 1066 & 59624 & 25-Aug\\\\\n",
       "\t 178 & 179 & 75995 & 3307763 &  56191 & 2523436 & 1017 & 60641 & 26-Aug\\\\\n",
       "\t 179 & 180 & 76827 & 3384590 &  59620 & 2583056 & 1066 & 61707 & 27-Aug\\\\\n",
       "\t 180 & 181 & 76657 & 3461247 &  64475 & 2647531 & 1019 & 62726 & 28-Aug\\\\\n",
       "\t 181 & 182 & 78479 & 3539726 &  64982 & 2712513 &  943 & 63669 & 29-Aug\\\\\n",
       "\t 182 & 183 & 79461 & 3619187 &  60422 & 2772935 &  960 & 64629 & 30-Aug\\\\\n",
       "\t 183 & 184 & 68766 & 3687953 &  64435 & 2837370 &  816 & 65445 & 31-Aug\\\\\n",
       "\t 184 & 185 & 78168 & 3766121 &  62145 & 2899515 &  892 & 66337 & 1-Sep \\\\\n",
       "\t 185 & 186 & 82860 & 3848981 &  67874 & 2967389 &  913 & 67250 & 2-Sep \\\\\n",
       "\t 186 & 187 & 84156 & 3933137 &  67491 & 3034880 &  979 & 68229 & 3-Sep \\\\\n",
       "\t 187 & 188 & 87115 & 4020252 &  69625 & 3104505 &  950 & 69179 & 4-Sep \\\\\n",
       "\t 188 & 189 & 90600 & 4110852 &  73161 & 3177666 &  916 & 70095 & 5-Sep \\\\\n",
       "\t 189 & 190 & 91725 & 4202577 &  69630 & 3247296 & 1005 & 71100 & 6-Sep \\\\\n",
       "\t 190 & 191 & 75015 & 4277592 &  74116 & 3321412 & 1129 & 72229 & 7-Sep \\\\\n",
       "\t 191 & 192 & 89855 & 4367447 &  74608 & 3396020 & 1107 & 73336 & 8-Sep \\\\\n",
       "\t 192 & 193 & 95536 & 4462983 &  73062 & 3469082 & 1168 & 74504 & 9-Sep \\\\\n",
       "\t 193 & 194 & 96762 & 4559745 &  70904 & 3539986 & 1213 & 75717 & 10-Sep\\\\\n",
       "\t 194 & 195 & 97655 & 4657400 &  81456 & 3621442 & 1202 & 76919 & 11-Sep\\\\\n",
       "\t 195 & 196 & 94414 & 4751814 &  77862 & 3699304 & 1111 & 78030 & 12-Sep\\\\\n",
       "\t 196 & 197 & 93220 & 4845034 &  77748 & 3777052 & 1140 & 79170 & 13-Sep\\\\\n",
       "\t 197 & 198 & 81913 & 4926947 &  79213 & 3856265 & 1054 & 80224 & 14-Sep\\\\\n",
       "\t 198 & 199 & 91098 & 5018045 &  82849 & 3939114 & 1281 & 81505 & 15-Sep\\\\\n",
       "\t 199 & 200 & 97860 & 5115905 &  82924 & 4022038 & 1140 & 82645 & 16-Sep\\\\\n",
       "\t 200 & 201 & 96787 & 5212692 &  87788 & 4109826 & 1175 & 83820 & 17-Sep\\\\\n",
       "\t 201 & 202 & 92973 & 5305665 &  95515 & 4205341 & 1221 & 85041 & 18-Sep\\\\\n",
       "\t 202 & 203 & 92574 & 5398239 &  94389 & 4299730 & 1149 & 86190 & 19-Sep\\\\\n",
       "\t 203 & 204 & 87395 & 5485634 &  92926 & 4392656 & 1135 & 87325 & 20-Sep\\\\\n",
       "\t 204 & 205 & 74493 & 5560127 & 102070 & 4494726 & 1056 & 88381 & 21-Sep\\\\\n",
       "\t 205 & 206 & 83361 & 5643488 &  89653 & 4584379 & 1085 & 89466 & 22-Sep\\\\\n",
       "\t 206 & 207 & 86703 & 5730191 &  87458 & 4671837 & 1123 & 90589 & 23-Sep\\\\\n",
       "\\end{tabular}\n"
      ],
      "text/markdown": [
       "\n",
       "A data.frame: 207 × 9\n",
       "\n",
       "| index &lt;int&gt; | Day &lt;int&gt; | Daily.Count &lt;int&gt; | Total.Confirmed &lt;int&gt; | Daily.Recovered &lt;int&gt; | Total.Recovered &lt;int&gt; | Daily.Deceased &lt;int&gt; | Total.Deceased &lt;int&gt; | Date &lt;fct&gt; |\n",
       "|---|---|---|---|---|---|---|---|---|\n",
       "|  0 |  1 |   0 |    3 |  0 |   3 |  0 |  0 | 1-Mar  |\n",
       "|  1 |  2 |   2 |    5 |  0 |   3 |  0 |  0 | 2-Mar  |\n",
       "|  2 |  3 |   1 |    6 |  0 |   3 |  0 |  0 | 3-Mar  |\n",
       "|  3 |  4 |  22 |   28 |  0 |   3 |  0 |  0 | 4-Mar  |\n",
       "|  4 |  5 |   2 |   30 |  0 |   3 |  0 |  0 | 5-Mar  |\n",
       "|  5 |  6 |   1 |   31 |  0 |   3 |  0 |  0 | 6-Mar  |\n",
       "|  6 |  7 |   3 |   34 |  0 |   3 |  0 |  0 | 7-Mar  |\n",
       "|  7 |  8 |   5 |   39 |  0 |   3 |  0 |  0 | 8-Mar  |\n",
       "|  8 |  9 |   9 |   48 |  0 |   3 |  0 |  0 | 9-Mar  |\n",
       "|  9 | 10 |  15 |   63 |  1 |   4 |  0 |  0 | 10-Mar |\n",
       "| 10 | 11 |   8 |   71 |  0 |   4 |  0 |  0 | 11-Mar |\n",
       "| 11 | 12 |  10 |   81 |  0 |   4 |  1 |  1 | 12-Mar |\n",
       "| 12 | 13 |  10 |   91 |  6 |  10 |  0 |  1 | 13-Mar |\n",
       "| 13 | 14 |  11 |  102 |  0 |  10 |  1 |  2 | 14-Mar |\n",
       "| 14 | 15 |  10 |  112 |  3 |  13 |  0 |  2 | 15-Mar |\n",
       "| 15 | 16 |  14 |  126 |  1 |  14 |  0 |  2 | 16-Mar |\n",
       "| 16 | 17 |  20 |  146 |  1 |  15 |  1 |  3 | 17-Mar |\n",
       "| 17 | 18 |  25 |  171 |  0 |  15 |  0 |  3 | 18-Mar |\n",
       "| 18 | 19 |  27 |  198 |  5 |  20 |  1 |  4 | 19-Mar |\n",
       "| 19 | 20 |  58 |  256 |  3 |  23 |  0 |  4 | 20-Mar |\n",
       "| 20 | 21 |  78 |  334 |  0 |  23 |  0 |  4 | 21-Mar |\n",
       "| 21 | 22 |  69 |  403 |  0 |  23 |  3 |  7 | 22-Mar |\n",
       "| 22 | 23 |  94 |  497 |  2 |  25 |  2 |  9 | 23-Mar |\n",
       "| 23 | 24 |  74 |  571 | 15 |  40 |  1 | 10 | 24-Mar |\n",
       "| 24 | 25 |  86 |  657 |  3 |  43 |  1 | 11 | 25-Mar |\n",
       "| 25 | 26 |  73 |  730 |  7 |  50 |  5 | 16 | 26-Mar |\n",
       "| 26 | 27 | 153 |  883 | 25 |  75 |  3 | 19 | 27-Mar |\n",
       "| 27 | 28 | 136 | 1019 | 10 |  85 |  5 | 24 | 28-Mar |\n",
       "| 28 | 29 | 120 | 1139 | 17 | 102 |  3 | 27 | 29-Mar |\n",
       "| 29 | 30 | 187 | 1326 | 35 | 137 | 14 | 41 | 30-Mar |\n",
       "| ... | ... | ... | ... | ... | ... | ... | ... | ... |\n",
       "| 177 | 178 | 66873 | 3231768 |  64151 | 2467245 | 1066 | 59624 | 25-Aug |\n",
       "| 178 | 179 | 75995 | 3307763 |  56191 | 2523436 | 1017 | 60641 | 26-Aug |\n",
       "| 179 | 180 | 76827 | 3384590 |  59620 | 2583056 | 1066 | 61707 | 27-Aug |\n",
       "| 180 | 181 | 76657 | 3461247 |  64475 | 2647531 | 1019 | 62726 | 28-Aug |\n",
       "| 181 | 182 | 78479 | 3539726 |  64982 | 2712513 |  943 | 63669 | 29-Aug |\n",
       "| 182 | 183 | 79461 | 3619187 |  60422 | 2772935 |  960 | 64629 | 30-Aug |\n",
       "| 183 | 184 | 68766 | 3687953 |  64435 | 2837370 |  816 | 65445 | 31-Aug |\n",
       "| 184 | 185 | 78168 | 3766121 |  62145 | 2899515 |  892 | 66337 | 1-Sep  |\n",
       "| 185 | 186 | 82860 | 3848981 |  67874 | 2967389 |  913 | 67250 | 2-Sep  |\n",
       "| 186 | 187 | 84156 | 3933137 |  67491 | 3034880 |  979 | 68229 | 3-Sep  |\n",
       "| 187 | 188 | 87115 | 4020252 |  69625 | 3104505 |  950 | 69179 | 4-Sep  |\n",
       "| 188 | 189 | 90600 | 4110852 |  73161 | 3177666 |  916 | 70095 | 5-Sep  |\n",
       "| 189 | 190 | 91725 | 4202577 |  69630 | 3247296 | 1005 | 71100 | 6-Sep  |\n",
       "| 190 | 191 | 75015 | 4277592 |  74116 | 3321412 | 1129 | 72229 | 7-Sep  |\n",
       "| 191 | 192 | 89855 | 4367447 |  74608 | 3396020 | 1107 | 73336 | 8-Sep  |\n",
       "| 192 | 193 | 95536 | 4462983 |  73062 | 3469082 | 1168 | 74504 | 9-Sep  |\n",
       "| 193 | 194 | 96762 | 4559745 |  70904 | 3539986 | 1213 | 75717 | 10-Sep |\n",
       "| 194 | 195 | 97655 | 4657400 |  81456 | 3621442 | 1202 | 76919 | 11-Sep |\n",
       "| 195 | 196 | 94414 | 4751814 |  77862 | 3699304 | 1111 | 78030 | 12-Sep |\n",
       "| 196 | 197 | 93220 | 4845034 |  77748 | 3777052 | 1140 | 79170 | 13-Sep |\n",
       "| 197 | 198 | 81913 | 4926947 |  79213 | 3856265 | 1054 | 80224 | 14-Sep |\n",
       "| 198 | 199 | 91098 | 5018045 |  82849 | 3939114 | 1281 | 81505 | 15-Sep |\n",
       "| 199 | 200 | 97860 | 5115905 |  82924 | 4022038 | 1140 | 82645 | 16-Sep |\n",
       "| 200 | 201 | 96787 | 5212692 |  87788 | 4109826 | 1175 | 83820 | 17-Sep |\n",
       "| 201 | 202 | 92973 | 5305665 |  95515 | 4205341 | 1221 | 85041 | 18-Sep |\n",
       "| 202 | 203 | 92574 | 5398239 |  94389 | 4299730 | 1149 | 86190 | 19-Sep |\n",
       "| 203 | 204 | 87395 | 5485634 |  92926 | 4392656 | 1135 | 87325 | 20-Sep |\n",
       "| 204 | 205 | 74493 | 5560127 | 102070 | 4494726 | 1056 | 88381 | 21-Sep |\n",
       "| 205 | 206 | 83361 | 5643488 |  89653 | 4584379 | 1085 | 89466 | 22-Sep |\n",
       "| 206 | 207 | 86703 | 5730191 |  87458 | 4671837 | 1123 | 90589 | 23-Sep |\n",
       "\n"
      ],
      "text/plain": [
       "    index Day Daily.Count Total.Confirmed Daily.Recovered Total.Recovered\n",
       "1    0     1    0            3             0                3            \n",
       "2    1     2    2            5             0                3            \n",
       "3    2     3    1            6             0                3            \n",
       "4    3     4   22           28             0                3            \n",
       "5    4     5    2           30             0                3            \n",
       "6    5     6    1           31             0                3            \n",
       "7    6     7    3           34             0                3            \n",
       "8    7     8    5           39             0                3            \n",
       "9    8     9    9           48             0                3            \n",
       "10   9    10   15           63             1                4            \n",
       "11  10    11    8           71             0                4            \n",
       "12  11    12   10           81             0                4            \n",
       "13  12    13   10           91             6               10            \n",
       "14  13    14   11          102             0               10            \n",
       "15  14    15   10          112             3               13            \n",
       "16  15    16   14          126             1               14            \n",
       "17  16    17   20          146             1               15            \n",
       "18  17    18   25          171             0               15            \n",
       "19  18    19   27          198             5               20            \n",
       "20  19    20   58          256             3               23            \n",
       "21  20    21   78          334             0               23            \n",
       "22  21    22   69          403             0               23            \n",
       "23  22    23   94          497             2               25            \n",
       "24  23    24   74          571            15               40            \n",
       "25  24    25   86          657             3               43            \n",
       "26  25    26   73          730             7               50            \n",
       "27  26    27  153          883            25               75            \n",
       "28  27    28  136         1019            10               85            \n",
       "29  28    29  120         1139            17              102            \n",
       "30  29    30  187         1326            35              137            \n",
       "... ...   ... ...         ...             ...             ...            \n",
       "178 177   178 66873       3231768          64151          2467245        \n",
       "179 178   179 75995       3307763          56191          2523436        \n",
       "180 179   180 76827       3384590          59620          2583056        \n",
       "181 180   181 76657       3461247          64475          2647531        \n",
       "182 181   182 78479       3539726          64982          2712513        \n",
       "183 182   183 79461       3619187          60422          2772935        \n",
       "184 183   184 68766       3687953          64435          2837370        \n",
       "185 184   185 78168       3766121          62145          2899515        \n",
       "186 185   186 82860       3848981          67874          2967389        \n",
       "187 186   187 84156       3933137          67491          3034880        \n",
       "188 187   188 87115       4020252          69625          3104505        \n",
       "189 188   189 90600       4110852          73161          3177666        \n",
       "190 189   190 91725       4202577          69630          3247296        \n",
       "191 190   191 75015       4277592          74116          3321412        \n",
       "192 191   192 89855       4367447          74608          3396020        \n",
       "193 192   193 95536       4462983          73062          3469082        \n",
       "194 193   194 96762       4559745          70904          3539986        \n",
       "195 194   195 97655       4657400          81456          3621442        \n",
       "196 195   196 94414       4751814          77862          3699304        \n",
       "197 196   197 93220       4845034          77748          3777052        \n",
       "198 197   198 81913       4926947          79213          3856265        \n",
       "199 198   199 91098       5018045          82849          3939114        \n",
       "200 199   200 97860       5115905          82924          4022038        \n",
       "201 200   201 96787       5212692          87788          4109826        \n",
       "202 201   202 92973       5305665          95515          4205341        \n",
       "203 202   203 92574       5398239          94389          4299730        \n",
       "204 203   204 87395       5485634          92926          4392656        \n",
       "205 204   205 74493       5560127         102070          4494726        \n",
       "206 205   206 83361       5643488          89653          4584379        \n",
       "207 206   207 86703       5730191          87458          4671837        \n",
       "    Daily.Deceased Total.Deceased Date  \n",
       "1    0              0             1-Mar \n",
       "2    0              0             2-Mar \n",
       "3    0              0             3-Mar \n",
       "4    0              0             4-Mar \n",
       "5    0              0             5-Mar \n",
       "6    0              0             6-Mar \n",
       "7    0              0             7-Mar \n",
       "8    0              0             8-Mar \n",
       "9    0              0             9-Mar \n",
       "10   0              0             10-Mar\n",
       "11   0              0             11-Mar\n",
       "12   1              1             12-Mar\n",
       "13   0              1             13-Mar\n",
       "14   1              2             14-Mar\n",
       "15   0              2             15-Mar\n",
       "16   0              2             16-Mar\n",
       "17   1              3             17-Mar\n",
       "18   0              3             18-Mar\n",
       "19   1              4             19-Mar\n",
       "20   0              4             20-Mar\n",
       "21   0              4             21-Mar\n",
       "22   3              7             22-Mar\n",
       "23   2              9             23-Mar\n",
       "24   1             10             24-Mar\n",
       "25   1             11             25-Mar\n",
       "26   5             16             26-Mar\n",
       "27   3             19             27-Mar\n",
       "28   5             24             28-Mar\n",
       "29   3             27             29-Mar\n",
       "30  14             41             30-Mar\n",
       "... ...            ...            ...   \n",
       "178 1066           59624          25-Aug\n",
       "179 1017           60641          26-Aug\n",
       "180 1066           61707          27-Aug\n",
       "181 1019           62726          28-Aug\n",
       "182  943           63669          29-Aug\n",
       "183  960           64629          30-Aug\n",
       "184  816           65445          31-Aug\n",
       "185  892           66337          1-Sep \n",
       "186  913           67250          2-Sep \n",
       "187  979           68229          3-Sep \n",
       "188  950           69179          4-Sep \n",
       "189  916           70095          5-Sep \n",
       "190 1005           71100          6-Sep \n",
       "191 1129           72229          7-Sep \n",
       "192 1107           73336          8-Sep \n",
       "193 1168           74504          9-Sep \n",
       "194 1213           75717          10-Sep\n",
       "195 1202           76919          11-Sep\n",
       "196 1111           78030          12-Sep\n",
       "197 1140           79170          13-Sep\n",
       "198 1054           80224          14-Sep\n",
       "199 1281           81505          15-Sep\n",
       "200 1140           82645          16-Sep\n",
       "201 1175           83820          17-Sep\n",
       "202 1221           85041          18-Sep\n",
       "203 1149           86190          19-Sep\n",
       "204 1135           87325          20-Sep\n",
       "205 1056           88381          21-Sep\n",
       "206 1085           89466          22-Sep\n",
       "207 1123           90589          23-Sep"
      ]
     },
     "metadata": {},
     "output_type": "display_data"
    }
   ],
   "source": [
    "df"
   ]
  },
  {
   "cell_type": "code",
   "execution_count": 3,
   "metadata": {},
   "outputs": [],
   "source": [
    "attach(df)"
   ]
  },
  {
   "cell_type": "code",
   "execution_count": 4,
   "metadata": {},
   "outputs": [
    {
     "data": {
      "text/html": [
       "<ol class=list-inline>\n",
       "\t<li>'index'</li>\n",
       "\t<li>'Day'</li>\n",
       "\t<li>'Daily.Count'</li>\n",
       "\t<li>'Total.Confirmed'</li>\n",
       "\t<li>'Daily.Recovered'</li>\n",
       "\t<li>'Total.Recovered'</li>\n",
       "\t<li>'Daily.Deceased'</li>\n",
       "\t<li>'Total.Deceased'</li>\n",
       "\t<li>'Date'</li>\n",
       "</ol>\n"
      ],
      "text/latex": [
       "\\begin{enumerate*}\n",
       "\\item 'index'\n",
       "\\item 'Day'\n",
       "\\item 'Daily.Count'\n",
       "\\item 'Total.Confirmed'\n",
       "\\item 'Daily.Recovered'\n",
       "\\item 'Total.Recovered'\n",
       "\\item 'Daily.Deceased'\n",
       "\\item 'Total.Deceased'\n",
       "\\item 'Date'\n",
       "\\end{enumerate*}\n"
      ],
      "text/markdown": [
       "1. 'index'\n",
       "2. 'Day'\n",
       "3. 'Daily.Count'\n",
       "4. 'Total.Confirmed'\n",
       "5. 'Daily.Recovered'\n",
       "6. 'Total.Recovered'\n",
       "7. 'Daily.Deceased'\n",
       "8. 'Total.Deceased'\n",
       "9. 'Date'\n",
       "\n",
       "\n"
      ],
      "text/plain": [
       "[1] \"index\"           \"Day\"             \"Daily.Count\"     \"Total.Confirmed\"\n",
       "[5] \"Daily.Recovered\" \"Total.Recovered\" \"Daily.Deceased\"  \"Total.Deceased\" \n",
       "[9] \"Date\"           "
      ]
     },
     "metadata": {},
     "output_type": "display_data"
    }
   ],
   "source": [
    "names(df)"
   ]
  },
  {
   "cell_type": "markdown",
   "metadata": {},
   "source": [
    "Daily Count"
   ]
  },
  {
   "cell_type": "code",
   "execution_count": 5,
   "metadata": {},
   "outputs": [],
   "source": [
    "#linear model\n",
    "linear.model_dc <-lm(Daily.Count ~ index)"
   ]
  },
  {
   "cell_type": "code",
   "execution_count": 6,
   "metadata": {},
   "outputs": [
    {
     "data": {
      "text/plain": [
       "\n",
       "Call:\n",
       "lm(formula = Daily.Count ~ index)\n",
       "\n",
       "Residuals:\n",
       "   Min     1Q Median     3Q    Max \n",
       "-19098 -11384   -248   9473  26062 \n",
       "\n",
       "Coefficients:\n",
       "            Estimate Std. Error t value Pr(>|t|)    \n",
       "(Intercept) -22019.8     1727.0  -12.75   <2e-16 ***\n",
       "index          482.5       14.5   33.27   <2e-16 ***\n",
       "---\n",
       "Signif. codes:  0 '***' 0.001 '**' 0.01 '*' 0.05 '.' 0.1 ' ' 1\n",
       "\n",
       "Residual standard error: 12470 on 205 degrees of freedom\n",
       "Multiple R-squared:  0.8437,\tAdjusted R-squared:  0.843 \n",
       "F-statistic:  1107 on 1 and 205 DF,  p-value: < 2.2e-16\n"
      ]
     },
     "metadata": {},
     "output_type": "display_data"
    }
   ],
   "source": [
    "summary(linear.model_dc)"
   ]
  },
  {
   "cell_type": "code",
   "execution_count": 11,
   "metadata": {},
   "outputs": [
    {
     "data": {
      "text/plain": [
       "\n",
       "Call:\n",
       "lm(formula = Daily.Count ~ index)\n",
       "\n",
       "Coefficients:\n",
       "(Intercept)        index  \n",
       "   -22019.8        482.5  \n"
      ]
     },
     "metadata": {},
     "output_type": "display_data"
    }
   ],
   "source": [
    "linear.model_dc"
   ]
  },
  {
   "cell_type": "code",
   "execution_count": 7,
   "metadata": {},
   "outputs": [
    {
     "data": {
      "image/png": "[encoded data removed]",
      "text/plain": [
       "plot without title"
      ]
     },
     "metadata": {
      "image/png": {
       "height": 420,
       "width": 420
      },
      "text/plain": {
       "height": 420,
       "width": 420
      }
     },
     "output_type": "display_data"
    }
   ],
   "source": [
    "plot(index, Daily.Count, pch=16, ylab = \"Daily.Count\", cex.lab = 1.3, col = \"red\" )\n",
    "\n",
    "abline(lm(Daily.Count ~ index), col = \"blue\")"
   ]
  },
  {
   "cell_type": "markdown",
   "metadata": {},
   "source": [
    "Quadratic model"
   ]
  },
  {
   "cell_type": "code",
   "execution_count": 8,
   "metadata": {},
   "outputs": [],
   "source": [
    "index2 <- index^2\n",
    "quadratic.model_dc <-lm(Daily.Count ~ index + index2)"
   ]
  },
  {
   "cell_type": "code",
   "execution_count": 9,
   "metadata": {},
   "outputs": [
    {
     "data": {
      "text/plain": [
       "\n",
       "Call:\n",
       "lm(formula = Daily.Count ~ index + index2)\n",
       "\n",
       "Residuals:\n",
       "     Min       1Q   Median       3Q      Max \n",
       "-25709.2  -2795.8    407.5   2082.5  11122.8 \n",
       "\n",
       "Coefficients:\n",
       "             Estimate Std. Error t value Pr(>|t|)    \n",
       "(Intercept) 3226.9493   992.0782   3.253  0.00134 ** \n",
       "index       -256.3875    22.2505 -11.523  < 2e-16 ***\n",
       "index2         3.5870     0.1046  34.309  < 2e-16 ***\n",
       "---\n",
       "Signif. codes:  0 '***' 0.001 '**' 0.01 '*' 0.05 '.' 0.1 ' ' 1\n",
       "\n",
       "Residual standard error: 4804 on 204 degrees of freedom\n",
       "Multiple R-squared:  0.9769,\tAdjusted R-squared:  0.9767 \n",
       "F-statistic:  4317 on 2 and 204 DF,  p-value: < 2.2e-16\n"
      ]
     },
     "metadata": {},
     "output_type": "display_data"
    }
   ],
   "source": [
    "summary(quadratic.model_dc)"
   ]
  },
  {
   "cell_type": "code",
   "execution_count": 10,
   "metadata": {},
   "outputs": [
    {
     "data": {
      "text/plain": [
       "\n",
       "Call:\n",
       "lm(formula = Daily.Count ~ index + index2)\n",
       "\n",
       "Coefficients:\n",
       "(Intercept)        index       index2  \n",
       "   3226.949     -256.387        3.587  \n"
      ]
     },
     "metadata": {},
     "output_type": "display_data"
    }
   ],
   "source": [
    "quadratic.model_dc"
   ]
  },
  {
   "cell_type": "code",
   "execution_count": 89,
   "metadata": {},
   "outputs": [
    {
     "data": {
      "image/png": "[encoded data removed]",
      "text/plain": [
       "Plot with title \"Boxplot: Residuals\""
      ]
     },
     "metadata": {
      "image/png": {
       "height": 420,
       "width": 420
      },
      "text/plain": {
       "height": 420,
       "width": 420
      }
     },
     "output_type": "display_data"
    }
   ],
   "source": [
    "boxplot(quadratic.model_dc[['residuals']],main='Boxplot: Residuals',ylab='residual value')"
   ]
  },
  {
   "cell_type": "code",
   "execution_count": 13,
   "metadata": {},
   "outputs": [
    {
     "data": {
      "image/png": "[encoded data removed]",
      "text/plain": [
       "plot without title"
      ]
     },
     "metadata": {
      "image/png": {
       "height": 420,
       "width": 420
      },
      "text/plain": {
       "height": 420,
       "width": 420
      }
     },
     "output_type": "display_data"
    }
   ],
   "source": [
    "timevalues <- seq(0, 206, 1)\n",
    "predictedcounts <- predict(quadratic.model_dc,list(index=timevalues, index2=timevalues^2))\n",
    "plot(index, Daily.Count, pch=16, xlab = \"Time (s)\", ylab = \"Daily.Count\", cex.lab = 1.3, col = \"blue\")\n",
    "lines(timevalues, predictedcounts, col = \"darkgreen\", lwd = 3)"
   ]
  },
  {
   "cell_type": "code",
   "execution_count": 14,
   "metadata": {},
   "outputs": [],
   "source": [
    "#Polynomial\n",
    "index2 <- index^2\n",
    "index3 <- index^3\n",
    "poly.model_dc <-lm(Daily.Count ~ index + index2 + index3)"
   ]
  },
  {
   "cell_type": "code",
   "execution_count": 16,
   "metadata": {},
   "outputs": [
    {
     "data": {
      "text/plain": [
       "\n",
       "Call:\n",
       "lm(formula = Daily.Count ~ index + index2 + index3)\n",
       "\n",
       "Residuals:\n",
       "   Min     1Q Median     3Q    Max \n",
       "-24455  -3290    627   2522  10527 \n",
       "\n",
       "Coefficients:\n",
       "              Estimate Std. Error t value Pr(>|t|)    \n",
       "(Intercept)  4.644e+03  1.306e+03   3.555  0.00047 ***\n",
       "index       -3.399e+02  5.504e+01  -6.176 3.53e-09 ***\n",
       "index2       4.603e+00  6.218e-01   7.404 3.46e-12 ***\n",
       "index3      -3.289e-03  1.984e-03  -1.658  0.09883 .  \n",
       "---\n",
       "Signif. codes:  0 '***' 0.001 '**' 0.01 '*' 0.05 '.' 0.1 ' ' 1\n",
       "\n",
       "Residual standard error: 4783 on 203 degrees of freedom\n",
       "Multiple R-squared:  0.9772,\tAdjusted R-squared:  0.9769 \n",
       "F-statistic:  2904 on 3 and 203 DF,  p-value: < 2.2e-16\n"
      ]
     },
     "metadata": {},
     "output_type": "display_data"
    }
   ],
   "source": [
    "summary(poly.model_dc)"
   ]
  },
  {
   "cell_type": "code",
   "execution_count": 15,
   "metadata": {},
   "outputs": [
    {
     "data": {
      "text/plain": [
       "\n",
       "Call:\n",
       "lm(formula = Daily.Count ~ index + index2 + index3)\n",
       "\n",
       "Coefficients:\n",
       "(Intercept)        index       index2       index3  \n",
       "  4.644e+03   -3.399e+02    4.603e+00   -3.289e-03  \n"
      ]
     },
     "metadata": {},
     "output_type": "display_data"
    }
   ],
   "source": [
    "poly.model_dc"
   ]
  },
  {
   "cell_type": "code",
   "execution_count": 91,
   "metadata": {},
   "outputs": [
    {
     "data": {
      "text/html": [
       "0.17278333625354"
      ],
      "text/latex": [
       "0.17278333625354"
      ],
      "text/markdown": [
       "0.17278333625354"
      ],
      "text/plain": [
       "[1] 0.1727833"
      ]
     },
     "metadata": {},
     "output_type": "display_data"
    }
   ],
   "source": [
    "4783/mean(Daily.Count)"
   ]
  },
  {
   "cell_type": "code",
   "execution_count": 90,
   "metadata": {},
   "outputs": [
    {
     "data": {
      "image/png": "[encoded data removed]",
      "text/plain": [
       "Plot with title \"Boxplot: Residuals\""
      ]
     },
     "metadata": {
      "image/png": {
       "height": 420,
       "width": 420
      },
      "text/plain": {
       "height": 420,
       "width": 420
      }
     },
     "output_type": "display_data"
    }
   ],
   "source": [
    "boxplot(poly.model_dc[['residuals']],main='Boxplot: Residuals',ylab='residual value')"
   ]
  },
  {
   "cell_type": "code",
   "execution_count": 17,
   "metadata": {},
   "outputs": [
    {
     "data": {
      "image/png": "[encoded data removed]",
      "text/plain": [
       "plot without title"
      ]
     },
     "metadata": {
      "image/png": {
       "height": 420,
       "width": 420
      },
      "text/plain": {
       "height": 420,
       "width": 420
      }
     },
     "output_type": "display_data"
    }
   ],
   "source": [
    "timevalues <- seq(0, 206, 1)\n",
    "predictedcounts <- predict(poly.model_dc,list(index=timevalues, index2=timevalues^2, index3=timevalues^3))\n",
    "plot(index, Daily.Count, pch=16, xlab = \"Time (s)\", ylab = \"Daily.Count\", cex.lab = 1.3, col = \"blue\")\n",
    "lines(timevalues, predictedcounts, col = \"darkgreen\", lwd = 3)"
   ]
  },
  {
   "cell_type": "code",
   "execution_count": 18,
   "metadata": {},
   "outputs": [],
   "source": [
    "#exponential\n",
    "logdc <- log(Daily.Count)\n",
    "logdc[which(!is.finite(logdc))] <- 0"
   ]
  },
  {
   "cell_type": "code",
   "execution_count": 19,
   "metadata": {},
   "outputs": [
    {
     "data": {
      "text/plain": [
       "\n",
       "Call:\n",
       "lm(formula = logdc ~ index)\n",
       "\n",
       "Residuals:\n",
       "    Min      1Q  Median      3Q     Max \n",
       "-4.3021 -0.6702  0.4124  0.8501  1.3356 \n",
       "\n",
       "Coefficients:\n",
       "            Estimate Std. Error t value Pr(>|t|)    \n",
       "(Intercept)  4.08462    0.15843   25.78   <2e-16 ***\n",
       "index        0.04350    0.00133   32.69   <2e-16 ***\n",
       "---\n",
       "Signif. codes:  0 '***' 0.001 '**' 0.01 '*' 0.05 '.' 0.1 ' ' 1\n",
       "\n",
       "Residual standard error: 1.144 on 205 degrees of freedom\n",
       "Multiple R-squared:  0.8391,\tAdjusted R-squared:  0.8383 \n",
       "F-statistic:  1069 on 1 and 205 DF,  p-value: < 2.2e-16\n"
      ]
     },
     "metadata": {},
     "output_type": "display_data"
    }
   ],
   "source": [
    "exponential.model_dc <- lm(logdc~ index)\n",
    "summary(exponential.model_dc)"
   ]
  },
  {
   "cell_type": "code",
   "execution_count": 22,
   "metadata": {},
   "outputs": [
    {
     "data": {
      "text/plain": [
       "\n",
       "Call:\n",
       "lm(formula = logdc ~ index)\n",
       "\n",
       "Coefficients:\n",
       "(Intercept)        index  \n",
       "     4.0846       0.0435  \n"
      ]
     },
     "metadata": {},
     "output_type": "display_data"
    }
   ],
   "source": [
    "exponential.model_dc"
   ]
  },
  {
   "cell_type": "code",
   "execution_count": 20,
   "metadata": {},
   "outputs": [
    {
     "data": {
      "image/png": "[encoded data removed]",
      "text/plain": [
       "plot without title"
      ]
     },
     "metadata": {
      "image/png": {
       "height": 420,
       "width": 420
      },
      "text/plain": {
       "height": 420,
       "width": 420
      }
     },
     "output_type": "display_data"
    }
   ],
   "source": [
    "plot(index, logdc, pch=16, ylab = \"Log.Daily.Count\", cex.lab = 1.3, col = \"red\" )\n",
    "abline(lm(logdc ~ index), col = \"blue\")"
   ]
  },
  {
   "cell_type": "code",
   "execution_count": 21,
   "metadata": {},
   "outputs": [
    {
     "data": {
      "image/png": "[encoded data removed]",
      "text/plain": [
       "plot without title"
      ]
     },
     "metadata": {
      "image/png": {
       "height": 420,
       "width": 420
      },
      "text/plain": {
       "height": 420,
       "width": 420
      }
     },
     "output_type": "display_data"
    }
   ],
   "source": [
    "timevalues <- seq(0, 206, 1)\n",
    "Counts.exponential2 <- exp(predict(exponential.model_dc,list(Time=timevalues)))\n",
    "plot(index, Daily.Count,pch=16)\n",
    "lines(timevalues, Counts.exponential2,lwd=2, col = \"red\", xlab = \"Time (s)\", ylab = \"Daily.Count\")"
   ]
  },
  {
   "cell_type": "markdown",
   "metadata": {},
   "source": [
    "Daily Recovered"
   ]
  },
  {
   "cell_type": "code",
   "execution_count": 23,
   "metadata": {},
   "outputs": [],
   "source": [
    "linear.model_dr <-lm(Daily.Recovered ~ index)"
   ]
  },
  {
   "cell_type": "code",
   "execution_count": 24,
   "metadata": {},
   "outputs": [
    {
     "data": {
      "text/plain": [
       "\n",
       "Call:\n",
       "lm(formula = Daily.Recovered ~ index)\n",
       "\n",
       "Residuals:\n",
       "   Min     1Q Median     3Q    Max \n",
       "-19857 -12178    -94   9923  36898 \n",
       "\n",
       "Coefficients:\n",
       "             Estimate Std. Error t value Pr(>|t|)    \n",
       "(Intercept) -20877.03    1776.27  -11.75   <2e-16 ***\n",
       "index          421.81      14.92   28.28   <2e-16 ***\n",
       "---\n",
       "Signif. codes:  0 '***' 0.001 '**' 0.01 '*' 0.05 '.' 0.1 ' ' 1\n",
       "\n",
       "Residual standard error: 12820 on 205 degrees of freedom\n",
       "Multiple R-squared:  0.7959,\tAdjusted R-squared:  0.7949 \n",
       "F-statistic: 799.6 on 1 and 205 DF,  p-value: < 2.2e-16\n"
      ]
     },
     "metadata": {},
     "output_type": "display_data"
    }
   ],
   "source": [
    "summary(linear.model_dr)"
   ]
  },
  {
   "cell_type": "code",
   "execution_count": 25,
   "metadata": {},
   "outputs": [
    {
     "data": {
      "text/plain": [
       "\n",
       "Call:\n",
       "lm(formula = Daily.Recovered ~ index)\n",
       "\n",
       "Coefficients:\n",
       "(Intercept)        index  \n",
       "   -20877.0        421.8  \n"
      ]
     },
     "metadata": {},
     "output_type": "display_data"
    }
   ],
   "source": [
    "linear.model_dr"
   ]
  },
  {
   "cell_type": "code",
   "execution_count": 26,
   "metadata": {},
   "outputs": [
    {
     "data": {
      "image/png": "[encoded data removed]",
      "text/plain": [
       "plot without title"
      ]
     },
     "metadata": {
      "image/png": {
       "height": 420,
       "width": 420
      },
      "text/plain": {
       "height": 420,
       "width": 420
      }
     },
     "output_type": "display_data"
    }
   ],
   "source": [
    "plot(index, Daily.Recovered, pch=16, ylab = \"Daily.Recovered\", cex.lab = 1.3, col = \"red\" )\n",
    "\n",
    "abline(lm(Daily.Recovered ~ index), col = \"blue\")"
   ]
  },
  {
   "cell_type": "code",
   "execution_count": 27,
   "metadata": {},
   "outputs": [],
   "source": [
    "index2 <- index^2\n",
    "quadratic.model_dr <-lm(Daily.Recovered ~ index + index2)"
   ]
  },
  {
   "cell_type": "code",
   "execution_count": 28,
   "metadata": {},
   "outputs": [
    {
     "data": {
      "text/plain": [
       "\n",
       "Call:\n",
       "lm(formula = Daily.Recovered ~ index + index2)\n",
       "\n",
       "Residuals:\n",
       "     Min       1Q   Median       3Q      Max \n",
       "-10913.0  -2722.0    197.8   2669.4  11790.5 \n",
       "\n",
       "Coefficients:\n",
       "              Estimate Std. Error t value Pr(>|t|)    \n",
       "(Intercept) 5958.57848  795.11096   7.494 1.99e-12 ***\n",
       "index       -363.62399   17.83292 -20.391  < 2e-16 ***\n",
       "index2         3.81278    0.08379  45.502  < 2e-16 ***\n",
       "---\n",
       "Signif. codes:  0 '***' 0.001 '**' 0.01 '*' 0.05 '.' 0.1 ' ' 1\n",
       "\n",
       "Residual standard error: 3850 on 204 degrees of freedom\n",
       "Multiple R-squared:  0.9817,\tAdjusted R-squared:  0.9815 \n",
       "F-statistic:  5471 on 2 and 204 DF,  p-value: < 2.2e-16\n"
      ]
     },
     "metadata": {},
     "output_type": "display_data"
    }
   ],
   "source": [
    "summary(quadratic.model_dr)"
   ]
  },
  {
   "cell_type": "code",
   "execution_count": 30,
   "metadata": {},
   "outputs": [
    {
     "data": {
      "text/plain": [
       "\n",
       "Call:\n",
       "lm(formula = Daily.Recovered ~ index + index2)\n",
       "\n",
       "Coefficients:\n",
       "(Intercept)        index       index2  \n",
       "   5958.578     -363.624        3.813  \n"
      ]
     },
     "metadata": {},
     "output_type": "display_data"
    }
   ],
   "source": [
    "quadratic.model_dr"
   ]
  },
  {
   "cell_type": "code",
   "execution_count": 31,
   "metadata": {},
   "outputs": [
    {
     "data": {
      "image/png": "[encoded data removed]",
      "text/plain": [
       "plot without title"
      ]
     },
     "metadata": {
      "image/png": {
       "height": 420,
       "width": 420
      },
      "text/plain": {
       "height": 420,
       "width": 420
      }
     },
     "output_type": "display_data"
    }
   ],
   "source": [
    "timevalues <- seq(0, 206, 1)\n",
    "predictedcounts <- predict(quadratic.model_dr,list(index=timevalues, index2=timevalues^2))\n",
    "plot(index, Daily.Recovered, pch=16, xlab = \"Time (s)\", ylab = \"Daily.Recovered\", cex.lab = 1.3, col = \"blue\")\n",
    "lines(timevalues, predictedcounts, col = \"darkgreen\", lwd = 3)"
   ]
  },
  {
   "cell_type": "code",
   "execution_count": 32,
   "metadata": {},
   "outputs": [],
   "source": [
    "index2 <- index^2\n",
    "index3 <- index^3\n",
    "poly.model_dr <-lm(Daily.Recovered ~ index + index2 + index3)"
   ]
  },
  {
   "cell_type": "code",
   "execution_count": 33,
   "metadata": {},
   "outputs": [
    {
     "data": {
      "text/plain": [
       "\n",
       "Call:\n",
       "lm(formula = Daily.Recovered ~ index + index2 + index3)\n",
       "\n",
       "Residuals:\n",
       "   Min     1Q Median     3Q    Max \n",
       " -9373  -2121    202   1280  13451 \n",
       "\n",
       "Coefficients:\n",
       "              Estimate Std. Error t value Pr(>|t|)    \n",
       "(Intercept)  2.316e+03  9.788e+02   2.366 0.018905 *  \n",
       "index       -1.488e+02  4.125e+01  -3.608 0.000388 ***\n",
       "index2       1.200e+00  4.659e-01   2.575 0.010731 *  \n",
       "index3       8.456e-03  1.487e-03   5.688 4.43e-08 ***\n",
       "---\n",
       "Signif. codes:  0 '***' 0.001 '**' 0.01 '*' 0.05 '.' 0.1 ' ' 1\n",
       "\n",
       "Residual standard error: 3584 on 203 degrees of freedom\n",
       "Multiple R-squared:  0.9842,\tAdjusted R-squared:  0.984 \n",
       "F-statistic:  4219 on 3 and 203 DF,  p-value: < 2.2e-16\n"
      ]
     },
     "metadata": {},
     "output_type": "display_data"
    }
   ],
   "source": [
    "summary(poly.model_dr)"
   ]
  },
  {
   "cell_type": "code",
   "execution_count": 34,
   "metadata": {},
   "outputs": [
    {
     "data": {
      "image/png": "[encoded data removed]",
      "text/plain": [
       "plot without title"
      ]
     },
     "metadata": {
      "image/png": {
       "height": 420,
       "width": 420
      },
      "text/plain": {
       "height": 420,
       "width": 420
      }
     },
     "output_type": "display_data"
    }
   ],
   "source": [
    "timevalues <- seq(0, 206, 1)\n",
    "predictedcounts <- predict(poly.model_dr,list(index=timevalues, index2=timevalues^2))\n",
    "plot(index, Daily.Recovered, pch=16, xlab = \"Time (s)\", ylab = \"Daily.Recovered\", cex.lab = 1.3, col = \"blue\")\n",
    "lines(timevalues, predictedcounts, col = \"darkgreen\", lwd = 3)"
   ]
  },
  {
   "cell_type": "code",
   "execution_count": 35,
   "metadata": {},
   "outputs": [],
   "source": [
    "logdr <- log(Daily.Recovered)\n",
    "logdr[which(!is.finite(logdr))] <- 0"
   ]
  },
  {
   "cell_type": "code",
   "execution_count": 37,
   "metadata": {},
   "outputs": [
    {
     "data": {
      "text/plain": [
       "\n",
       "Call:\n",
       "lm(formula = logdr ~ index)\n",
       "\n",
       "Residuals:\n",
       "    Min      1Q  Median      3Q     Max \n",
       "-3.2448 -0.9425  0.3474  1.0958  2.4017 \n",
       "\n",
       "Coefficients:\n",
       "            Estimate Std. Error t value Pr(>|t|)    \n",
       "(Intercept) 2.094751   0.180501   11.61   <2e-16 ***\n",
       "index       0.054763   0.001516   36.13   <2e-16 ***\n",
       "---\n",
       "Signif. codes:  0 '***' 0.001 '**' 0.01 '*' 0.05 '.' 0.1 ' ' 1\n",
       "\n",
       "Residual standard error: 1.303 on 205 degrees of freedom\n",
       "Multiple R-squared:  0.8643,\tAdjusted R-squared:  0.8636 \n",
       "F-statistic:  1305 on 1 and 205 DF,  p-value: < 2.2e-16\n"
      ]
     },
     "metadata": {},
     "output_type": "display_data"
    }
   ],
   "source": [
    "exponential.model_dr <- lm(logdr~ index)\n",
    "summary(exponential.model_dr)"
   ]
  },
  {
   "cell_type": "code",
   "execution_count": 38,
   "metadata": {},
   "outputs": [
    {
     "data": {
      "image/png": "[encoded data removed]",
      "text/plain": [
       "plot without title"
      ]
     },
     "metadata": {
      "image/png": {
       "height": 420,
       "width": 420
      },
      "text/plain": {
       "height": 420,
       "width": 420
      }
     },
     "output_type": "display_data"
    }
   ],
   "source": [
    "timevalues <- seq(0, 206, 1)\n",
    "Counts.exponential2 <- exp(predict(exponential.model_dr,list(Time=timevalues)))\n",
    "plot(index, Daily.Recovered,pch=16)\n",
    "lines(timevalues, Counts.exponential2,lwd=2, col = \"red\", xlab = \"Time (s)\", ylab = \"Daily.Recovered\")"
   ]
  },
  {
   "cell_type": "markdown",
   "metadata": {},
   "source": [
    "Daily Deceased"
   ]
  },
  {
   "cell_type": "code",
   "execution_count": 39,
   "metadata": {},
   "outputs": [],
   "source": [
    "linear.model_dd <-lm(Daily.Deceased ~ index)"
   ]
  },
  {
   "cell_type": "code",
   "execution_count": 40,
   "metadata": {},
   "outputs": [
    {
     "data": {
      "text/plain": [
       "\n",
       "Call:\n",
       "lm(formula = Daily.Deceased ~ index)\n",
       "\n",
       "Residuals:\n",
       "    Min      1Q  Median      3Q     Max \n",
       "-190.35 -106.82  -18.79   81.10 1540.48 \n",
       "\n",
       "Coefficients:\n",
       "             Estimate Std. Error t value Pr(>|t|)    \n",
       "(Intercept) -228.9655    21.8315  -10.49   <2e-16 ***\n",
       "index          6.4718     0.1833   35.30   <2e-16 ***\n",
       "---\n",
       "Signif. codes:  0 '***' 0.001 '**' 0.01 '*' 0.05 '.' 0.1 ' ' 1\n",
       "\n",
       "Residual standard error: 157.6 on 205 degrees of freedom\n",
       "Multiple R-squared:  0.8587,\tAdjusted R-squared:  0.858 \n",
       "F-statistic:  1246 on 1 and 205 DF,  p-value: < 2.2e-16\n"
      ]
     },
     "metadata": {},
     "output_type": "display_data"
    }
   ],
   "source": [
    "summary(linear.model_dd)"
   ]
  },
  {
   "cell_type": "code",
   "execution_count": 41,
   "metadata": {},
   "outputs": [
    {
     "data": {
      "image/png": "[encoded data removed]",
      "text/plain": [
       "plot without title"
      ]
     },
     "metadata": {
      "image/png": {
       "height": 420,
       "width": 420
      },
      "text/plain": {
       "height": 420,
       "width": 420
      }
     },
     "output_type": "display_data"
    }
   ],
   "source": [
    "plot(index, Daily.Deceased, pch=16, ylab = \"Daily.Deceased\", cex.lab = 1.3, col = \"red\" )\n",
    "\n",
    "abline(lm(Daily.Deceased ~ index), col = \"blue\")"
   ]
  },
  {
   "cell_type": "code",
   "execution_count": 46,
   "metadata": {},
   "outputs": [],
   "source": [
    "index2 <- index^2\n",
    "quadratic.model_dd <-lm(Daily.Deceased ~ index + index2)"
   ]
  },
  {
   "cell_type": "code",
   "execution_count": 47,
   "metadata": {},
   "outputs": [
    {
     "data": {
      "text/plain": [
       "\n",
       "Call:\n",
       "lm(formula = Daily.Deceased ~ index + index2)\n",
       "\n",
       "Residuals:\n",
       "    Min      1Q  Median      3Q     Max \n",
       "-207.87  -53.66  -16.22   36.50 1626.55 \n",
       "\n",
       "Coefficients:\n",
       "              Estimate Std. Error t value Pr(>|t|)    \n",
       "(Intercept) -58.562314  28.390987  -2.063   0.0404 *  \n",
       "index         1.484372   0.636759   2.331   0.0207 *  \n",
       "index2        0.024211   0.002992   8.092 5.21e-14 ***\n",
       "---\n",
       "Signif. codes:  0 '***' 0.001 '**' 0.01 '*' 0.05 '.' 0.1 ' ' 1\n",
       "\n",
       "Residual standard error: 137.5 on 204 degrees of freedom\n",
       "Multiple R-squared:  0.8931,\tAdjusted R-squared:  0.892 \n",
       "F-statistic: 851.7 on 2 and 204 DF,  p-value: < 2.2e-16\n"
      ]
     },
     "metadata": {},
     "output_type": "display_data"
    }
   ],
   "source": [
    "summary(quadratic.model_dd)"
   ]
  },
  {
   "cell_type": "code",
   "execution_count": 48,
   "metadata": {},
   "outputs": [
    {
     "data": {
      "text/plain": [
       "\n",
       "Call:\n",
       "lm(formula = Daily.Deceased ~ index + index2)\n",
       "\n",
       "Coefficients:\n",
       "(Intercept)        index       index2  \n",
       "  -58.56231      1.48437      0.02421  \n"
      ]
     },
     "metadata": {},
     "output_type": "display_data"
    }
   ],
   "source": [
    "quadratic.model_dd"
   ]
  },
  {
   "cell_type": "code",
   "execution_count": 49,
   "metadata": {},
   "outputs": [
    {
     "data": {
      "image/png": "[encoded data removed]",
      "text/plain": [
       "plot without title"
      ]
     },
     "metadata": {
      "image/png": {
       "height": 420,
       "width": 420
      },
      "text/plain": {
       "height": 420,
       "width": 420
      }
     },
     "output_type": "display_data"
    }
   ],
   "source": [
    "timevalues <- seq(0, 206, 1)\n",
    "predictedcounts <- predict(quadratic.model_dd,list(index=timevalues, index2=timevalues^2))\n",
    "plot(index, Daily.Deceased, pch=16, xlab = \"Time (s)\", ylab = \"Daily.Deceased\", cex.lab = 1.3, col = \"blue\")\n",
    "lines(timevalues, predictedcounts, col = \"darkgreen\", lwd = 3)"
   ]
  },
  {
   "cell_type": "code",
   "execution_count": 50,
   "metadata": {},
   "outputs": [],
   "source": [
    "index2 <- index^2\n",
    "index3 <- index^3\n",
    "poly.model_dd <-lm(Daily.Deceased ~ index + index2 + index3)"
   ]
  },
  {
   "cell_type": "code",
   "execution_count": 51,
   "metadata": {},
   "outputs": [
    {
     "data": {
      "text/plain": [
       "\n",
       "Call:\n",
       "lm(formula = Daily.Deceased ~ index + index2 + index3)\n",
       "\n",
       "Residuals:\n",
       "    Min      1Q  Median      3Q     Max \n",
       "-208.39  -48.01   -0.93   22.17 1620.38 \n",
       "\n",
       "Coefficients:\n",
       "              Estimate Std. Error t value Pr(>|t|)    \n",
       "(Intercept)  4.496e+01  3.595e+01   1.250   0.2126    \n",
       "index       -4.620e+00  1.515e+00  -3.049   0.0026 ** \n",
       "index2       9.847e-02  1.712e-02   5.753 3.19e-08 ***\n",
       "index3      -2.403e-04  5.461e-05  -4.401 1.74e-05 ***\n",
       "---\n",
       "Signif. codes:  0 '***' 0.001 '**' 0.01 '*' 0.05 '.' 0.1 ' ' 1\n",
       "\n",
       "Residual standard error: 131.7 on 203 degrees of freedom\n",
       "Multiple R-squared:  0.9024,\tAdjusted R-squared:  0.9009 \n",
       "F-statistic: 625.4 on 3 and 203 DF,  p-value: < 2.2e-16\n"
      ]
     },
     "metadata": {},
     "output_type": "display_data"
    }
   ],
   "source": [
    "summary(poly.model_dd)"
   ]
  },
  {
   "cell_type": "code",
   "execution_count": 53,
   "metadata": {},
   "outputs": [
    {
     "data": {
      "image/png": "[encoded data removed]",
      "text/plain": [
       "plot without title"
      ]
     },
     "metadata": {
      "image/png": {
       "height": 420,
       "width": 420
      },
      "text/plain": {
       "height": 420,
       "width": 420
      }
     },
     "output_type": "display_data"
    }
   ],
   "source": [
    "timevalues <- seq(0, 206, 1)\n",
    "predictedcounts <- predict(poly.model_dd,list(index=timevalues, index2=timevalues^2, index3=timevalues^3))\n",
    "plot(index, Daily.Deceased, pch=16, xlab = \"Time (s)\", ylab = \"Daily.Deceased\", cex.lab = 1.3, col = \"blue\")\n",
    "lines(timevalues, predictedcounts, col = \"darkgreen\", lwd = 3)"
   ]
  },
  {
   "cell_type": "code",
   "execution_count": 54,
   "metadata": {},
   "outputs": [],
   "source": [
    "logdd <- log(Daily.Deceased)\n",
    "logdd[which(!is.finite(logdd))] <- 0"
   ]
  },
  {
   "cell_type": "code",
   "execution_count": 55,
   "metadata": {},
   "outputs": [
    {
     "data": {
      "text/plain": [
       "\n",
       "Call:\n",
       "lm(formula = logdd ~ index)\n",
       "\n",
       "Residuals:\n",
       "    Min      1Q  Median      3Q     Max \n",
       "-2.1974 -0.7277  0.3193  0.7682  2.5659 \n",
       "\n",
       "Coefficients:\n",
       "            Estimate Std. Error t value Pr(>|t|)    \n",
       "(Intercept) 1.376361   0.129703   10.61   <2e-16 ***\n",
       "index       0.034211   0.001089   31.41   <2e-16 ***\n",
       "---\n",
       "Signif. codes:  0 '***' 0.001 '**' 0.01 '*' 0.05 '.' 0.1 ' ' 1\n",
       "\n",
       "Residual standard error: 0.9364 on 205 degrees of freedom\n",
       "Multiple R-squared:  0.828,\tAdjusted R-squared:  0.8271 \n",
       "F-statistic: 986.5 on 1 and 205 DF,  p-value: < 2.2e-16\n"
      ]
     },
     "metadata": {},
     "output_type": "display_data"
    }
   ],
   "source": [
    "exponential.model_dd <- lm(logdd~ index)\n",
    "summary(exponential.model_dd)"
   ]
  },
  {
   "cell_type": "code",
   "execution_count": 56,
   "metadata": {},
   "outputs": [
    {
     "data": {
      "text/plain": [
       "\n",
       "Call:\n",
       "lm(formula = logdd ~ index)\n",
       "\n",
       "Coefficients:\n",
       "(Intercept)        index  \n",
       "    1.37636      0.03421  \n"
      ]
     },
     "metadata": {},
     "output_type": "display_data"
    }
   ],
   "source": [
    "exponential.model_dd"
   ]
  },
  {
   "cell_type": "code",
   "execution_count": 57,
   "metadata": {},
   "outputs": [
    {
     "data": {
      "image/png": "[encoded data removed]",
      "text/plain": [
       "plot without title"
      ]
     },
     "metadata": {
      "image/png": {
       "height": 420,
       "width": 420
      },
      "text/plain": {
       "height": 420,
       "width": 420
      }
     },
     "output_type": "display_data"
    }
   ],
   "source": [
    "timevalues <- seq(0, 206, 1)\n",
    "Counts.exponential2 <- exp(predict(exponential.model_dd,list(Time=timevalues)))\n",
    "plot(index, Daily.Deceased,pch=16)\n",
    "lines(timevalues, Counts.exponential2,lwd=2, col = \"red\", xlab = \"Time (s)\", ylab = \"Daily.Deceased\")"
   ]
  },
  {
   "cell_type": "code",
   "execution_count": 76,
   "metadata": {},
   "outputs": [],
   "source": [
    "Daily.Active <- Total.Confirmed - Daily.Recovered - Daily.Deceased"
   ]
  },
  {
   "cell_type": "code",
   "execution_count": 77,
   "metadata": {},
   "outputs": [],
   "source": [
    "linear.model_da <-lm(Daily.Active ~ index)"
   ]
  },
  {
   "cell_type": "code",
   "execution_count": 78,
   "metadata": {},
   "outputs": [
    {
     "data": {
      "text/plain": [
       "\n",
       "Call:\n",
       "lm(formula = Daily.Active ~ index)\n",
       "\n",
       "Residuals:\n",
       "    Min      1Q  Median      3Q     Max \n",
       "-973582 -725325 -157078  593210 2204344 \n",
       "\n",
       "Coefficients:\n",
       "              Estimate Std. Error t value Pr(>|t|)    \n",
       "(Intercept) -1171401.1   112677.5  -10.40   <2e-16 ***\n",
       "index          22372.2      946.2   23.64   <2e-16 ***\n",
       "---\n",
       "Signif. codes:  0 '***' 0.001 '**' 0.01 '*' 0.05 '.' 0.1 ' ' 1\n",
       "\n",
       "Residual standard error: 813500 on 205 degrees of freedom\n",
       "Multiple R-squared:  0.7317,\tAdjusted R-squared:  0.7304 \n",
       "F-statistic:   559 on 1 and 205 DF,  p-value: < 2.2e-16\n"
      ]
     },
     "metadata": {},
     "output_type": "display_data"
    }
   ],
   "source": [
    "summary(linear.model_da)"
   ]
  },
  {
   "cell_type": "code",
   "execution_count": 79,
   "metadata": {},
   "outputs": [
    {
     "data": {
      "image/png": "[encoded data removed]",
      "text/plain": [
       "plot without title"
      ]
     },
     "metadata": {
      "image/png": {
       "height": 420,
       "width": 420
      },
      "text/plain": {
       "height": 420,
       "width": 420
      }
     },
     "output_type": "display_data"
    }
   ],
   "source": [
    "plot(index, Daily.Active, pch=16, ylab = \"Daily.Active\", cex.lab = 1.3, col = \"red\" )\n",
    "\n",
    "abline(lm(Daily.Active ~ index), col = \"blue\")"
   ]
  },
  {
   "cell_type": "code",
   "execution_count": 80,
   "metadata": {},
   "outputs": [],
   "source": [
    "index2 <- index^2\n",
    "quadratic.model_da <-lm(Daily.Active ~ index + index2)"
   ]
  },
  {
   "cell_type": "code",
   "execution_count": 81,
   "metadata": {},
   "outputs": [
    {
     "data": {
      "text/plain": [
       "\n",
       "Call:\n",
       "lm(formula = Daily.Active ~ index + index2)\n",
       "\n",
       "Residuals:\n",
       "    Min      1Q  Median      3Q     Max \n",
       "-533615 -211748   11701  218201  499326 \n",
       "\n",
       "Coefficients:\n",
       "              Estimate Std. Error t value Pr(>|t|)    \n",
       "(Intercept) 533617.709  49618.126   10.75   <2e-16 ***\n",
       "index       -27530.821   1112.846  -24.74   <2e-16 ***\n",
       "index2         242.248      5.229   46.33   <2e-16 ***\n",
       "---\n",
       "Signif. codes:  0 '***' 0.001 '**' 0.01 '*' 0.05 '.' 0.1 ' ' 1\n",
       "\n",
       "Residual standard error: 240300 on 204 degrees of freedom\n",
       "Multiple R-squared:  0.9767,\tAdjusted R-squared:  0.9765 \n",
       "F-statistic:  4277 on 2 and 204 DF,  p-value: < 2.2e-16\n"
      ]
     },
     "metadata": {},
     "output_type": "display_data"
    }
   ],
   "source": [
    "summary(quadratic.model_da)"
   ]
  },
  {
   "cell_type": "code",
   "execution_count": 82,
   "metadata": {},
   "outputs": [
    {
     "data": {
      "image/png": "[encoded data removed]",
      "text/plain": [
       "plot without title"
      ]
     },
     "metadata": {
      "image/png": {
       "height": 420,
       "width": 420
      },
      "text/plain": {
       "height": 420,
       "width": 420
      }
     },
     "output_type": "display_data"
    }
   ],
   "source": [
    "timevalues <- seq(0, 206, 1)\n",
    "predictedcounts <- predict(quadratic.model_da,list(index=timevalues, index2=timevalues^2))\n",
    "plot(index, Daily.Active, pch=16, xlab = \"Time (s)\", ylab = \"Daily.Active\", cex.lab = 1.3, col = \"blue\")\n",
    "lines(timevalues, predictedcounts, col = \"darkgreen\", lwd = 3)"
   ]
  },
  {
   "cell_type": "code",
   "execution_count": 86,
   "metadata": {},
   "outputs": [],
   "source": [
    "index2 <- index^2\n",
    "index3 <- index^3\n",
    "poly.model_da <-lm(Daily.Active ~ index + index2 + index3)"
   ]
  },
  {
   "cell_type": "code",
   "execution_count": 87,
   "metadata": {},
   "outputs": [
    {
     "data": {
      "text/plain": [
       "\n",
       "Call:\n",
       "lm(formula = Daily.Active ~ index + index2 + index3)\n",
       "\n",
       "Residuals:\n",
       "    Min      1Q  Median      3Q     Max \n",
       "-106687  -27731    6411   30457   72398 \n",
       "\n",
       "Coefficients:\n",
       "              Estimate Std. Error t value Pr(>|t|)    \n",
       "(Intercept) -7.240e+04  9.918e+03   -7.30  6.4e-12 ***\n",
       "index        8.204e+03  4.179e+02   19.63  < 2e-16 ***\n",
       "index2      -1.925e+02  4.721e+00  -40.77  < 2e-16 ***\n",
       "index3       1.407e+00  1.506e-02   93.40  < 2e-16 ***\n",
       "---\n",
       "Signif. codes:  0 '***' 0.001 '**' 0.01 '*' 0.05 '.' 0.1 ' ' 1\n",
       "\n",
       "Residual standard error: 36320 on 203 degrees of freedom\n",
       "Multiple R-squared:  0.9995,\tAdjusted R-squared:  0.9995 \n",
       "F-statistic: 1.277e+05 on 3 and 203 DF,  p-value: < 2.2e-16\n"
      ]
     },
     "metadata": {},
     "output_type": "display_data"
    }
   ],
   "source": [
    "summary(poly.model_da)"
   ]
  },
  {
   "cell_type": "code",
   "execution_count": 95,
   "metadata": {},
   "outputs": [
    {
     "data": {
      "text/plain": [
       "NULL"
      ]
     },
     "metadata": {},
     "output_type": "display_data"
    }
   ],
   "source": []
  },
  {
   "cell_type": "code",
   "execution_count": 88,
   "metadata": {},
   "outputs": [
    {
     "data": {
      "image/png": "[encoded data removed]",
      "text/plain": [
       "plot without title"
      ]
     },
     "metadata": {
      "image/png": {
       "height": 420,
       "width": 420
      },
      "text/plain": {
       "height": 420,
       "width": 420
      }
     },
     "output_type": "display_data"
    }
   ],
   "source": [
    "timevalues <- seq(0, 206, 1)\n",
    "predictedcounts <- predict(poly.model_da,list(index=timevalues, index2=timevalues^2, index3=timevalues^3))\n",
    "plot(index, Daily.Active, pch=16, xlab = \"Time (s)\", ylab = \"Daily.Active\", cex.lab = 1.3, col = \"blue\")\n",
    "lines(timevalues, predictedcounts, col = \"darkgreen\", lwd = 3)"
   ]
  },
  {
   "cell_type": "code",
   "execution_count": null,
   "metadata": {},
   "outputs": [],
   "source": []
  }
 ],
 "metadata": {
  "kernelspec": {
   "display_name": "R",
   "language": "R",
   "name": "ir"
  },
  "language_info": {
   "codemirror_mode": "r",
   "file_extension": ".r",
   "mimetype": "text/x-r-source",
   "name": "R",
   "pygments_lexer": "r",
   "version": "3.6.2"
  }
 },
 "nbformat": 4,
 "nbformat_minor": 4
}
