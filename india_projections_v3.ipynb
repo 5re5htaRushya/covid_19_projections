{
 "cells": [
  {
   "cell_type": "code",
   "execution_count": 9,
   "metadata": {},
   "outputs": [],
   "source": [
    "df<-read.csv(\"case_time_series.csv\")"
   ]
  },
  {
   "cell_type": "code",
   "execution_count": 10,
   "metadata": {},
   "outputs": [
    {
     "data": {
      "text/html": [
       "<table>\n",
       "<caption>A data.frame: 207 × 9</caption>\n",
       "<thead>\n",
       "\t<tr><th scope=col>index</th><th scope=col>Day</th><th scope=col>Daily.Count</th><th scope=col>Total.Confirmed</th><th scope=col>Daily.Recovered</th><th scope=col>Total.Recovered</th><th scope=col>Daily.Deceased</th><th scope=col>Total.Deceased</th><th scope=col>Date</th></tr>\n",
       "\t<tr><th scope=col>&lt;int&gt;</th><th scope=col>&lt;int&gt;</th><th scope=col>&lt;int&gt;</th><th scope=col>&lt;int&gt;</th><th scope=col>&lt;int&gt;</th><th scope=col>&lt;int&gt;</th><th scope=col>&lt;int&gt;</th><th scope=col>&lt;int&gt;</th><th scope=col>&lt;fct&gt;</th></tr>\n",
       "</thead>\n",
       "<tbody>\n",
       "\t<tr><td> 0</td><td> 1</td><td>  0</td><td>   3</td><td> 0</td><td>  3</td><td> 0</td><td> 0</td><td>1-Mar </td></tr>\n",
       "\t<tr><td> 1</td><td> 2</td><td>  2</td><td>   5</td><td> 0</td><td>  3</td><td> 0</td><td> 0</td><td>2-Mar </td></tr>\n",
       "\t<tr><td> 2</td><td> 3</td><td>  1</td><td>   6</td><td> 0</td><td>  3</td><td> 0</td><td> 0</td><td>3-Mar </td></tr>\n",
       "\t<tr><td> 3</td><td> 4</td><td> 22</td><td>  28</td><td> 0</td><td>  3</td><td> 0</td><td> 0</td><td>4-Mar </td></tr>\n",
       "\t<tr><td> 4</td><td> 5</td><td>  2</td><td>  30</td><td> 0</td><td>  3</td><td> 0</td><td> 0</td><td>5-Mar </td></tr>\n",
       "\t<tr><td> 5</td><td> 6</td><td>  1</td><td>  31</td><td> 0</td><td>  3</td><td> 0</td><td> 0</td><td>6-Mar </td></tr>\n",
       "\t<tr><td> 6</td><td> 7</td><td>  3</td><td>  34</td><td> 0</td><td>  3</td><td> 0</td><td> 0</td><td>7-Mar </td></tr>\n",
       "\t<tr><td> 7</td><td> 8</td><td>  5</td><td>  39</td><td> 0</td><td>  3</td><td> 0</td><td> 0</td><td>8-Mar </td></tr>\n",
       "\t<tr><td> 8</td><td> 9</td><td>  9</td><td>  48</td><td> 0</td><td>  3</td><td> 0</td><td> 0</td><td>9-Mar </td></tr>\n",
       "\t<tr><td> 9</td><td>10</td><td> 15</td><td>  63</td><td> 1</td><td>  4</td><td> 0</td><td> 0</td><td>10-Mar</td></tr>\n",
       "\t<tr><td>10</td><td>11</td><td>  8</td><td>  71</td><td> 0</td><td>  4</td><td> 0</td><td> 0</td><td>11-Mar</td></tr>\n",
       "\t<tr><td>11</td><td>12</td><td> 10</td><td>  81</td><td> 0</td><td>  4</td><td> 1</td><td> 1</td><td>12-Mar</td></tr>\n",
       "\t<tr><td>12</td><td>13</td><td> 10</td><td>  91</td><td> 6</td><td> 10</td><td> 0</td><td> 1</td><td>13-Mar</td></tr>\n",
       "\t<tr><td>13</td><td>14</td><td> 11</td><td> 102</td><td> 0</td><td> 10</td><td> 1</td><td> 2</td><td>14-Mar</td></tr>\n",
       "\t<tr><td>14</td><td>15</td><td> 10</td><td> 112</td><td> 3</td><td> 13</td><td> 0</td><td> 2</td><td>15-Mar</td></tr>\n",
       "\t<tr><td>15</td><td>16</td><td> 14</td><td> 126</td><td> 1</td><td> 14</td><td> 0</td><td> 2</td><td>16-Mar</td></tr>\n",
       "\t<tr><td>16</td><td>17</td><td> 20</td><td> 146</td><td> 1</td><td> 15</td><td> 1</td><td> 3</td><td>17-Mar</td></tr>\n",
       "\t<tr><td>17</td><td>18</td><td> 25</td><td> 171</td><td> 0</td><td> 15</td><td> 0</td><td> 3</td><td>18-Mar</td></tr>\n",
       "\t<tr><td>18</td><td>19</td><td> 27</td><td> 198</td><td> 5</td><td> 20</td><td> 1</td><td> 4</td><td>19-Mar</td></tr>\n",
       "\t<tr><td>19</td><td>20</td><td> 58</td><td> 256</td><td> 3</td><td> 23</td><td> 0</td><td> 4</td><td>20-Mar</td></tr>\n",
       "\t<tr><td>20</td><td>21</td><td> 78</td><td> 334</td><td> 0</td><td> 23</td><td> 0</td><td> 4</td><td>21-Mar</td></tr>\n",
       "\t<tr><td>21</td><td>22</td><td> 69</td><td> 403</td><td> 0</td><td> 23</td><td> 3</td><td> 7</td><td>22-Mar</td></tr>\n",
       "\t<tr><td>22</td><td>23</td><td> 94</td><td> 497</td><td> 2</td><td> 25</td><td> 2</td><td> 9</td><td>23-Mar</td></tr>\n",
       "\t<tr><td>23</td><td>24</td><td> 74</td><td> 571</td><td>15</td><td> 40</td><td> 1</td><td>10</td><td>24-Mar</td></tr>\n",
       "\t<tr><td>24</td><td>25</td><td> 86</td><td> 657</td><td> 3</td><td> 43</td><td> 1</td><td>11</td><td>25-Mar</td></tr>\n",
       "\t<tr><td>25</td><td>26</td><td> 73</td><td> 730</td><td> 7</td><td> 50</td><td> 5</td><td>16</td><td>26-Mar</td></tr>\n",
       "\t<tr><td>26</td><td>27</td><td>153</td><td> 883</td><td>25</td><td> 75</td><td> 3</td><td>19</td><td>27-Mar</td></tr>\n",
       "\t<tr><td>27</td><td>28</td><td>136</td><td>1019</td><td>10</td><td> 85</td><td> 5</td><td>24</td><td>28-Mar</td></tr>\n",
       "\t<tr><td>28</td><td>29</td><td>120</td><td>1139</td><td>17</td><td>102</td><td> 3</td><td>27</td><td>29-Mar</td></tr>\n",
       "\t<tr><td>29</td><td>30</td><td>187</td><td>1326</td><td>35</td><td>137</td><td>14</td><td>41</td><td>30-Mar</td></tr>\n",
       "\t<tr><td>...</td><td>...</td><td>...</td><td>...</td><td>...</td><td>...</td><td>...</td><td>...</td><td>...</td></tr>\n",
       "\t<tr><td>177</td><td>178</td><td>66873</td><td>3231768</td><td> 64151</td><td>2467245</td><td>1066</td><td>59624</td><td>25-Aug</td></tr>\n",
       "\t<tr><td>178</td><td>179</td><td>75995</td><td>3307763</td><td> 56191</td><td>2523436</td><td>1017</td><td>60641</td><td>26-Aug</td></tr>\n",
       "\t<tr><td>179</td><td>180</td><td>76827</td><td>3384590</td><td> 59620</td><td>2583056</td><td>1066</td><td>61707</td><td>27-Aug</td></tr>\n",
       "\t<tr><td>180</td><td>181</td><td>76657</td><td>3461247</td><td> 64475</td><td>2647531</td><td>1019</td><td>62726</td><td>28-Aug</td></tr>\n",
       "\t<tr><td>181</td><td>182</td><td>78479</td><td>3539726</td><td> 64982</td><td>2712513</td><td> 943</td><td>63669</td><td>29-Aug</td></tr>\n",
       "\t<tr><td>182</td><td>183</td><td>79461</td><td>3619187</td><td> 60422</td><td>2772935</td><td> 960</td><td>64629</td><td>30-Aug</td></tr>\n",
       "\t<tr><td>183</td><td>184</td><td>68766</td><td>3687953</td><td> 64435</td><td>2837370</td><td> 816</td><td>65445</td><td>31-Aug</td></tr>\n",
       "\t<tr><td>184</td><td>185</td><td>78168</td><td>3766121</td><td> 62145</td><td>2899515</td><td> 892</td><td>66337</td><td>1-Sep </td></tr>\n",
       "\t<tr><td>185</td><td>186</td><td>82860</td><td>3848981</td><td> 67874</td><td>2967389</td><td> 913</td><td>67250</td><td>2-Sep </td></tr>\n",
       "\t<tr><td>186</td><td>187</td><td>84156</td><td>3933137</td><td> 67491</td><td>3034880</td><td> 979</td><td>68229</td><td>3-Sep </td></tr>\n",
       "\t<tr><td>187</td><td>188</td><td>87115</td><td>4020252</td><td> 69625</td><td>3104505</td><td> 950</td><td>69179</td><td>4-Sep </td></tr>\n",
       "\t<tr><td>188</td><td>189</td><td>90600</td><td>4110852</td><td> 73161</td><td>3177666</td><td> 916</td><td>70095</td><td>5-Sep </td></tr>\n",
       "\t<tr><td>189</td><td>190</td><td>91725</td><td>4202577</td><td> 69630</td><td>3247296</td><td>1005</td><td>71100</td><td>6-Sep </td></tr>\n",
       "\t<tr><td>190</td><td>191</td><td>75015</td><td>4277592</td><td> 74116</td><td>3321412</td><td>1129</td><td>72229</td><td>7-Sep </td></tr>\n",
       "\t<tr><td>191</td><td>192</td><td>89855</td><td>4367447</td><td> 74608</td><td>3396020</td><td>1107</td><td>73336</td><td>8-Sep </td></tr>\n",
       "\t<tr><td>192</td><td>193</td><td>95536</td><td>4462983</td><td> 73062</td><td>3469082</td><td>1168</td><td>74504</td><td>9-Sep </td></tr>\n",
       "\t<tr><td>193</td><td>194</td><td>96762</td><td>4559745</td><td> 70904</td><td>3539986</td><td>1213</td><td>75717</td><td>10-Sep</td></tr>\n",
       "\t<tr><td>194</td><td>195</td><td>97655</td><td>4657400</td><td> 81456</td><td>3621442</td><td>1202</td><td>76919</td><td>11-Sep</td></tr>\n",
       "\t<tr><td>195</td><td>196</td><td>94414</td><td>4751814</td><td> 77862</td><td>3699304</td><td>1111</td><td>78030</td><td>12-Sep</td></tr>\n",
       "\t<tr><td>196</td><td>197</td><td>93220</td><td>4845034</td><td> 77748</td><td>3777052</td><td>1140</td><td>79170</td><td>13-Sep</td></tr>\n",
       "\t<tr><td>197</td><td>198</td><td>81913</td><td>4926947</td><td> 79213</td><td>3856265</td><td>1054</td><td>80224</td><td>14-Sep</td></tr>\n",
       "\t<tr><td>198</td><td>199</td><td>91098</td><td>5018045</td><td> 82849</td><td>3939114</td><td>1281</td><td>81505</td><td>15-Sep</td></tr>\n",
       "\t<tr><td>199</td><td>200</td><td>97860</td><td>5115905</td><td> 82924</td><td>4022038</td><td>1140</td><td>82645</td><td>16-Sep</td></tr>\n",
       "\t<tr><td>200</td><td>201</td><td>96787</td><td>5212692</td><td> 87788</td><td>4109826</td><td>1175</td><td>83820</td><td>17-Sep</td></tr>\n",
       "\t<tr><td>201</td><td>202</td><td>92973</td><td>5305665</td><td> 95515</td><td>4205341</td><td>1221</td><td>85041</td><td>18-Sep</td></tr>\n",
       "\t<tr><td>202</td><td>203</td><td>92574</td><td>5398239</td><td> 94389</td><td>4299730</td><td>1149</td><td>86190</td><td>19-Sep</td></tr>\n",
       "\t<tr><td>203</td><td>204</td><td>87395</td><td>5485634</td><td> 92926</td><td>4392656</td><td>1135</td><td>87325</td><td>20-Sep</td></tr>\n",
       "\t<tr><td>204</td><td>205</td><td>74493</td><td>5560127</td><td>102070</td><td>4494726</td><td>1056</td><td>88381</td><td>21-Sep</td></tr>\n",
       "\t<tr><td>205</td><td>206</td><td>83361</td><td>5643488</td><td> 89653</td><td>4584379</td><td>1085</td><td>89466</td><td>22-Sep</td></tr>\n",
       "\t<tr><td>206</td><td>207</td><td>86703</td><td>5730191</td><td> 87458</td><td>4671837</td><td>1123</td><td>90589</td><td>23-Sep</td></tr>\n",
       "</tbody>\n",
       "</table>\n"
      ],
      "text/latex": [
       "A data.frame: 207 × 9\n",
       "\\begin{tabular}{lllllllll}\n",
       " index & Day & Daily.Count & Total.Confirmed & Daily.Recovered & Total.Recovered & Daily.Deceased & Total.Deceased & Date\\\\\n",
       " <int> & <int> & <int> & <int> & <int> & <int> & <int> & <int> & <fct>\\\\\n",
       "\\hline\n",
       "\t  0 &  1 &   0 &    3 &  0 &   3 &  0 &  0 & 1-Mar \\\\\n",
       "\t  1 &  2 &   2 &    5 &  0 &   3 &  0 &  0 & 2-Mar \\\\\n",
       "\t  2 &  3 &   1 &    6 &  0 &   3 &  0 &  0 & 3-Mar \\\\\n",
       "\t  3 &  4 &  22 &   28 &  0 &   3 &  0 &  0 & 4-Mar \\\\\n",
       "\t  4 &  5 &   2 &   30 &  0 &   3 &  0 &  0 & 5-Mar \\\\\n",
       "\t  5 &  6 &   1 &   31 &  0 &   3 &  0 &  0 & 6-Mar \\\\\n",
       "\t  6 &  7 &   3 &   34 &  0 &   3 &  0 &  0 & 7-Mar \\\\\n",
       "\t  7 &  8 &   5 &   39 &  0 &   3 &  0 &  0 & 8-Mar \\\\\n",
       "\t  8 &  9 &   9 &   48 &  0 &   3 &  0 &  0 & 9-Mar \\\\\n",
       "\t  9 & 10 &  15 &   63 &  1 &   4 &  0 &  0 & 10-Mar\\\\\n",
       "\t 10 & 11 &   8 &   71 &  0 &   4 &  0 &  0 & 11-Mar\\\\\n",
       "\t 11 & 12 &  10 &   81 &  0 &   4 &  1 &  1 & 12-Mar\\\\\n",
       "\t 12 & 13 &  10 &   91 &  6 &  10 &  0 &  1 & 13-Mar\\\\\n",
       "\t 13 & 14 &  11 &  102 &  0 &  10 &  1 &  2 & 14-Mar\\\\\n",
       "\t 14 & 15 &  10 &  112 &  3 &  13 &  0 &  2 & 15-Mar\\\\\n",
       "\t 15 & 16 &  14 &  126 &  1 &  14 &  0 &  2 & 16-Mar\\\\\n",
       "\t 16 & 17 &  20 &  146 &  1 &  15 &  1 &  3 & 17-Mar\\\\\n",
       "\t 17 & 18 &  25 &  171 &  0 &  15 &  0 &  3 & 18-Mar\\\\\n",
       "\t 18 & 19 &  27 &  198 &  5 &  20 &  1 &  4 & 19-Mar\\\\\n",
       "\t 19 & 20 &  58 &  256 &  3 &  23 &  0 &  4 & 20-Mar\\\\\n",
       "\t 20 & 21 &  78 &  334 &  0 &  23 &  0 &  4 & 21-Mar\\\\\n",
       "\t 21 & 22 &  69 &  403 &  0 &  23 &  3 &  7 & 22-Mar\\\\\n",
       "\t 22 & 23 &  94 &  497 &  2 &  25 &  2 &  9 & 23-Mar\\\\\n",
       "\t 23 & 24 &  74 &  571 & 15 &  40 &  1 & 10 & 24-Mar\\\\\n",
       "\t 24 & 25 &  86 &  657 &  3 &  43 &  1 & 11 & 25-Mar\\\\\n",
       "\t 25 & 26 &  73 &  730 &  7 &  50 &  5 & 16 & 26-Mar\\\\\n",
       "\t 26 & 27 & 153 &  883 & 25 &  75 &  3 & 19 & 27-Mar\\\\\n",
       "\t 27 & 28 & 136 & 1019 & 10 &  85 &  5 & 24 & 28-Mar\\\\\n",
       "\t 28 & 29 & 120 & 1139 & 17 & 102 &  3 & 27 & 29-Mar\\\\\n",
       "\t 29 & 30 & 187 & 1326 & 35 & 137 & 14 & 41 & 30-Mar\\\\\n",
       "\t ... & ... & ... & ... & ... & ... & ... & ... & ...\\\\\n",
       "\t 177 & 178 & 66873 & 3231768 &  64151 & 2467245 & 1066 & 59624 & 25-Aug\\\\\n",
       "\t 178 & 179 & 75995 & 3307763 &  56191 & 2523436 & 1017 & 60641 & 26-Aug\\\\\n",
       "\t 179 & 180 & 76827 & 3384590 &  59620 & 2583056 & 1066 & 61707 & 27-Aug\\\\\n",
       "\t 180 & 181 & 76657 & 3461247 &  64475 & 2647531 & 1019 & 62726 & 28-Aug\\\\\n",
       "\t 181 & 182 & 78479 & 3539726 &  64982 & 2712513 &  943 & 63669 & 29-Aug\\\\\n",
       "\t 182 & 183 & 79461 & 3619187 &  60422 & 2772935 &  960 & 64629 & 30-Aug\\\\\n",
       "\t 183 & 184 & 68766 & 3687953 &  64435 & 2837370 &  816 & 65445 & 31-Aug\\\\\n",
       "\t 184 & 185 & 78168 & 3766121 &  62145 & 2899515 &  892 & 66337 & 1-Sep \\\\\n",
       "\t 185 & 186 & 82860 & 3848981 &  67874 & 2967389 &  913 & 67250 & 2-Sep \\\\\n",
       "\t 186 & 187 & 84156 & 3933137 &  67491 & 3034880 &  979 & 68229 & 3-Sep \\\\\n",
       "\t 187 & 188 & 87115 & 4020252 &  69625 & 3104505 &  950 & 69179 & 4-Sep \\\\\n",
       "\t 188 & 189 & 90600 & 4110852 &  73161 & 3177666 &  916 & 70095 & 5-Sep \\\\\n",
       "\t 189 & 190 & 91725 & 4202577 &  69630 & 3247296 & 1005 & 71100 & 6-Sep \\\\\n",
       "\t 190 & 191 & 75015 & 4277592 &  74116 & 3321412 & 1129 & 72229 & 7-Sep \\\\\n",
       "\t 191 & 192 & 89855 & 4367447 &  74608 & 3396020 & 1107 & 73336 & 8-Sep \\\\\n",
       "\t 192 & 193 & 95536 & 4462983 &  73062 & 3469082 & 1168 & 74504 & 9-Sep \\\\\n",
       "\t 193 & 194 & 96762 & 4559745 &  70904 & 3539986 & 1213 & 75717 & 10-Sep\\\\\n",
       "\t 194 & 195 & 97655 & 4657400 &  81456 & 3621442 & 1202 & 76919 & 11-Sep\\\\\n",
       "\t 195 & 196 & 94414 & 4751814 &  77862 & 3699304 & 1111 & 78030 & 12-Sep\\\\\n",
       "\t 196 & 197 & 93220 & 4845034 &  77748 & 3777052 & 1140 & 79170 & 13-Sep\\\\\n",
       "\t 197 & 198 & 81913 & 4926947 &  79213 & 3856265 & 1054 & 80224 & 14-Sep\\\\\n",
       "\t 198 & 199 & 91098 & 5018045 &  82849 & 3939114 & 1281 & 81505 & 15-Sep\\\\\n",
       "\t 199 & 200 & 97860 & 5115905 &  82924 & 4022038 & 1140 & 82645 & 16-Sep\\\\\n",
       "\t 200 & 201 & 96787 & 5212692 &  87788 & 4109826 & 1175 & 83820 & 17-Sep\\\\\n",
       "\t 201 & 202 & 92973 & 5305665 &  95515 & 4205341 & 1221 & 85041 & 18-Sep\\\\\n",
       "\t 202 & 203 & 92574 & 5398239 &  94389 & 4299730 & 1149 & 86190 & 19-Sep\\\\\n",
       "\t 203 & 204 & 87395 & 5485634 &  92926 & 4392656 & 1135 & 87325 & 20-Sep\\\\\n",
       "\t 204 & 205 & 74493 & 5560127 & 102070 & 4494726 & 1056 & 88381 & 21-Sep\\\\\n",
       "\t 205 & 206 & 83361 & 5643488 &  89653 & 4584379 & 1085 & 89466 & 22-Sep\\\\\n",
       "\t 206 & 207 & 86703 & 5730191 &  87458 & 4671837 & 1123 & 90589 & 23-Sep\\\\\n",
       "\\end{tabular}\n"
      ],
      "text/markdown": [
       "\n",
       "A data.frame: 207 × 9\n",
       "\n",
       "| index &lt;int&gt; | Day &lt;int&gt; | Daily.Count &lt;int&gt; | Total.Confirmed &lt;int&gt; | Daily.Recovered &lt;int&gt; | Total.Recovered &lt;int&gt; | Daily.Deceased &lt;int&gt; | Total.Deceased &lt;int&gt; | Date &lt;fct&gt; |\n",
       "|---|---|---|---|---|---|---|---|---|\n",
       "|  0 |  1 |   0 |    3 |  0 |   3 |  0 |  0 | 1-Mar  |\n",
       "|  1 |  2 |   2 |    5 |  0 |   3 |  0 |  0 | 2-Mar  |\n",
       "|  2 |  3 |   1 |    6 |  0 |   3 |  0 |  0 | 3-Mar  |\n",
       "|  3 |  4 |  22 |   28 |  0 |   3 |  0 |  0 | 4-Mar  |\n",
       "|  4 |  5 |   2 |   30 |  0 |   3 |  0 |  0 | 5-Mar  |\n",
       "|  5 |  6 |   1 |   31 |  0 |   3 |  0 |  0 | 6-Mar  |\n",
       "|  6 |  7 |   3 |   34 |  0 |   3 |  0 |  0 | 7-Mar  |\n",
       "|  7 |  8 |   5 |   39 |  0 |   3 |  0 |  0 | 8-Mar  |\n",
       "|  8 |  9 |   9 |   48 |  0 |   3 |  0 |  0 | 9-Mar  |\n",
       "|  9 | 10 |  15 |   63 |  1 |   4 |  0 |  0 | 10-Mar |\n",
       "| 10 | 11 |   8 |   71 |  0 |   4 |  0 |  0 | 11-Mar |\n",
       "| 11 | 12 |  10 |   81 |  0 |   4 |  1 |  1 | 12-Mar |\n",
       "| 12 | 13 |  10 |   91 |  6 |  10 |  0 |  1 | 13-Mar |\n",
       "| 13 | 14 |  11 |  102 |  0 |  10 |  1 |  2 | 14-Mar |\n",
       "| 14 | 15 |  10 |  112 |  3 |  13 |  0 |  2 | 15-Mar |\n",
       "| 15 | 16 |  14 |  126 |  1 |  14 |  0 |  2 | 16-Mar |\n",
       "| 16 | 17 |  20 |  146 |  1 |  15 |  1 |  3 | 17-Mar |\n",
       "| 17 | 18 |  25 |  171 |  0 |  15 |  0 |  3 | 18-Mar |\n",
       "| 18 | 19 |  27 |  198 |  5 |  20 |  1 |  4 | 19-Mar |\n",
       "| 19 | 20 |  58 |  256 |  3 |  23 |  0 |  4 | 20-Mar |\n",
       "| 20 | 21 |  78 |  334 |  0 |  23 |  0 |  4 | 21-Mar |\n",
       "| 21 | 22 |  69 |  403 |  0 |  23 |  3 |  7 | 22-Mar |\n",
       "| 22 | 23 |  94 |  497 |  2 |  25 |  2 |  9 | 23-Mar |\n",
       "| 23 | 24 |  74 |  571 | 15 |  40 |  1 | 10 | 24-Mar |\n",
       "| 24 | 25 |  86 |  657 |  3 |  43 |  1 | 11 | 25-Mar |\n",
       "| 25 | 26 |  73 |  730 |  7 |  50 |  5 | 16 | 26-Mar |\n",
       "| 26 | 27 | 153 |  883 | 25 |  75 |  3 | 19 | 27-Mar |\n",
       "| 27 | 28 | 136 | 1019 | 10 |  85 |  5 | 24 | 28-Mar |\n",
       "| 28 | 29 | 120 | 1139 | 17 | 102 |  3 | 27 | 29-Mar |\n",
       "| 29 | 30 | 187 | 1326 | 35 | 137 | 14 | 41 | 30-Mar |\n",
       "| ... | ... | ... | ... | ... | ... | ... | ... | ... |\n",
       "| 177 | 178 | 66873 | 3231768 |  64151 | 2467245 | 1066 | 59624 | 25-Aug |\n",
       "| 178 | 179 | 75995 | 3307763 |  56191 | 2523436 | 1017 | 60641 | 26-Aug |\n",
       "| 179 | 180 | 76827 | 3384590 |  59620 | 2583056 | 1066 | 61707 | 27-Aug |\n",
       "| 180 | 181 | 76657 | 3461247 |  64475 | 2647531 | 1019 | 62726 | 28-Aug |\n",
       "| 181 | 182 | 78479 | 3539726 |  64982 | 2712513 |  943 | 63669 | 29-Aug |\n",
       "| 182 | 183 | 79461 | 3619187 |  60422 | 2772935 |  960 | 64629 | 30-Aug |\n",
       "| 183 | 184 | 68766 | 3687953 |  64435 | 2837370 |  816 | 65445 | 31-Aug |\n",
       "| 184 | 185 | 78168 | 3766121 |  62145 | 2899515 |  892 | 66337 | 1-Sep  |\n",
       "| 185 | 186 | 82860 | 3848981 |  67874 | 2967389 |  913 | 67250 | 2-Sep  |\n",
       "| 186 | 187 | 84156 | 3933137 |  67491 | 3034880 |  979 | 68229 | 3-Sep  |\n",
       "| 187 | 188 | 87115 | 4020252 |  69625 | 3104505 |  950 | 69179 | 4-Sep  |\n",
       "| 188 | 189 | 90600 | 4110852 |  73161 | 3177666 |  916 | 70095 | 5-Sep  |\n",
       "| 189 | 190 | 91725 | 4202577 |  69630 | 3247296 | 1005 | 71100 | 6-Sep  |\n",
       "| 190 | 191 | 75015 | 4277592 |  74116 | 3321412 | 1129 | 72229 | 7-Sep  |\n",
       "| 191 | 192 | 89855 | 4367447 |  74608 | 3396020 | 1107 | 73336 | 8-Sep  |\n",
       "| 192 | 193 | 95536 | 4462983 |  73062 | 3469082 | 1168 | 74504 | 9-Sep  |\n",
       "| 193 | 194 | 96762 | 4559745 |  70904 | 3539986 | 1213 | 75717 | 10-Sep |\n",
       "| 194 | 195 | 97655 | 4657400 |  81456 | 3621442 | 1202 | 76919 | 11-Sep |\n",
       "| 195 | 196 | 94414 | 4751814 |  77862 | 3699304 | 1111 | 78030 | 12-Sep |\n",
       "| 196 | 197 | 93220 | 4845034 |  77748 | 3777052 | 1140 | 79170 | 13-Sep |\n",
       "| 197 | 198 | 81913 | 4926947 |  79213 | 3856265 | 1054 | 80224 | 14-Sep |\n",
       "| 198 | 199 | 91098 | 5018045 |  82849 | 3939114 | 1281 | 81505 | 15-Sep |\n",
       "| 199 | 200 | 97860 | 5115905 |  82924 | 4022038 | 1140 | 82645 | 16-Sep |\n",
       "| 200 | 201 | 96787 | 5212692 |  87788 | 4109826 | 1175 | 83820 | 17-Sep |\n",
       "| 201 | 202 | 92973 | 5305665 |  95515 | 4205341 | 1221 | 85041 | 18-Sep |\n",
       "| 202 | 203 | 92574 | 5398239 |  94389 | 4299730 | 1149 | 86190 | 19-Sep |\n",
       "| 203 | 204 | 87395 | 5485634 |  92926 | 4392656 | 1135 | 87325 | 20-Sep |\n",
       "| 204 | 205 | 74493 | 5560127 | 102070 | 4494726 | 1056 | 88381 | 21-Sep |\n",
       "| 205 | 206 | 83361 | 5643488 |  89653 | 4584379 | 1085 | 89466 | 22-Sep |\n",
       "| 206 | 207 | 86703 | 5730191 |  87458 | 4671837 | 1123 | 90589 | 23-Sep |\n",
       "\n"
      ],
      "text/plain": [
       "    index Day Daily.Count Total.Confirmed Daily.Recovered Total.Recovered\n",
       "1    0     1    0            3             0                3            \n",
       "2    1     2    2            5             0                3            \n",
       "3    2     3    1            6             0                3            \n",
       "4    3     4   22           28             0                3            \n",
       "5    4     5    2           30             0                3            \n",
       "6    5     6    1           31             0                3            \n",
       "7    6     7    3           34             0                3            \n",
       "8    7     8    5           39             0                3            \n",
       "9    8     9    9           48             0                3            \n",
       "10   9    10   15           63             1                4            \n",
       "11  10    11    8           71             0                4            \n",
       "12  11    12   10           81             0                4            \n",
       "13  12    13   10           91             6               10            \n",
       "14  13    14   11          102             0               10            \n",
       "15  14    15   10          112             3               13            \n",
       "16  15    16   14          126             1               14            \n",
       "17  16    17   20          146             1               15            \n",
       "18  17    18   25          171             0               15            \n",
       "19  18    19   27          198             5               20            \n",
       "20  19    20   58          256             3               23            \n",
       "21  20    21   78          334             0               23            \n",
       "22  21    22   69          403             0               23            \n",
       "23  22    23   94          497             2               25            \n",
       "24  23    24   74          571            15               40            \n",
       "25  24    25   86          657             3               43            \n",
       "26  25    26   73          730             7               50            \n",
       "27  26    27  153          883            25               75            \n",
       "28  27    28  136         1019            10               85            \n",
       "29  28    29  120         1139            17              102            \n",
       "30  29    30  187         1326            35              137            \n",
       "... ...   ... ...         ...             ...             ...            \n",
       "178 177   178 66873       3231768          64151          2467245        \n",
       "179 178   179 75995       3307763          56191          2523436        \n",
       "180 179   180 76827       3384590          59620          2583056        \n",
       "181 180   181 76657       3461247          64475          2647531        \n",
       "182 181   182 78479       3539726          64982          2712513        \n",
       "183 182   183 79461       3619187          60422          2772935        \n",
       "184 183   184 68766       3687953          64435          2837370        \n",
       "185 184   185 78168       3766121          62145          2899515        \n",
       "186 185   186 82860       3848981          67874          2967389        \n",
       "187 186   187 84156       3933137          67491          3034880        \n",
       "188 187   188 87115       4020252          69625          3104505        \n",
       "189 188   189 90600       4110852          73161          3177666        \n",
       "190 189   190 91725       4202577          69630          3247296        \n",
       "191 190   191 75015       4277592          74116          3321412        \n",
       "192 191   192 89855       4367447          74608          3396020        \n",
       "193 192   193 95536       4462983          73062          3469082        \n",
       "194 193   194 96762       4559745          70904          3539986        \n",
       "195 194   195 97655       4657400          81456          3621442        \n",
       "196 195   196 94414       4751814          77862          3699304        \n",
       "197 196   197 93220       4845034          77748          3777052        \n",
       "198 197   198 81913       4926947          79213          3856265        \n",
       "199 198   199 91098       5018045          82849          3939114        \n",
       "200 199   200 97860       5115905          82924          4022038        \n",
       "201 200   201 96787       5212692          87788          4109826        \n",
       "202 201   202 92973       5305665          95515          4205341        \n",
       "203 202   203 92574       5398239          94389          4299730        \n",
       "204 203   204 87395       5485634          92926          4392656        \n",
       "205 204   205 74493       5560127         102070          4494726        \n",
       "206 205   206 83361       5643488          89653          4584379        \n",
       "207 206   207 86703       5730191          87458          4671837        \n",
       "    Daily.Deceased Total.Deceased Date  \n",
       "1    0              0             1-Mar \n",
       "2    0              0             2-Mar \n",
       "3    0              0             3-Mar \n",
       "4    0              0             4-Mar \n",
       "5    0              0             5-Mar \n",
       "6    0              0             6-Mar \n",
       "7    0              0             7-Mar \n",
       "8    0              0             8-Mar \n",
       "9    0              0             9-Mar \n",
       "10   0              0             10-Mar\n",
       "11   0              0             11-Mar\n",
       "12   1              1             12-Mar\n",
       "13   0              1             13-Mar\n",
       "14   1              2             14-Mar\n",
       "15   0              2             15-Mar\n",
       "16   0              2             16-Mar\n",
       "17   1              3             17-Mar\n",
       "18   0              3             18-Mar\n",
       "19   1              4             19-Mar\n",
       "20   0              4             20-Mar\n",
       "21   0              4             21-Mar\n",
       "22   3              7             22-Mar\n",
       "23   2              9             23-Mar\n",
       "24   1             10             24-Mar\n",
       "25   1             11             25-Mar\n",
       "26   5             16             26-Mar\n",
       "27   3             19             27-Mar\n",
       "28   5             24             28-Mar\n",
       "29   3             27             29-Mar\n",
       "30  14             41             30-Mar\n",
       "... ...            ...            ...   \n",
       "178 1066           59624          25-Aug\n",
       "179 1017           60641          26-Aug\n",
       "180 1066           61707          27-Aug\n",
       "181 1019           62726          28-Aug\n",
       "182  943           63669          29-Aug\n",
       "183  960           64629          30-Aug\n",
       "184  816           65445          31-Aug\n",
       "185  892           66337          1-Sep \n",
       "186  913           67250          2-Sep \n",
       "187  979           68229          3-Sep \n",
       "188  950           69179          4-Sep \n",
       "189  916           70095          5-Sep \n",
       "190 1005           71100          6-Sep \n",
       "191 1129           72229          7-Sep \n",
       "192 1107           73336          8-Sep \n",
       "193 1168           74504          9-Sep \n",
       "194 1213           75717          10-Sep\n",
       "195 1202           76919          11-Sep\n",
       "196 1111           78030          12-Sep\n",
       "197 1140           79170          13-Sep\n",
       "198 1054           80224          14-Sep\n",
       "199 1281           81505          15-Sep\n",
       "200 1140           82645          16-Sep\n",
       "201 1175           83820          17-Sep\n",
       "202 1221           85041          18-Sep\n",
       "203 1149           86190          19-Sep\n",
       "204 1135           87325          20-Sep\n",
       "205 1056           88381          21-Sep\n",
       "206 1085           89466          22-Sep\n",
       "207 1123           90589          23-Sep"
      ]
     },
     "metadata": {},
     "output_type": "display_data"
    }
   ],
   "source": [
    "df"
   ]
  },
  {
   "cell_type": "code",
   "execution_count": 11,
   "metadata": {},
   "outputs": [],
   "source": [
    "df['Daily.Active'] <- df['Total.Confirmed'] - df['Daily.Recovered'] - df['Daily.Deceased']"
   ]
  },
  {
   "cell_type": "code",
   "execution_count": 16,
   "metadata": {},
   "outputs": [
    {
     "data": {
      "text/plain": [
       "     index            Day         Daily.Count    Total.Confirmed  \n",
       " Min.   :  0.0   Min.   :  1.0   Min.   :    0   Min.   :      3  \n",
       " 1st Qu.: 51.5   1st Qu.: 52.5   1st Qu.: 1472   1st Qu.:  20727  \n",
       " Median :103.0   Median :104.0   Median :11135   Median : 309599  \n",
       " Mean   :103.0   Mean   :104.0   Mean   :27682   Mean   :1155939  \n",
       " 3rd Qu.:154.5   3rd Qu.:155.5   3rd Qu.:53657   3rd Qu.:1830101  \n",
       " Max.   :206.0   Max.   :207.0   Max.   :97860   Max.   :5730191  \n",
       "                                                                  \n",
       " Daily.Recovered  Total.Recovered   Daily.Deceased   Total.Deceased \n",
       " Min.   :     0   Min.   :      3   Min.   :   0.0   Min.   :    0  \n",
       " 1st Qu.:   434   1st Qu.:   4173   1st Qu.:  43.0   1st Qu.:  664  \n",
       " Median :  7226   Median : 154235   Median : 312.0   Median : 8889  \n",
       " Mean   : 22569   Mean   : 841067   Mean   : 437.6   Mean   :22405  \n",
       " 3rd Qu.: 44327   3rd Qu.:1208796   3rd Qu.: 840.5   3rd Qu.:38583  \n",
       " Max.   :102070   Max.   :4671837   Max.   :2004.0   Max.   :90589  \n",
       "                                                                    \n",
       "      Date      Daily.Active    \n",
       " 1-Apr  :  1   Min.   :      3  \n",
       " 1-Aug  :  1   1st Qu.:  20134  \n",
       " 1-Jul  :  1   Median : 301948  \n",
       " 1-Jun  :  1   Mean   :1132932  \n",
       " 1-Mar  :  1   3rd Qu.:1787606  \n",
       " 1-May  :  1   Max.   :5641610  \n",
       " (Other):201                    "
      ]
     },
     "metadata": {},
     "output_type": "display_data"
    }
   ],
   "source": [
    "summary(df)"
   ]
  },
  {
   "cell_type": "code",
   "execution_count": 17,
   "metadata": {},
   "outputs": [],
   "source": [
    "df['Daily.Deceased'][df['Daily.Deceased']==2004] <- 450"
   ]
  },
  {
   "cell_type": "code",
   "execution_count": 18,
   "metadata": {},
   "outputs": [
    {
     "data": {
      "text/html": [
       "1281"
      ],
      "text/latex": [
       "1281"
      ],
      "text/markdown": [
       "1281"
      ],
      "text/plain": [
       "[1] 1281"
      ]
     },
     "metadata": {},
     "output_type": "display_data"
    }
   ],
   "source": [
    "max(df['Daily.Deceased'])"
   ]
  },
  {
   "cell_type": "code",
   "execution_count": 19,
   "metadata": {},
   "outputs": [],
   "source": [
    "attach(df)"
   ]
  },
  {
   "cell_type": "code",
   "execution_count": 20,
   "metadata": {},
   "outputs": [
    {
     "data": {
      "text/html": [
       "<ol class=list-inline>\n",
       "\t<li>'index'</li>\n",
       "\t<li>'Day'</li>\n",
       "\t<li>'Daily.Count'</li>\n",
       "\t<li>'Total.Confirmed'</li>\n",
       "\t<li>'Daily.Recovered'</li>\n",
       "\t<li>'Total.Recovered'</li>\n",
       "\t<li>'Daily.Deceased'</li>\n",
       "\t<li>'Total.Deceased'</li>\n",
       "\t<li>'Date'</li>\n",
       "\t<li>'Daily.Active'</li>\n",
       "</ol>\n"
      ],
      "text/latex": [
       "\\begin{enumerate*}\n",
       "\\item 'index'\n",
       "\\item 'Day'\n",
       "\\item 'Daily.Count'\n",
       "\\item 'Total.Confirmed'\n",
       "\\item 'Daily.Recovered'\n",
       "\\item 'Total.Recovered'\n",
       "\\item 'Daily.Deceased'\n",
       "\\item 'Total.Deceased'\n",
       "\\item 'Date'\n",
       "\\item 'Daily.Active'\n",
       "\\end{enumerate*}\n"
      ],
      "text/markdown": [
       "1. 'index'\n",
       "2. 'Day'\n",
       "3. 'Daily.Count'\n",
       "4. 'Total.Confirmed'\n",
       "5. 'Daily.Recovered'\n",
       "6. 'Total.Recovered'\n",
       "7. 'Daily.Deceased'\n",
       "8. 'Total.Deceased'\n",
       "9. 'Date'\n",
       "10. 'Daily.Active'\n",
       "\n",
       "\n"
      ],
      "text/plain": [
       " [1] \"index\"           \"Day\"             \"Daily.Count\"     \"Total.Confirmed\"\n",
       " [5] \"Daily.Recovered\" \"Total.Recovered\" \"Daily.Deceased\"  \"Total.Deceased\" \n",
       " [9] \"Date\"            \"Daily.Active\"   "
      ]
     },
     "metadata": {},
     "output_type": "display_data"
    }
   ],
   "source": [
    "names(df)"
   ]
  },
  {
   "cell_type": "code",
   "execution_count": 22,
   "metadata": {},
   "outputs": [],
   "source": [
    "my_data <- df[, c(1,3,4,5,6,7,8,10)]"
   ]
  },
  {
   "cell_type": "code",
   "execution_count": 23,
   "metadata": {},
   "outputs": [
    {
     "data": {
      "text/html": [
       "<table>\n",
       "<caption>A matrix: 8 × 8 of type dbl</caption>\n",
       "<thead>\n",
       "\t<tr><th></th><th scope=col>index</th><th scope=col>Daily.Count</th><th scope=col>Total.Confirmed</th><th scope=col>Daily.Recovered</th><th scope=col>Total.Recovered</th><th scope=col>Daily.Deceased</th><th scope=col>Total.Deceased</th><th scope=col>Daily.Active</th></tr>\n",
       "</thead>\n",
       "<tbody>\n",
       "\t<tr><th scope=row>index</th><td>1.00</td><td>0.92</td><td>0.86</td><td>0.89</td><td>0.83</td><td>0.96</td><td>0.91</td><td>0.86</td></tr>\n",
       "\t<tr><th scope=row>Daily.Count</th><td>0.92</td><td>1.00</td><td>0.96</td><td>0.98</td><td>0.95</td><td>0.97</td><td>0.99</td><td>0.96</td></tr>\n",
       "\t<tr><th scope=row>Total.Confirmed</th><td>0.86</td><td>0.96</td><td>1.00</td><td>0.99</td><td>1.00</td><td>0.91</td><td>0.99</td><td>1.00</td></tr>\n",
       "\t<tr><th scope=row>Daily.Recovered</th><td>0.89</td><td>0.98</td><td>0.99</td><td>1.00</td><td>0.98</td><td>0.95</td><td>0.99</td><td>0.98</td></tr>\n",
       "\t<tr><th scope=row>Total.Recovered</th><td>0.83</td><td>0.95</td><td>1.00</td><td>0.98</td><td>1.00</td><td>0.89</td><td>0.98</td><td>1.00</td></tr>\n",
       "\t<tr><th scope=row>Daily.Deceased</th><td>0.96</td><td>0.97</td><td>0.91</td><td>0.95</td><td>0.89</td><td>1.00</td><td>0.95</td><td>0.91</td></tr>\n",
       "\t<tr><th scope=row>Total.Deceased</th><td>0.91</td><td>0.99</td><td>0.99</td><td>0.99</td><td>0.98</td><td>0.95</td><td>1.00</td><td>0.99</td></tr>\n",
       "\t<tr><th scope=row>Daily.Active</th><td>0.86</td><td>0.96</td><td>1.00</td><td>0.98</td><td>1.00</td><td>0.91</td><td>0.99</td><td>1.00</td></tr>\n",
       "</tbody>\n",
       "</table>\n"
      ],
      "text/latex": [
       "A matrix: 8 × 8 of type dbl\n",
       "\\begin{tabular}{r|llllllll}\n",
       "  & index & Daily.Count & Total.Confirmed & Daily.Recovered & Total.Recovered & Daily.Deceased & Total.Deceased & Daily.Active\\\\\n",
       "\\hline\n",
       "\tindex & 1.00 & 0.92 & 0.86 & 0.89 & 0.83 & 0.96 & 0.91 & 0.86\\\\\n",
       "\tDaily.Count & 0.92 & 1.00 & 0.96 & 0.98 & 0.95 & 0.97 & 0.99 & 0.96\\\\\n",
       "\tTotal.Confirmed & 0.86 & 0.96 & 1.00 & 0.99 & 1.00 & 0.91 & 0.99 & 1.00\\\\\n",
       "\tDaily.Recovered & 0.89 & 0.98 & 0.99 & 1.00 & 0.98 & 0.95 & 0.99 & 0.98\\\\\n",
       "\tTotal.Recovered & 0.83 & 0.95 & 1.00 & 0.98 & 1.00 & 0.89 & 0.98 & 1.00\\\\\n",
       "\tDaily.Deceased & 0.96 & 0.97 & 0.91 & 0.95 & 0.89 & 1.00 & 0.95 & 0.91\\\\\n",
       "\tTotal.Deceased & 0.91 & 0.99 & 0.99 & 0.99 & 0.98 & 0.95 & 1.00 & 0.99\\\\\n",
       "\tDaily.Active & 0.86 & 0.96 & 1.00 & 0.98 & 1.00 & 0.91 & 0.99 & 1.00\\\\\n",
       "\\end{tabular}\n"
      ],
      "text/markdown": [
       "\n",
       "A matrix: 8 × 8 of type dbl\n",
       "\n",
       "| <!--/--> | index | Daily.Count | Total.Confirmed | Daily.Recovered | Total.Recovered | Daily.Deceased | Total.Deceased | Daily.Active |\n",
       "|---|---|---|---|---|---|---|---|---|\n",
       "| index | 1.00 | 0.92 | 0.86 | 0.89 | 0.83 | 0.96 | 0.91 | 0.86 |\n",
       "| Daily.Count | 0.92 | 1.00 | 0.96 | 0.98 | 0.95 | 0.97 | 0.99 | 0.96 |\n",
       "| Total.Confirmed | 0.86 | 0.96 | 1.00 | 0.99 | 1.00 | 0.91 | 0.99 | 1.00 |\n",
       "| Daily.Recovered | 0.89 | 0.98 | 0.99 | 1.00 | 0.98 | 0.95 | 0.99 | 0.98 |\n",
       "| Total.Recovered | 0.83 | 0.95 | 1.00 | 0.98 | 1.00 | 0.89 | 0.98 | 1.00 |\n",
       "| Daily.Deceased | 0.96 | 0.97 | 0.91 | 0.95 | 0.89 | 1.00 | 0.95 | 0.91 |\n",
       "| Total.Deceased | 0.91 | 0.99 | 0.99 | 0.99 | 0.98 | 0.95 | 1.00 | 0.99 |\n",
       "| Daily.Active | 0.86 | 0.96 | 1.00 | 0.98 | 1.00 | 0.91 | 0.99 | 1.00 |\n",
       "\n"
      ],
      "text/plain": [
       "                index Daily.Count Total.Confirmed Daily.Recovered\n",
       "index           1.00  0.92        0.86            0.89           \n",
       "Daily.Count     0.92  1.00        0.96            0.98           \n",
       "Total.Confirmed 0.86  0.96        1.00            0.99           \n",
       "Daily.Recovered 0.89  0.98        0.99            1.00           \n",
       "Total.Recovered 0.83  0.95        1.00            0.98           \n",
       "Daily.Deceased  0.96  0.97        0.91            0.95           \n",
       "Total.Deceased  0.91  0.99        0.99            0.99           \n",
       "Daily.Active    0.86  0.96        1.00            0.98           \n",
       "                Total.Recovered Daily.Deceased Total.Deceased Daily.Active\n",
       "index           0.83            0.96           0.91           0.86        \n",
       "Daily.Count     0.95            0.97           0.99           0.96        \n",
       "Total.Confirmed 1.00            0.91           0.99           1.00        \n",
       "Daily.Recovered 0.98            0.95           0.99           0.98        \n",
       "Total.Recovered 1.00            0.89           0.98           1.00        \n",
       "Daily.Deceased  0.89            1.00           0.95           0.91        \n",
       "Total.Deceased  0.98            0.95           1.00           0.99        \n",
       "Daily.Active    1.00            0.91           0.99           1.00        "
      ]
     },
     "metadata": {},
     "output_type": "display_data"
    }
   ],
   "source": [
    "res <- cor(my_data)\n",
    "round(res, 2)"
   ]
  },
  {
   "cell_type": "code",
   "execution_count": 24,
   "metadata": {},
   "outputs": [
    {
     "name": "stderr",
     "output_type": "stream",
     "text": [
      "Warning message:\n",
      "\"package 'corrplot' was built under R version 3.6.3\"\n",
      "corrplot 0.84 loaded\n",
      "\n"
     ]
    },
    {
     "data": {
      "image/png": "[encoded data removed]",
      "text/plain": [
       "Plot with title \"\""
      ]
     },
     "metadata": {
      "image/png": {
       "height": 420,
       "width": 420
      },
      "text/plain": {
       "height": 420,
       "width": 420
      }
     },
     "output_type": "display_data"
    }
   ],
   "source": [
    "library(corrplot)\n",
    "corrplot(res, type = \"upper\", order = \"hclust\", \n",
    "         tl.col = \"black\", tl.srt = 45)"
   ]
  },
  {
   "cell_type": "code",
   "execution_count": 25,
   "metadata": {},
   "outputs": [
    {
     "name": "stderr",
     "output_type": "stream",
     "text": [
      "Warning message:\n",
      "\"package 'PerformanceAnalytics' was built under R version 3.6.3\"\n",
      "Loading required package: xts\n",
      "\n",
      "Loading required package: zoo\n",
      "\n",
      "\n",
      "Attaching package: 'zoo'\n",
      "\n",
      "\n",
      "The following objects are masked from 'package:base':\n",
      "\n",
      "    as.Date, as.Date.numeric\n",
      "\n",
      "\n",
      "Registered S3 method overwritten by 'xts':\n",
      "  method     from\n",
      "  as.zoo.xts zoo \n",
      "\n",
      "\n",
      "Attaching package: 'PerformanceAnalytics'\n",
      "\n",
      "\n",
      "The following object is masked from 'package:graphics':\n",
      "\n",
      "    legend\n",
      "\n",
      "\n"
     ]
    },
    {
     "data": {
      "image/png": "[encoded data removed]",
      "text/plain": [
       "Plot with title \"\""
      ]
     },
     "metadata": {
      "image/png": {
       "height": 420,
       "width": 420
      },
      "text/plain": {
       "height": 420,
       "width": 420
      }
     },
     "output_type": "display_data"
    }
   ],
   "source": [
    "library(\"PerformanceAnalytics\")\n",
    "chart.Correlation(my_data, histogram=TRUE, pch=19)"
   ]
  },
  {
   "cell_type": "code",
   "execution_count": 26,
   "metadata": {},
   "outputs": [],
   "source": [
    "index <- Day - 1"
   ]
  },
  {
   "cell_type": "code",
   "execution_count": 28,
   "metadata": {},
   "outputs": [],
   "source": [
    "dd_by_dc <- Daily.Deceased/Daily.Count\n",
    "dd_by_dr <- Daily.Deceased/Daily.Recovered\n",
    "dd_by_da <- Daily.Deceased/Daily.Active"
   ]
  },
  {
   "cell_type": "code",
   "execution_count": 29,
   "metadata": {},
   "outputs": [],
   "source": [
    "dd_by_dr[which(dd_by_dr==Inf)] <- 1"
   ]
  },
  {
   "cell_type": "code",
   "execution_count": 30,
   "metadata": {},
   "outputs": [],
   "source": [
    "dd_by_dr[which(!is.finite(dd_by_dr))] <- 0"
   ]
  },
  {
   "cell_type": "code",
   "execution_count": 31,
   "metadata": {},
   "outputs": [],
   "source": [
    "df['Daily.Deceased/Daily.Count'] <- dd_by_dc\n",
    "df['Daily.Deceased/Daily.Recovered'] <- dd_by_dr\n",
    "df['Daily.Deceased/Daily.Active'] <- dd_by_da"
   ]
  },
  {
   "cell_type": "code",
   "execution_count": 32,
   "metadata": {},
   "outputs": [
    {
     "data": {
      "text/html": [
       "<table>\n",
       "<caption>A data.frame: 207 × 13</caption>\n",
       "<thead>\n",
       "\t<tr><th scope=col>index</th><th scope=col>Day</th><th scope=col>Daily.Count</th><th scope=col>Total.Confirmed</th><th scope=col>Daily.Recovered</th><th scope=col>Total.Recovered</th><th scope=col>Daily.Deceased</th><th scope=col>Total.Deceased</th><th scope=col>Date</th><th scope=col>Daily.Active</th><th scope=col>Daily.Deceased/Daily.Count</th><th scope=col>Daily.Deceased/Daily.Recovered</th><th scope=col>Daily.Deceased/Daily.Active</th></tr>\n",
       "\t<tr><th scope=col>&lt;int&gt;</th><th scope=col>&lt;int&gt;</th><th scope=col>&lt;int&gt;</th><th scope=col>&lt;int&gt;</th><th scope=col>&lt;int&gt;</th><th scope=col>&lt;int&gt;</th><th scope=col>&lt;dbl&gt;</th><th scope=col>&lt;int&gt;</th><th scope=col>&lt;fct&gt;</th><th scope=col>&lt;int&gt;</th><th scope=col>&lt;dbl&gt;</th><th scope=col>&lt;dbl&gt;</th><th scope=col>&lt;dbl&gt;</th></tr>\n",
       "</thead>\n",
       "<tbody>\n",
       "\t<tr><td> 0</td><td> 1</td><td>  0</td><td>   3</td><td> 0</td><td>  3</td><td> 0</td><td> 0</td><td>1-Mar </td><td>   3</td><td>       NaN</td><td>0.00000000</td><td>0.000000000</td></tr>\n",
       "\t<tr><td> 1</td><td> 2</td><td>  2</td><td>   5</td><td> 0</td><td>  3</td><td> 0</td><td> 0</td><td>2-Mar </td><td>   5</td><td>0.00000000</td><td>0.00000000</td><td>0.000000000</td></tr>\n",
       "\t<tr><td> 2</td><td> 3</td><td>  1</td><td>   6</td><td> 0</td><td>  3</td><td> 0</td><td> 0</td><td>3-Mar </td><td>   6</td><td>0.00000000</td><td>0.00000000</td><td>0.000000000</td></tr>\n",
       "\t<tr><td> 3</td><td> 4</td><td> 22</td><td>  28</td><td> 0</td><td>  3</td><td> 0</td><td> 0</td><td>4-Mar </td><td>  28</td><td>0.00000000</td><td>0.00000000</td><td>0.000000000</td></tr>\n",
       "\t<tr><td> 4</td><td> 5</td><td>  2</td><td>  30</td><td> 0</td><td>  3</td><td> 0</td><td> 0</td><td>5-Mar </td><td>  30</td><td>0.00000000</td><td>0.00000000</td><td>0.000000000</td></tr>\n",
       "\t<tr><td> 5</td><td> 6</td><td>  1</td><td>  31</td><td> 0</td><td>  3</td><td> 0</td><td> 0</td><td>6-Mar </td><td>  31</td><td>0.00000000</td><td>0.00000000</td><td>0.000000000</td></tr>\n",
       "\t<tr><td> 6</td><td> 7</td><td>  3</td><td>  34</td><td> 0</td><td>  3</td><td> 0</td><td> 0</td><td>7-Mar </td><td>  34</td><td>0.00000000</td><td>0.00000000</td><td>0.000000000</td></tr>\n",
       "\t<tr><td> 7</td><td> 8</td><td>  5</td><td>  39</td><td> 0</td><td>  3</td><td> 0</td><td> 0</td><td>8-Mar </td><td>  39</td><td>0.00000000</td><td>0.00000000</td><td>0.000000000</td></tr>\n",
       "\t<tr><td> 8</td><td> 9</td><td>  9</td><td>  48</td><td> 0</td><td>  3</td><td> 0</td><td> 0</td><td>9-Mar </td><td>  48</td><td>0.00000000</td><td>0.00000000</td><td>0.000000000</td></tr>\n",
       "\t<tr><td> 9</td><td>10</td><td> 15</td><td>  63</td><td> 1</td><td>  4</td><td> 0</td><td> 0</td><td>10-Mar</td><td>  62</td><td>0.00000000</td><td>0.00000000</td><td>0.000000000</td></tr>\n",
       "\t<tr><td>10</td><td>11</td><td>  8</td><td>  71</td><td> 0</td><td>  4</td><td> 0</td><td> 0</td><td>11-Mar</td><td>  71</td><td>0.00000000</td><td>0.00000000</td><td>0.000000000</td></tr>\n",
       "\t<tr><td>11</td><td>12</td><td> 10</td><td>  81</td><td> 0</td><td>  4</td><td> 1</td><td> 1</td><td>12-Mar</td><td>  80</td><td>0.10000000</td><td>1.00000000</td><td>0.012500000</td></tr>\n",
       "\t<tr><td>12</td><td>13</td><td> 10</td><td>  91</td><td> 6</td><td> 10</td><td> 0</td><td> 1</td><td>13-Mar</td><td>  85</td><td>0.00000000</td><td>0.00000000</td><td>0.000000000</td></tr>\n",
       "\t<tr><td>13</td><td>14</td><td> 11</td><td> 102</td><td> 0</td><td> 10</td><td> 1</td><td> 2</td><td>14-Mar</td><td> 101</td><td>0.09090909</td><td>1.00000000</td><td>0.009900990</td></tr>\n",
       "\t<tr><td>14</td><td>15</td><td> 10</td><td> 112</td><td> 3</td><td> 13</td><td> 0</td><td> 2</td><td>15-Mar</td><td> 109</td><td>0.00000000</td><td>0.00000000</td><td>0.000000000</td></tr>\n",
       "\t<tr><td>15</td><td>16</td><td> 14</td><td> 126</td><td> 1</td><td> 14</td><td> 0</td><td> 2</td><td>16-Mar</td><td> 125</td><td>0.00000000</td><td>0.00000000</td><td>0.000000000</td></tr>\n",
       "\t<tr><td>16</td><td>17</td><td> 20</td><td> 146</td><td> 1</td><td> 15</td><td> 1</td><td> 3</td><td>17-Mar</td><td> 144</td><td>0.05000000</td><td>1.00000000</td><td>0.006944444</td></tr>\n",
       "\t<tr><td>17</td><td>18</td><td> 25</td><td> 171</td><td> 0</td><td> 15</td><td> 0</td><td> 3</td><td>18-Mar</td><td> 171</td><td>0.00000000</td><td>0.00000000</td><td>0.000000000</td></tr>\n",
       "\t<tr><td>18</td><td>19</td><td> 27</td><td> 198</td><td> 5</td><td> 20</td><td> 1</td><td> 4</td><td>19-Mar</td><td> 192</td><td>0.03703704</td><td>0.20000000</td><td>0.005208333</td></tr>\n",
       "\t<tr><td>19</td><td>20</td><td> 58</td><td> 256</td><td> 3</td><td> 23</td><td> 0</td><td> 4</td><td>20-Mar</td><td> 253</td><td>0.00000000</td><td>0.00000000</td><td>0.000000000</td></tr>\n",
       "\t<tr><td>20</td><td>21</td><td> 78</td><td> 334</td><td> 0</td><td> 23</td><td> 0</td><td> 4</td><td>21-Mar</td><td> 334</td><td>0.00000000</td><td>0.00000000</td><td>0.000000000</td></tr>\n",
       "\t<tr><td>21</td><td>22</td><td> 69</td><td> 403</td><td> 0</td><td> 23</td><td> 3</td><td> 7</td><td>22-Mar</td><td> 400</td><td>0.04347826</td><td>1.00000000</td><td>0.007500000</td></tr>\n",
       "\t<tr><td>22</td><td>23</td><td> 94</td><td> 497</td><td> 2</td><td> 25</td><td> 2</td><td> 9</td><td>23-Mar</td><td> 493</td><td>0.02127660</td><td>1.00000000</td><td>0.004056795</td></tr>\n",
       "\t<tr><td>23</td><td>24</td><td> 74</td><td> 571</td><td>15</td><td> 40</td><td> 1</td><td>10</td><td>24-Mar</td><td> 555</td><td>0.01351351</td><td>0.06666667</td><td>0.001801802</td></tr>\n",
       "\t<tr><td>24</td><td>25</td><td> 86</td><td> 657</td><td> 3</td><td> 43</td><td> 1</td><td>11</td><td>25-Mar</td><td> 653</td><td>0.01162791</td><td>0.33333333</td><td>0.001531394</td></tr>\n",
       "\t<tr><td>25</td><td>26</td><td> 73</td><td> 730</td><td> 7</td><td> 50</td><td> 5</td><td>16</td><td>26-Mar</td><td> 718</td><td>0.06849315</td><td>0.71428571</td><td>0.006963788</td></tr>\n",
       "\t<tr><td>26</td><td>27</td><td>153</td><td> 883</td><td>25</td><td> 75</td><td> 3</td><td>19</td><td>27-Mar</td><td> 855</td><td>0.01960784</td><td>0.12000000</td><td>0.003508772</td></tr>\n",
       "\t<tr><td>27</td><td>28</td><td>136</td><td>1019</td><td>10</td><td> 85</td><td> 5</td><td>24</td><td>28-Mar</td><td>1004</td><td>0.03676471</td><td>0.50000000</td><td>0.004980080</td></tr>\n",
       "\t<tr><td>28</td><td>29</td><td>120</td><td>1139</td><td>17</td><td>102</td><td> 3</td><td>27</td><td>29-Mar</td><td>1119</td><td>0.02500000</td><td>0.17647059</td><td>0.002680965</td></tr>\n",
       "\t<tr><td>29</td><td>30</td><td>187</td><td>1326</td><td>35</td><td>137</td><td>14</td><td>41</td><td>30-Mar</td><td>1277</td><td>0.07486631</td><td>0.40000000</td><td>0.010963195</td></tr>\n",
       "\t<tr><td>...</td><td>...</td><td>...</td><td>...</td><td>...</td><td>...</td><td>...</td><td>...</td><td>...</td><td>...</td><td>...</td><td>...</td><td>...</td></tr>\n",
       "\t<tr><td>177</td><td>178</td><td>66873</td><td>3231768</td><td> 64151</td><td>2467245</td><td>1066</td><td>59624</td><td>25-Aug</td><td>3166551</td><td>0.01594066</td><td>0.01661704</td><td>0.0003366439</td></tr>\n",
       "\t<tr><td>178</td><td>179</td><td>75995</td><td>3307763</td><td> 56191</td><td>2523436</td><td>1017</td><td>60641</td><td>26-Aug</td><td>3250555</td><td>0.01338246</td><td>0.01809898</td><td>0.0003128696</td></tr>\n",
       "\t<tr><td>179</td><td>180</td><td>76827</td><td>3384590</td><td> 59620</td><td>2583056</td><td>1066</td><td>61707</td><td>27-Aug</td><td>3323904</td><td>0.01387533</td><td>0.01787991</td><td>0.0003207072</td></tr>\n",
       "\t<tr><td>180</td><td>181</td><td>76657</td><td>3461247</td><td> 64475</td><td>2647531</td><td>1019</td><td>62726</td><td>28-Aug</td><td>3395753</td><td>0.01329298</td><td>0.01580458</td><td>0.0003000807</td></tr>\n",
       "\t<tr><td>181</td><td>182</td><td>78479</td><td>3539726</td><td> 64982</td><td>2712513</td><td> 943</td><td>63669</td><td>29-Aug</td><td>3473801</td><td>0.01201595</td><td>0.01451171</td><td>0.0002714606</td></tr>\n",
       "\t<tr><td>182</td><td>183</td><td>79461</td><td>3619187</td><td> 60422</td><td>2772935</td><td> 960</td><td>64629</td><td>30-Aug</td><td>3557805</td><td>0.01208140</td><td>0.01588825</td><td>0.0002698293</td></tr>\n",
       "\t<tr><td>183</td><td>184</td><td>68766</td><td>3687953</td><td> 64435</td><td>2837370</td><td> 816</td><td>65445</td><td>31-Aug</td><td>3622702</td><td>0.01186633</td><td>0.01266392</td><td>0.0002252462</td></tr>\n",
       "\t<tr><td>184</td><td>185</td><td>78168</td><td>3766121</td><td> 62145</td><td>2899515</td><td> 892</td><td>66337</td><td>1-Sep </td><td>3703084</td><td>0.01141132</td><td>0.01435353</td><td>0.0002408803</td></tr>\n",
       "\t<tr><td>185</td><td>186</td><td>82860</td><td>3848981</td><td> 67874</td><td>2967389</td><td> 913</td><td>67250</td><td>2-Sep </td><td>3780194</td><td>0.01101859</td><td>0.01345140</td><td>0.0002415220</td></tr>\n",
       "\t<tr><td>186</td><td>187</td><td>84156</td><td>3933137</td><td> 67491</td><td>3034880</td><td> 979</td><td>68229</td><td>3-Sep </td><td>3864667</td><td>0.01163316</td><td>0.01450564</td><td>0.0002533207</td></tr>\n",
       "\t<tr><td>187</td><td>188</td><td>87115</td><td>4020252</td><td> 69625</td><td>3104505</td><td> 950</td><td>69179</td><td>4-Sep </td><td>3949677</td><td>0.01090513</td><td>0.01364452</td><td>0.0002405260</td></tr>\n",
       "\t<tr><td>188</td><td>189</td><td>90600</td><td>4110852</td><td> 73161</td><td>3177666</td><td> 916</td><td>70095</td><td>5-Sep </td><td>4036775</td><td>0.01011038</td><td>0.01252033</td><td>0.0002269138</td></tr>\n",
       "\t<tr><td>189</td><td>190</td><td>91725</td><td>4202577</td><td> 69630</td><td>3247296</td><td>1005</td><td>71100</td><td>6-Sep </td><td>4131942</td><td>0.01095666</td><td>0.01443343</td><td>0.0002432270</td></tr>\n",
       "\t<tr><td>190</td><td>191</td><td>75015</td><td>4277592</td><td> 74116</td><td>3321412</td><td>1129</td><td>72229</td><td>7-Sep </td><td>4202347</td><td>0.01505032</td><td>0.01523288</td><td>0.0002686594</td></tr>\n",
       "\t<tr><td>191</td><td>192</td><td>89855</td><td>4367447</td><td> 74608</td><td>3396020</td><td>1107</td><td>73336</td><td>8-Sep </td><td>4291732</td><td>0.01231985</td><td>0.01483755</td><td>0.0002579378</td></tr>\n",
       "\t<tr><td>192</td><td>193</td><td>95536</td><td>4462983</td><td> 73062</td><td>3469082</td><td>1168</td><td>74504</td><td>9-Sep </td><td>4388753</td><td>0.01222576</td><td>0.01598642</td><td>0.0002661348</td></tr>\n",
       "\t<tr><td>193</td><td>194</td><td>96762</td><td>4559745</td><td> 70904</td><td>3539986</td><td>1213</td><td>75717</td><td>10-Sep</td><td>4487628</td><td>0.01253591</td><td>0.01710764</td><td>0.0002702987</td></tr>\n",
       "\t<tr><td>194</td><td>195</td><td>97655</td><td>4657400</td><td> 81456</td><td>3621442</td><td>1202</td><td>76919</td><td>11-Sep</td><td>4574742</td><td>0.01230864</td><td>0.01475643</td><td>0.0002627471</td></tr>\n",
       "\t<tr><td>195</td><td>196</td><td>94414</td><td>4751814</td><td> 77862</td><td>3699304</td><td>1111</td><td>78030</td><td>12-Sep</td><td>4672841</td><td>0.01176732</td><td>0.01426883</td><td>0.0002377569</td></tr>\n",
       "\t<tr><td>196</td><td>197</td><td>93220</td><td>4845034</td><td> 77748</td><td>3777052</td><td>1140</td><td>79170</td><td>13-Sep</td><td>4766146</td><td>0.01222914</td><td>0.01466276</td><td>0.0002391870</td></tr>\n",
       "\t<tr><td>197</td><td>198</td><td>81913</td><td>4926947</td><td> 79213</td><td>3856265</td><td>1054</td><td>80224</td><td>14-Sep</td><td>4846680</td><td>0.01286731</td><td>0.01330590</td><td>0.0002174685</td></tr>\n",
       "\t<tr><td>198</td><td>199</td><td>91098</td><td>5018045</td><td> 82849</td><td>3939114</td><td>1281</td><td>81505</td><td>15-Sep</td><td>4933915</td><td>0.01406178</td><td>0.01546186</td><td>0.0002596316</td></tr>\n",
       "\t<tr><td>199</td><td>200</td><td>97860</td><td>5115905</td><td> 82924</td><td>4022038</td><td>1140</td><td>82645</td><td>16-Sep</td><td>5031841</td><td>0.01164929</td><td>0.01374753</td><td>0.0002265572</td></tr>\n",
       "\t<tr><td>200</td><td>201</td><td>96787</td><td>5212692</td><td> 87788</td><td>4109826</td><td>1175</td><td>83820</td><td>17-Sep</td><td>5123729</td><td>0.01214006</td><td>0.01338452</td><td>0.0002293252</td></tr>\n",
       "\t<tr><td>201</td><td>202</td><td>92973</td><td>5305665</td><td> 95515</td><td>4205341</td><td>1221</td><td>85041</td><td>18-Sep</td><td>5208929</td><td>0.01313285</td><td>0.01278333</td><td>0.0002344052</td></tr>\n",
       "\t<tr><td>202</td><td>203</td><td>92574</td><td>5398239</td><td> 94389</td><td>4299730</td><td>1149</td><td>86190</td><td>19-Sep</td><td>5302701</td><td>0.01241169</td><td>0.01217303</td><td>0.0002166820</td></tr>\n",
       "\t<tr><td>203</td><td>204</td><td>87395</td><td>5485634</td><td> 92926</td><td>4392656</td><td>1135</td><td>87325</td><td>20-Sep</td><td>5391573</td><td>0.01298701</td><td>0.01221402</td><td>0.0002105137</td></tr>\n",
       "\t<tr><td>204</td><td>205</td><td>74493</td><td>5560127</td><td>102070</td><td>4494726</td><td>1056</td><td>88381</td><td>21-Sep</td><td>5457001</td><td>0.01417583</td><td>0.01034584</td><td>0.0001935129</td></tr>\n",
       "\t<tr><td>205</td><td>206</td><td>83361</td><td>5643488</td><td> 89653</td><td>4584379</td><td>1085</td><td>89466</td><td>22-Sep</td><td>5552750</td><td>0.01301568</td><td>0.01210222</td><td>0.0001953987</td></tr>\n",
       "\t<tr><td>206</td><td>207</td><td>86703</td><td>5730191</td><td> 87458</td><td>4671837</td><td>1123</td><td>90589</td><td>23-Sep</td><td>5641610</td><td>0.01295226</td><td>0.01284045</td><td>0.0001990567</td></tr>\n",
       "</tbody>\n",
       "</table>\n"
      ],
      "text/latex": [
       "A data.frame: 207 × 13\n",
       "\\begin{tabular}{lllllllllllll}\n",
       " index & Day & Daily.Count & Total.Confirmed & Daily.Recovered & Total.Recovered & Daily.Deceased & Total.Deceased & Date & Daily.Active & Daily.Deceased/Daily.Count & Daily.Deceased/Daily.Recovered & Daily.Deceased/Daily.Active\\\\\n",
       " <int> & <int> & <int> & <int> & <int> & <int> & <dbl> & <int> & <fct> & <int> & <dbl> & <dbl> & <dbl>\\\\\n",
       "\\hline\n",
       "\t  0 &  1 &   0 &    3 &  0 &   3 &  0 &  0 & 1-Mar  &    3 &        NaN & 0.00000000 & 0.000000000\\\\\n",
       "\t  1 &  2 &   2 &    5 &  0 &   3 &  0 &  0 & 2-Mar  &    5 & 0.00000000 & 0.00000000 & 0.000000000\\\\\n",
       "\t  2 &  3 &   1 &    6 &  0 &   3 &  0 &  0 & 3-Mar  &    6 & 0.00000000 & 0.00000000 & 0.000000000\\\\\n",
       "\t  3 &  4 &  22 &   28 &  0 &   3 &  0 &  0 & 4-Mar  &   28 & 0.00000000 & 0.00000000 & 0.000000000\\\\\n",
       "\t  4 &  5 &   2 &   30 &  0 &   3 &  0 &  0 & 5-Mar  &   30 & 0.00000000 & 0.00000000 & 0.000000000\\\\\n",
       "\t  5 &  6 &   1 &   31 &  0 &   3 &  0 &  0 & 6-Mar  &   31 & 0.00000000 & 0.00000000 & 0.000000000\\\\\n",
       "\t  6 &  7 &   3 &   34 &  0 &   3 &  0 &  0 & 7-Mar  &   34 & 0.00000000 & 0.00000000 & 0.000000000\\\\\n",
       "\t  7 &  8 &   5 &   39 &  0 &   3 &  0 &  0 & 8-Mar  &   39 & 0.00000000 & 0.00000000 & 0.000000000\\\\\n",
       "\t  8 &  9 &   9 &   48 &  0 &   3 &  0 &  0 & 9-Mar  &   48 & 0.00000000 & 0.00000000 & 0.000000000\\\\\n",
       "\t  9 & 10 &  15 &   63 &  1 &   4 &  0 &  0 & 10-Mar &   62 & 0.00000000 & 0.00000000 & 0.000000000\\\\\n",
       "\t 10 & 11 &   8 &   71 &  0 &   4 &  0 &  0 & 11-Mar &   71 & 0.00000000 & 0.00000000 & 0.000000000\\\\\n",
       "\t 11 & 12 &  10 &   81 &  0 &   4 &  1 &  1 & 12-Mar &   80 & 0.10000000 & 1.00000000 & 0.012500000\\\\\n",
       "\t 12 & 13 &  10 &   91 &  6 &  10 &  0 &  1 & 13-Mar &   85 & 0.00000000 & 0.00000000 & 0.000000000\\\\\n",
       "\t 13 & 14 &  11 &  102 &  0 &  10 &  1 &  2 & 14-Mar &  101 & 0.09090909 & 1.00000000 & 0.009900990\\\\\n",
       "\t 14 & 15 &  10 &  112 &  3 &  13 &  0 &  2 & 15-Mar &  109 & 0.00000000 & 0.00000000 & 0.000000000\\\\\n",
       "\t 15 & 16 &  14 &  126 &  1 &  14 &  0 &  2 & 16-Mar &  125 & 0.00000000 & 0.00000000 & 0.000000000\\\\\n",
       "\t 16 & 17 &  20 &  146 &  1 &  15 &  1 &  3 & 17-Mar &  144 & 0.05000000 & 1.00000000 & 0.006944444\\\\\n",
       "\t 17 & 18 &  25 &  171 &  0 &  15 &  0 &  3 & 18-Mar &  171 & 0.00000000 & 0.00000000 & 0.000000000\\\\\n",
       "\t 18 & 19 &  27 &  198 &  5 &  20 &  1 &  4 & 19-Mar &  192 & 0.03703704 & 0.20000000 & 0.005208333\\\\\n",
       "\t 19 & 20 &  58 &  256 &  3 &  23 &  0 &  4 & 20-Mar &  253 & 0.00000000 & 0.00000000 & 0.000000000\\\\\n",
       "\t 20 & 21 &  78 &  334 &  0 &  23 &  0 &  4 & 21-Mar &  334 & 0.00000000 & 0.00000000 & 0.000000000\\\\\n",
       "\t 21 & 22 &  69 &  403 &  0 &  23 &  3 &  7 & 22-Mar &  400 & 0.04347826 & 1.00000000 & 0.007500000\\\\\n",
       "\t 22 & 23 &  94 &  497 &  2 &  25 &  2 &  9 & 23-Mar &  493 & 0.02127660 & 1.00000000 & 0.004056795\\\\\n",
       "\t 23 & 24 &  74 &  571 & 15 &  40 &  1 & 10 & 24-Mar &  555 & 0.01351351 & 0.06666667 & 0.001801802\\\\\n",
       "\t 24 & 25 &  86 &  657 &  3 &  43 &  1 & 11 & 25-Mar &  653 & 0.01162791 & 0.33333333 & 0.001531394\\\\\n",
       "\t 25 & 26 &  73 &  730 &  7 &  50 &  5 & 16 & 26-Mar &  718 & 0.06849315 & 0.71428571 & 0.006963788\\\\\n",
       "\t 26 & 27 & 153 &  883 & 25 &  75 &  3 & 19 & 27-Mar &  855 & 0.01960784 & 0.12000000 & 0.003508772\\\\\n",
       "\t 27 & 28 & 136 & 1019 & 10 &  85 &  5 & 24 & 28-Mar & 1004 & 0.03676471 & 0.50000000 & 0.004980080\\\\\n",
       "\t 28 & 29 & 120 & 1139 & 17 & 102 &  3 & 27 & 29-Mar & 1119 & 0.02500000 & 0.17647059 & 0.002680965\\\\\n",
       "\t 29 & 30 & 187 & 1326 & 35 & 137 & 14 & 41 & 30-Mar & 1277 & 0.07486631 & 0.40000000 & 0.010963195\\\\\n",
       "\t ... & ... & ... & ... & ... & ... & ... & ... & ... & ... & ... & ... & ...\\\\\n",
       "\t 177 & 178 & 66873 & 3231768 &  64151 & 2467245 & 1066 & 59624 & 25-Aug & 3166551 & 0.01594066 & 0.01661704 & 0.0003366439\\\\\n",
       "\t 178 & 179 & 75995 & 3307763 &  56191 & 2523436 & 1017 & 60641 & 26-Aug & 3250555 & 0.01338246 & 0.01809898 & 0.0003128696\\\\\n",
       "\t 179 & 180 & 76827 & 3384590 &  59620 & 2583056 & 1066 & 61707 & 27-Aug & 3323904 & 0.01387533 & 0.01787991 & 0.0003207072\\\\\n",
       "\t 180 & 181 & 76657 & 3461247 &  64475 & 2647531 & 1019 & 62726 & 28-Aug & 3395753 & 0.01329298 & 0.01580458 & 0.0003000807\\\\\n",
       "\t 181 & 182 & 78479 & 3539726 &  64982 & 2712513 &  943 & 63669 & 29-Aug & 3473801 & 0.01201595 & 0.01451171 & 0.0002714606\\\\\n",
       "\t 182 & 183 & 79461 & 3619187 &  60422 & 2772935 &  960 & 64629 & 30-Aug & 3557805 & 0.01208140 & 0.01588825 & 0.0002698293\\\\\n",
       "\t 183 & 184 & 68766 & 3687953 &  64435 & 2837370 &  816 & 65445 & 31-Aug & 3622702 & 0.01186633 & 0.01266392 & 0.0002252462\\\\\n",
       "\t 184 & 185 & 78168 & 3766121 &  62145 & 2899515 &  892 & 66337 & 1-Sep  & 3703084 & 0.01141132 & 0.01435353 & 0.0002408803\\\\\n",
       "\t 185 & 186 & 82860 & 3848981 &  67874 & 2967389 &  913 & 67250 & 2-Sep  & 3780194 & 0.01101859 & 0.01345140 & 0.0002415220\\\\\n",
       "\t 186 & 187 & 84156 & 3933137 &  67491 & 3034880 &  979 & 68229 & 3-Sep  & 3864667 & 0.01163316 & 0.01450564 & 0.0002533207\\\\\n",
       "\t 187 & 188 & 87115 & 4020252 &  69625 & 3104505 &  950 & 69179 & 4-Sep  & 3949677 & 0.01090513 & 0.01364452 & 0.0002405260\\\\\n",
       "\t 188 & 189 & 90600 & 4110852 &  73161 & 3177666 &  916 & 70095 & 5-Sep  & 4036775 & 0.01011038 & 0.01252033 & 0.0002269138\\\\\n",
       "\t 189 & 190 & 91725 & 4202577 &  69630 & 3247296 & 1005 & 71100 & 6-Sep  & 4131942 & 0.01095666 & 0.01443343 & 0.0002432270\\\\\n",
       "\t 190 & 191 & 75015 & 4277592 &  74116 & 3321412 & 1129 & 72229 & 7-Sep  & 4202347 & 0.01505032 & 0.01523288 & 0.0002686594\\\\\n",
       "\t 191 & 192 & 89855 & 4367447 &  74608 & 3396020 & 1107 & 73336 & 8-Sep  & 4291732 & 0.01231985 & 0.01483755 & 0.0002579378\\\\\n",
       "\t 192 & 193 & 95536 & 4462983 &  73062 & 3469082 & 1168 & 74504 & 9-Sep  & 4388753 & 0.01222576 & 0.01598642 & 0.0002661348\\\\\n",
       "\t 193 & 194 & 96762 & 4559745 &  70904 & 3539986 & 1213 & 75717 & 10-Sep & 4487628 & 0.01253591 & 0.01710764 & 0.0002702987\\\\\n",
       "\t 194 & 195 & 97655 & 4657400 &  81456 & 3621442 & 1202 & 76919 & 11-Sep & 4574742 & 0.01230864 & 0.01475643 & 0.0002627471\\\\\n",
       "\t 195 & 196 & 94414 & 4751814 &  77862 & 3699304 & 1111 & 78030 & 12-Sep & 4672841 & 0.01176732 & 0.01426883 & 0.0002377569\\\\\n",
       "\t 196 & 197 & 93220 & 4845034 &  77748 & 3777052 & 1140 & 79170 & 13-Sep & 4766146 & 0.01222914 & 0.01466276 & 0.0002391870\\\\\n",
       "\t 197 & 198 & 81913 & 4926947 &  79213 & 3856265 & 1054 & 80224 & 14-Sep & 4846680 & 0.01286731 & 0.01330590 & 0.0002174685\\\\\n",
       "\t 198 & 199 & 91098 & 5018045 &  82849 & 3939114 & 1281 & 81505 & 15-Sep & 4933915 & 0.01406178 & 0.01546186 & 0.0002596316\\\\\n",
       "\t 199 & 200 & 97860 & 5115905 &  82924 & 4022038 & 1140 & 82645 & 16-Sep & 5031841 & 0.01164929 & 0.01374753 & 0.0002265572\\\\\n",
       "\t 200 & 201 & 96787 & 5212692 &  87788 & 4109826 & 1175 & 83820 & 17-Sep & 5123729 & 0.01214006 & 0.01338452 & 0.0002293252\\\\\n",
       "\t 201 & 202 & 92973 & 5305665 &  95515 & 4205341 & 1221 & 85041 & 18-Sep & 5208929 & 0.01313285 & 0.01278333 & 0.0002344052\\\\\n",
       "\t 202 & 203 & 92574 & 5398239 &  94389 & 4299730 & 1149 & 86190 & 19-Sep & 5302701 & 0.01241169 & 0.01217303 & 0.0002166820\\\\\n",
       "\t 203 & 204 & 87395 & 5485634 &  92926 & 4392656 & 1135 & 87325 & 20-Sep & 5391573 & 0.01298701 & 0.01221402 & 0.0002105137\\\\\n",
       "\t 204 & 205 & 74493 & 5560127 & 102070 & 4494726 & 1056 & 88381 & 21-Sep & 5457001 & 0.01417583 & 0.01034584 & 0.0001935129\\\\\n",
       "\t 205 & 206 & 83361 & 5643488 &  89653 & 4584379 & 1085 & 89466 & 22-Sep & 5552750 & 0.01301568 & 0.01210222 & 0.0001953987\\\\\n",
       "\t 206 & 207 & 86703 & 5730191 &  87458 & 4671837 & 1123 & 90589 & 23-Sep & 5641610 & 0.01295226 & 0.01284045 & 0.0001990567\\\\\n",
       "\\end{tabular}\n"
      ],
      "text/markdown": [
       "\n",
       "A data.frame: 207 × 13\n",
       "\n",
       "| index &lt;int&gt; | Day &lt;int&gt; | Daily.Count &lt;int&gt; | Total.Confirmed &lt;int&gt; | Daily.Recovered &lt;int&gt; | Total.Recovered &lt;int&gt; | Daily.Deceased &lt;dbl&gt; | Total.Deceased &lt;int&gt; | Date &lt;fct&gt; | Daily.Active &lt;int&gt; | Daily.Deceased/Daily.Count &lt;dbl&gt; | Daily.Deceased/Daily.Recovered &lt;dbl&gt; | Daily.Deceased/Daily.Active &lt;dbl&gt; |\n",
       "|---|---|---|---|---|---|---|---|---|---|---|---|---|\n",
       "|  0 |  1 |   0 |    3 |  0 |   3 |  0 |  0 | 1-Mar  |    3 |        NaN | 0.00000000 | 0.000000000 |\n",
       "|  1 |  2 |   2 |    5 |  0 |   3 |  0 |  0 | 2-Mar  |    5 | 0.00000000 | 0.00000000 | 0.000000000 |\n",
       "|  2 |  3 |   1 |    6 |  0 |   3 |  0 |  0 | 3-Mar  |    6 | 0.00000000 | 0.00000000 | 0.000000000 |\n",
       "|  3 |  4 |  22 |   28 |  0 |   3 |  0 |  0 | 4-Mar  |   28 | 0.00000000 | 0.00000000 | 0.000000000 |\n",
       "|  4 |  5 |   2 |   30 |  0 |   3 |  0 |  0 | 5-Mar  |   30 | 0.00000000 | 0.00000000 | 0.000000000 |\n",
       "|  5 |  6 |   1 |   31 |  0 |   3 |  0 |  0 | 6-Mar  |   31 | 0.00000000 | 0.00000000 | 0.000000000 |\n",
       "|  6 |  7 |   3 |   34 |  0 |   3 |  0 |  0 | 7-Mar  |   34 | 0.00000000 | 0.00000000 | 0.000000000 |\n",
       "|  7 |  8 |   5 |   39 |  0 |   3 |  0 |  0 | 8-Mar  |   39 | 0.00000000 | 0.00000000 | 0.000000000 |\n",
       "|  8 |  9 |   9 |   48 |  0 |   3 |  0 |  0 | 9-Mar  |   48 | 0.00000000 | 0.00000000 | 0.000000000 |\n",
       "|  9 | 10 |  15 |   63 |  1 |   4 |  0 |  0 | 10-Mar |   62 | 0.00000000 | 0.00000000 | 0.000000000 |\n",
       "| 10 | 11 |   8 |   71 |  0 |   4 |  0 |  0 | 11-Mar |   71 | 0.00000000 | 0.00000000 | 0.000000000 |\n",
       "| 11 | 12 |  10 |   81 |  0 |   4 |  1 |  1 | 12-Mar |   80 | 0.10000000 | 1.00000000 | 0.012500000 |\n",
       "| 12 | 13 |  10 |   91 |  6 |  10 |  0 |  1 | 13-Mar |   85 | 0.00000000 | 0.00000000 | 0.000000000 |\n",
       "| 13 | 14 |  11 |  102 |  0 |  10 |  1 |  2 | 14-Mar |  101 | 0.09090909 | 1.00000000 | 0.009900990 |\n",
       "| 14 | 15 |  10 |  112 |  3 |  13 |  0 |  2 | 15-Mar |  109 | 0.00000000 | 0.00000000 | 0.000000000 |\n",
       "| 15 | 16 |  14 |  126 |  1 |  14 |  0 |  2 | 16-Mar |  125 | 0.00000000 | 0.00000000 | 0.000000000 |\n",
       "| 16 | 17 |  20 |  146 |  1 |  15 |  1 |  3 | 17-Mar |  144 | 0.05000000 | 1.00000000 | 0.006944444 |\n",
       "| 17 | 18 |  25 |  171 |  0 |  15 |  0 |  3 | 18-Mar |  171 | 0.00000000 | 0.00000000 | 0.000000000 |\n",
       "| 18 | 19 |  27 |  198 |  5 |  20 |  1 |  4 | 19-Mar |  192 | 0.03703704 | 0.20000000 | 0.005208333 |\n",
       "| 19 | 20 |  58 |  256 |  3 |  23 |  0 |  4 | 20-Mar |  253 | 0.00000000 | 0.00000000 | 0.000000000 |\n",
       "| 20 | 21 |  78 |  334 |  0 |  23 |  0 |  4 | 21-Mar |  334 | 0.00000000 | 0.00000000 | 0.000000000 |\n",
       "| 21 | 22 |  69 |  403 |  0 |  23 |  3 |  7 | 22-Mar |  400 | 0.04347826 | 1.00000000 | 0.007500000 |\n",
       "| 22 | 23 |  94 |  497 |  2 |  25 |  2 |  9 | 23-Mar |  493 | 0.02127660 | 1.00000000 | 0.004056795 |\n",
       "| 23 | 24 |  74 |  571 | 15 |  40 |  1 | 10 | 24-Mar |  555 | 0.01351351 | 0.06666667 | 0.001801802 |\n",
       "| 24 | 25 |  86 |  657 |  3 |  43 |  1 | 11 | 25-Mar |  653 | 0.01162791 | 0.33333333 | 0.001531394 |\n",
       "| 25 | 26 |  73 |  730 |  7 |  50 |  5 | 16 | 26-Mar |  718 | 0.06849315 | 0.71428571 | 0.006963788 |\n",
       "| 26 | 27 | 153 |  883 | 25 |  75 |  3 | 19 | 27-Mar |  855 | 0.01960784 | 0.12000000 | 0.003508772 |\n",
       "| 27 | 28 | 136 | 1019 | 10 |  85 |  5 | 24 | 28-Mar | 1004 | 0.03676471 | 0.50000000 | 0.004980080 |\n",
       "| 28 | 29 | 120 | 1139 | 17 | 102 |  3 | 27 | 29-Mar | 1119 | 0.02500000 | 0.17647059 | 0.002680965 |\n",
       "| 29 | 30 | 187 | 1326 | 35 | 137 | 14 | 41 | 30-Mar | 1277 | 0.07486631 | 0.40000000 | 0.010963195 |\n",
       "| ... | ... | ... | ... | ... | ... | ... | ... | ... | ... | ... | ... | ... |\n",
       "| 177 | 178 | 66873 | 3231768 |  64151 | 2467245 | 1066 | 59624 | 25-Aug | 3166551 | 0.01594066 | 0.01661704 | 0.0003366439 |\n",
       "| 178 | 179 | 75995 | 3307763 |  56191 | 2523436 | 1017 | 60641 | 26-Aug | 3250555 | 0.01338246 | 0.01809898 | 0.0003128696 |\n",
       "| 179 | 180 | 76827 | 3384590 |  59620 | 2583056 | 1066 | 61707 | 27-Aug | 3323904 | 0.01387533 | 0.01787991 | 0.0003207072 |\n",
       "| 180 | 181 | 76657 | 3461247 |  64475 | 2647531 | 1019 | 62726 | 28-Aug | 3395753 | 0.01329298 | 0.01580458 | 0.0003000807 |\n",
       "| 181 | 182 | 78479 | 3539726 |  64982 | 2712513 |  943 | 63669 | 29-Aug | 3473801 | 0.01201595 | 0.01451171 | 0.0002714606 |\n",
       "| 182 | 183 | 79461 | 3619187 |  60422 | 2772935 |  960 | 64629 | 30-Aug | 3557805 | 0.01208140 | 0.01588825 | 0.0002698293 |\n",
       "| 183 | 184 | 68766 | 3687953 |  64435 | 2837370 |  816 | 65445 | 31-Aug | 3622702 | 0.01186633 | 0.01266392 | 0.0002252462 |\n",
       "| 184 | 185 | 78168 | 3766121 |  62145 | 2899515 |  892 | 66337 | 1-Sep  | 3703084 | 0.01141132 | 0.01435353 | 0.0002408803 |\n",
       "| 185 | 186 | 82860 | 3848981 |  67874 | 2967389 |  913 | 67250 | 2-Sep  | 3780194 | 0.01101859 | 0.01345140 | 0.0002415220 |\n",
       "| 186 | 187 | 84156 | 3933137 |  67491 | 3034880 |  979 | 68229 | 3-Sep  | 3864667 | 0.01163316 | 0.01450564 | 0.0002533207 |\n",
       "| 187 | 188 | 87115 | 4020252 |  69625 | 3104505 |  950 | 69179 | 4-Sep  | 3949677 | 0.01090513 | 0.01364452 | 0.0002405260 |\n",
       "| 188 | 189 | 90600 | 4110852 |  73161 | 3177666 |  916 | 70095 | 5-Sep  | 4036775 | 0.01011038 | 0.01252033 | 0.0002269138 |\n",
       "| 189 | 190 | 91725 | 4202577 |  69630 | 3247296 | 1005 | 71100 | 6-Sep  | 4131942 | 0.01095666 | 0.01443343 | 0.0002432270 |\n",
       "| 190 | 191 | 75015 | 4277592 |  74116 | 3321412 | 1129 | 72229 | 7-Sep  | 4202347 | 0.01505032 | 0.01523288 | 0.0002686594 |\n",
       "| 191 | 192 | 89855 | 4367447 |  74608 | 3396020 | 1107 | 73336 | 8-Sep  | 4291732 | 0.01231985 | 0.01483755 | 0.0002579378 |\n",
       "| 192 | 193 | 95536 | 4462983 |  73062 | 3469082 | 1168 | 74504 | 9-Sep  | 4388753 | 0.01222576 | 0.01598642 | 0.0002661348 |\n",
       "| 193 | 194 | 96762 | 4559745 |  70904 | 3539986 | 1213 | 75717 | 10-Sep | 4487628 | 0.01253591 | 0.01710764 | 0.0002702987 |\n",
       "| 194 | 195 | 97655 | 4657400 |  81456 | 3621442 | 1202 | 76919 | 11-Sep | 4574742 | 0.01230864 | 0.01475643 | 0.0002627471 |\n",
       "| 195 | 196 | 94414 | 4751814 |  77862 | 3699304 | 1111 | 78030 | 12-Sep | 4672841 | 0.01176732 | 0.01426883 | 0.0002377569 |\n",
       "| 196 | 197 | 93220 | 4845034 |  77748 | 3777052 | 1140 | 79170 | 13-Sep | 4766146 | 0.01222914 | 0.01466276 | 0.0002391870 |\n",
       "| 197 | 198 | 81913 | 4926947 |  79213 | 3856265 | 1054 | 80224 | 14-Sep | 4846680 | 0.01286731 | 0.01330590 | 0.0002174685 |\n",
       "| 198 | 199 | 91098 | 5018045 |  82849 | 3939114 | 1281 | 81505 | 15-Sep | 4933915 | 0.01406178 | 0.01546186 | 0.0002596316 |\n",
       "| 199 | 200 | 97860 | 5115905 |  82924 | 4022038 | 1140 | 82645 | 16-Sep | 5031841 | 0.01164929 | 0.01374753 | 0.0002265572 |\n",
       "| 200 | 201 | 96787 | 5212692 |  87788 | 4109826 | 1175 | 83820 | 17-Sep | 5123729 | 0.01214006 | 0.01338452 | 0.0002293252 |\n",
       "| 201 | 202 | 92973 | 5305665 |  95515 | 4205341 | 1221 | 85041 | 18-Sep | 5208929 | 0.01313285 | 0.01278333 | 0.0002344052 |\n",
       "| 202 | 203 | 92574 | 5398239 |  94389 | 4299730 | 1149 | 86190 | 19-Sep | 5302701 | 0.01241169 | 0.01217303 | 0.0002166820 |\n",
       "| 203 | 204 | 87395 | 5485634 |  92926 | 4392656 | 1135 | 87325 | 20-Sep | 5391573 | 0.01298701 | 0.01221402 | 0.0002105137 |\n",
       "| 204 | 205 | 74493 | 5560127 | 102070 | 4494726 | 1056 | 88381 | 21-Sep | 5457001 | 0.01417583 | 0.01034584 | 0.0001935129 |\n",
       "| 205 | 206 | 83361 | 5643488 |  89653 | 4584379 | 1085 | 89466 | 22-Sep | 5552750 | 0.01301568 | 0.01210222 | 0.0001953987 |\n",
       "| 206 | 207 | 86703 | 5730191 |  87458 | 4671837 | 1123 | 90589 | 23-Sep | 5641610 | 0.01295226 | 0.01284045 | 0.0001990567 |\n",
       "\n"
      ],
      "text/plain": [
       "    index Day Daily.Count Total.Confirmed Daily.Recovered Total.Recovered\n",
       "1    0     1    0            3             0                3            \n",
       "2    1     2    2            5             0                3            \n",
       "3    2     3    1            6             0                3            \n",
       "4    3     4   22           28             0                3            \n",
       "5    4     5    2           30             0                3            \n",
       "6    5     6    1           31             0                3            \n",
       "7    6     7    3           34             0                3            \n",
       "8    7     8    5           39             0                3            \n",
       "9    8     9    9           48             0                3            \n",
       "10   9    10   15           63             1                4            \n",
       "11  10    11    8           71             0                4            \n",
       "12  11    12   10           81             0                4            \n",
       "13  12    13   10           91             6               10            \n",
       "14  13    14   11          102             0               10            \n",
       "15  14    15   10          112             3               13            \n",
       "16  15    16   14          126             1               14            \n",
       "17  16    17   20          146             1               15            \n",
       "18  17    18   25          171             0               15            \n",
       "19  18    19   27          198             5               20            \n",
       "20  19    20   58          256             3               23            \n",
       "21  20    21   78          334             0               23            \n",
       "22  21    22   69          403             0               23            \n",
       "23  22    23   94          497             2               25            \n",
       "24  23    24   74          571            15               40            \n",
       "25  24    25   86          657             3               43            \n",
       "26  25    26   73          730             7               50            \n",
       "27  26    27  153          883            25               75            \n",
       "28  27    28  136         1019            10               85            \n",
       "29  28    29  120         1139            17              102            \n",
       "30  29    30  187         1326            35              137            \n",
       "... ...   ... ...         ...             ...             ...            \n",
       "178 177   178 66873       3231768          64151          2467245        \n",
       "179 178   179 75995       3307763          56191          2523436        \n",
       "180 179   180 76827       3384590          59620          2583056        \n",
       "181 180   181 76657       3461247          64475          2647531        \n",
       "182 181   182 78479       3539726          64982          2712513        \n",
       "183 182   183 79461       3619187          60422          2772935        \n",
       "184 183   184 68766       3687953          64435          2837370        \n",
       "185 184   185 78168       3766121          62145          2899515        \n",
       "186 185   186 82860       3848981          67874          2967389        \n",
       "187 186   187 84156       3933137          67491          3034880        \n",
       "188 187   188 87115       4020252          69625          3104505        \n",
       "189 188   189 90600       4110852          73161          3177666        \n",
       "190 189   190 91725       4202577          69630          3247296        \n",
       "191 190   191 75015       4277592          74116          3321412        \n",
       "192 191   192 89855       4367447          74608          3396020        \n",
       "193 192   193 95536       4462983          73062          3469082        \n",
       "194 193   194 96762       4559745          70904          3539986        \n",
       "195 194   195 97655       4657400          81456          3621442        \n",
       "196 195   196 94414       4751814          77862          3699304        \n",
       "197 196   197 93220       4845034          77748          3777052        \n",
       "198 197   198 81913       4926947          79213          3856265        \n",
       "199 198   199 91098       5018045          82849          3939114        \n",
       "200 199   200 97860       5115905          82924          4022038        \n",
       "201 200   201 96787       5212692          87788          4109826        \n",
       "202 201   202 92973       5305665          95515          4205341        \n",
       "203 202   203 92574       5398239          94389          4299730        \n",
       "204 203   204 87395       5485634          92926          4392656        \n",
       "205 204   205 74493       5560127         102070          4494726        \n",
       "206 205   206 83361       5643488          89653          4584379        \n",
       "207 206   207 86703       5730191          87458          4671837        \n",
       "    Daily.Deceased Total.Deceased Date   Daily.Active\n",
       "1    0              0             1-Mar     3        \n",
       "2    0              0             2-Mar     5        \n",
       "3    0              0             3-Mar     6        \n",
       "4    0              0             4-Mar    28        \n",
       "5    0              0             5-Mar    30        \n",
       "6    0              0             6-Mar    31        \n",
       "7    0              0             7-Mar    34        \n",
       "8    0              0             8-Mar    39        \n",
       "9    0              0             9-Mar    48        \n",
       "10   0              0             10-Mar   62        \n",
       "11   0              0             11-Mar   71        \n",
       "12   1              1             12-Mar   80        \n",
       "13   0              1             13-Mar   85        \n",
       "14   1              2             14-Mar  101        \n",
       "15   0              2             15-Mar  109        \n",
       "16   0              2             16-Mar  125        \n",
       "17   1              3             17-Mar  144        \n",
       "18   0              3             18-Mar  171        \n",
       "19   1              4             19-Mar  192        \n",
       "20   0              4             20-Mar  253        \n",
       "21   0              4             21-Mar  334        \n",
       "22   3              7             22-Mar  400        \n",
       "23   2              9             23-Mar  493        \n",
       "24   1             10             24-Mar  555        \n",
       "25   1             11             25-Mar  653        \n",
       "26   5             16             26-Mar  718        \n",
       "27   3             19             27-Mar  855        \n",
       "28   5             24             28-Mar 1004        \n",
       "29   3             27             29-Mar 1119        \n",
       "30  14             41             30-Mar 1277        \n",
       "... ...            ...            ...    ...         \n",
       "178 1066           59624          25-Aug 3166551     \n",
       "179 1017           60641          26-Aug 3250555     \n",
       "180 1066           61707          27-Aug 3323904     \n",
       "181 1019           62726          28-Aug 3395753     \n",
       "182  943           63669          29-Aug 3473801     \n",
       "183  960           64629          30-Aug 3557805     \n",
       "184  816           65445          31-Aug 3622702     \n",
       "185  892           66337          1-Sep  3703084     \n",
       "186  913           67250          2-Sep  3780194     \n",
       "187  979           68229          3-Sep  3864667     \n",
       "188  950           69179          4-Sep  3949677     \n",
       "189  916           70095          5-Sep  4036775     \n",
       "190 1005           71100          6-Sep  4131942     \n",
       "191 1129           72229          7-Sep  4202347     \n",
       "192 1107           73336          8-Sep  4291732     \n",
       "193 1168           74504          9-Sep  4388753     \n",
       "194 1213           75717          10-Sep 4487628     \n",
       "195 1202           76919          11-Sep 4574742     \n",
       "196 1111           78030          12-Sep 4672841     \n",
       "197 1140           79170          13-Sep 4766146     \n",
       "198 1054           80224          14-Sep 4846680     \n",
       "199 1281           81505          15-Sep 4933915     \n",
       "200 1140           82645          16-Sep 5031841     \n",
       "201 1175           83820          17-Sep 5123729     \n",
       "202 1221           85041          18-Sep 5208929     \n",
       "203 1149           86190          19-Sep 5302701     \n",
       "204 1135           87325          20-Sep 5391573     \n",
       "205 1056           88381          21-Sep 5457001     \n",
       "206 1085           89466          22-Sep 5552750     \n",
       "207 1123           90589          23-Sep 5641610     \n",
       "    Daily.Deceased/Daily.Count Daily.Deceased/Daily.Recovered\n",
       "1          NaN                 0.00000000                    \n",
       "2   0.00000000                 0.00000000                    \n",
       "3   0.00000000                 0.00000000                    \n",
       "4   0.00000000                 0.00000000                    \n",
       "5   0.00000000                 0.00000000                    \n",
       "6   0.00000000                 0.00000000                    \n",
       "7   0.00000000                 0.00000000                    \n",
       "8   0.00000000                 0.00000000                    \n",
       "9   0.00000000                 0.00000000                    \n",
       "10  0.00000000                 0.00000000                    \n",
       "11  0.00000000                 0.00000000                    \n",
       "12  0.10000000                 1.00000000                    \n",
       "13  0.00000000                 0.00000000                    \n",
       "14  0.09090909                 1.00000000                    \n",
       "15  0.00000000                 0.00000000                    \n",
       "16  0.00000000                 0.00000000                    \n",
       "17  0.05000000                 1.00000000                    \n",
       "18  0.00000000                 0.00000000                    \n",
       "19  0.03703704                 0.20000000                    \n",
       "20  0.00000000                 0.00000000                    \n",
       "21  0.00000000                 0.00000000                    \n",
       "22  0.04347826                 1.00000000                    \n",
       "23  0.02127660                 1.00000000                    \n",
       "24  0.01351351                 0.06666667                    \n",
       "25  0.01162791                 0.33333333                    \n",
       "26  0.06849315                 0.71428571                    \n",
       "27  0.01960784                 0.12000000                    \n",
       "28  0.03676471                 0.50000000                    \n",
       "29  0.02500000                 0.17647059                    \n",
       "30  0.07486631                 0.40000000                    \n",
       "... ...                        ...                           \n",
       "178 0.01594066                 0.01661704                    \n",
       "179 0.01338246                 0.01809898                    \n",
       "180 0.01387533                 0.01787991                    \n",
       "181 0.01329298                 0.01580458                    \n",
       "182 0.01201595                 0.01451171                    \n",
       "183 0.01208140                 0.01588825                    \n",
       "184 0.01186633                 0.01266392                    \n",
       "185 0.01141132                 0.01435353                    \n",
       "186 0.01101859                 0.01345140                    \n",
       "187 0.01163316                 0.01450564                    \n",
       "188 0.01090513                 0.01364452                    \n",
       "189 0.01011038                 0.01252033                    \n",
       "190 0.01095666                 0.01443343                    \n",
       "191 0.01505032                 0.01523288                    \n",
       "192 0.01231985                 0.01483755                    \n",
       "193 0.01222576                 0.01598642                    \n",
       "194 0.01253591                 0.01710764                    \n",
       "195 0.01230864                 0.01475643                    \n",
       "196 0.01176732                 0.01426883                    \n",
       "197 0.01222914                 0.01466276                    \n",
       "198 0.01286731                 0.01330590                    \n",
       "199 0.01406178                 0.01546186                    \n",
       "200 0.01164929                 0.01374753                    \n",
       "201 0.01214006                 0.01338452                    \n",
       "202 0.01313285                 0.01278333                    \n",
       "203 0.01241169                 0.01217303                    \n",
       "204 0.01298701                 0.01221402                    \n",
       "205 0.01417583                 0.01034584                    \n",
       "206 0.01301568                 0.01210222                    \n",
       "207 0.01295226                 0.01284045                    \n",
       "    Daily.Deceased/Daily.Active\n",
       "1   0.000000000                \n",
       "2   0.000000000                \n",
       "3   0.000000000                \n",
       "4   0.000000000                \n",
       "5   0.000000000                \n",
       "6   0.000000000                \n",
       "7   0.000000000                \n",
       "8   0.000000000                \n",
       "9   0.000000000                \n",
       "10  0.000000000                \n",
       "11  0.000000000                \n",
       "12  0.012500000                \n",
       "13  0.000000000                \n",
       "14  0.009900990                \n",
       "15  0.000000000                \n",
       "16  0.000000000                \n",
       "17  0.006944444                \n",
       "18  0.000000000                \n",
       "19  0.005208333                \n",
       "20  0.000000000                \n",
       "21  0.000000000                \n",
       "22  0.007500000                \n",
       "23  0.004056795                \n",
       "24  0.001801802                \n",
       "25  0.001531394                \n",
       "26  0.006963788                \n",
       "27  0.003508772                \n",
       "28  0.004980080                \n",
       "29  0.002680965                \n",
       "30  0.010963195                \n",
       "... ...                        \n",
       "178 0.0003366439               \n",
       "179 0.0003128696               \n",
       "180 0.0003207072               \n",
       "181 0.0003000807               \n",
       "182 0.0002714606               \n",
       "183 0.0002698293               \n",
       "184 0.0002252462               \n",
       "185 0.0002408803               \n",
       "186 0.0002415220               \n",
       "187 0.0002533207               \n",
       "188 0.0002405260               \n",
       "189 0.0002269138               \n",
       "190 0.0002432270               \n",
       "191 0.0002686594               \n",
       "192 0.0002579378               \n",
       "193 0.0002661348               \n",
       "194 0.0002702987               \n",
       "195 0.0002627471               \n",
       "196 0.0002377569               \n",
       "197 0.0002391870               \n",
       "198 0.0002174685               \n",
       "199 0.0002596316               \n",
       "200 0.0002265572               \n",
       "201 0.0002293252               \n",
       "202 0.0002344052               \n",
       "203 0.0002166820               \n",
       "204 0.0002105137               \n",
       "205 0.0001935129               \n",
       "206 0.0001953987               \n",
       "207 0.0001990567               "
      ]
     },
     "metadata": {},
     "output_type": "display_data"
    }
   ],
   "source": [
    "df"
   ]
  },
  {
   "cell_type": "code",
   "execution_count": 33,
   "metadata": {},
   "outputs": [
    {
     "data": {
      "text/plain": [
       "     index            Day         Daily.Count    Total.Confirmed  \n",
       " Min.   :  0.0   Min.   :  1.0   Min.   :    0   Min.   :      3  \n",
       " 1st Qu.: 51.5   1st Qu.: 52.5   1st Qu.: 1472   1st Qu.:  20727  \n",
       " Median :103.0   Median :104.0   Median :11135   Median : 309599  \n",
       " Mean   :103.0   Mean   :104.0   Mean   :27682   Mean   :1155939  \n",
       " 3rd Qu.:154.5   3rd Qu.:155.5   3rd Qu.:53657   3rd Qu.:1830101  \n",
       " Max.   :206.0   Max.   :207.0   Max.   :97860   Max.   :5730191  \n",
       "                                                                  \n",
       " Daily.Recovered  Total.Recovered   Daily.Deceased   Total.Deceased \n",
       " Min.   :     0   Min.   :      3   Min.   :   0.0   Min.   :    0  \n",
       " 1st Qu.:   434   1st Qu.:   4173   1st Qu.:  43.0   1st Qu.:  664  \n",
       " Median :  7226   Median : 154235   Median : 312.0   Median : 8889  \n",
       " Mean   : 22569   Mean   : 841067   Mean   : 430.1   Mean   :22405  \n",
       " 3rd Qu.: 44327   3rd Qu.:1208796   3rd Qu.: 825.5   3rd Qu.:38583  \n",
       " Max.   :102070   Max.   :4671837   Max.   :1281.0   Max.   :90589  \n",
       "                                                                    \n",
       "      Date      Daily.Active     Daily.Deceased/Daily.Count\n",
       " 1-Apr  :  1   Min.   :      3   Min.   :0.00000           \n",
       " 1-Aug  :  1   1st Qu.:  20134   1st Qu.:0.01405           \n",
       " 1-Jul  :  1   Median : 301948   Median :0.02009           \n",
       " 1-Jun  :  1   Mean   :1132932   Mean   :0.02239           \n",
       " 1-Mar  :  1   3rd Qu.:1787606   3rd Qu.:0.02785           \n",
       " 1-May  :  1   Max.   :5641610   Max.   :0.10000           \n",
       " (Other):201                     NA's   :1                 \n",
       " Daily.Deceased/Daily.Recovered Daily.Deceased/Daily.Active\n",
       " Min.   :0.00000                Min.   :0.0000000          \n",
       " 1st Qu.:0.01653                1st Qu.:0.0003409          \n",
       " Median :0.03088                Median :0.0007638          \n",
       " Mean   :0.09388                Mean   :0.0014133          \n",
       " 3rd Qu.:0.06907                3rd Qu.:0.0017091          \n",
       " Max.   :1.00000                Max.   :0.0125000          \n",
       "                                                           "
      ]
     },
     "metadata": {},
     "output_type": "display_data"
    }
   ],
   "source": [
    "summary(df)"
   ]
  },
  {
   "cell_type": "code",
   "execution_count": 81,
   "metadata": {},
   "outputs": [],
   "source": [
    "write.csv(df,\"case_time_series_updated.csv\", row.names = FALSE)"
   ]
  },
  {
   "cell_type": "code",
   "execution_count": 34,
   "metadata": {},
   "outputs": [],
   "source": [
    "#linear model\n",
    "linear.model_dc <-lm(Daily.Count ~ index)"
   ]
  },
  {
   "cell_type": "code",
   "execution_count": 35,
   "metadata": {},
   "outputs": [
    {
     "data": {
      "text/plain": [
       "\n",
       "Call:\n",
       "lm(formula = Daily.Count ~ index)\n",
       "\n",
       "Residuals:\n",
       "   Min     1Q Median     3Q    Max \n",
       "-19098 -11384   -248   9473  26062 \n",
       "\n",
       "Coefficients:\n",
       "            Estimate Std. Error t value Pr(>|t|)    \n",
       "(Intercept) -22019.8     1727.0  -12.75   <2e-16 ***\n",
       "index          482.5       14.5   33.27   <2e-16 ***\n",
       "---\n",
       "Signif. codes:  0 '***' 0.001 '**' 0.01 '*' 0.05 '.' 0.1 ' ' 1\n",
       "\n",
       "Residual standard error: 12470 on 205 degrees of freedom\n",
       "Multiple R-squared:  0.8437,\tAdjusted R-squared:  0.843 \n",
       "F-statistic:  1107 on 1 and 205 DF,  p-value: < 2.2e-16\n"
      ]
     },
     "metadata": {},
     "output_type": "display_data"
    }
   ],
   "source": [
    "summary(linear.model_dc)"
   ]
  },
  {
   "cell_type": "code",
   "execution_count": 36,
   "metadata": {},
   "outputs": [
    {
     "data": {
      "image/png": "[encoded data removed]",
      "text/plain": [
       "plot without title"
      ]
     },
     "metadata": {
      "image/png": {
       "height": 420,
       "width": 420
      },
      "text/plain": {
       "height": 420,
       "width": 420
      }
     },
     "output_type": "display_data"
    }
   ],
   "source": [
    "plot(index, Daily.Count, pch=20, xlab = \"Day\",ylab = \"Daily.Count\", cex.lab = 1.3, col = \"#2eb8b3\" )\n",
    "\n",
    "abline(lm(Daily.Count ~ index), col = \"dark green\", lwd = 3)\n",
    "grid()"
   ]
  },
  {
   "cell_type": "code",
   "execution_count": 37,
   "metadata": {},
   "outputs": [],
   "source": [
    "index2 <- index^2\n",
    "quadratic.model_dc <-lm(Daily.Count ~ index + index2)"
   ]
  },
  {
   "cell_type": "code",
   "execution_count": 38,
   "metadata": {},
   "outputs": [
    {
     "data": {
      "text/plain": [
       "\n",
       "Call:\n",
       "lm(formula = Daily.Count ~ index + index2)\n",
       "\n",
       "Residuals:\n",
       "     Min       1Q   Median       3Q      Max \n",
       "-25709.2  -2795.8    407.5   2082.5  11122.8 \n",
       "\n",
       "Coefficients:\n",
       "             Estimate Std. Error t value Pr(>|t|)    \n",
       "(Intercept) 3226.9493   992.0782   3.253  0.00134 ** \n",
       "index       -256.3875    22.2505 -11.523  < 2e-16 ***\n",
       "index2         3.5870     0.1046  34.309  < 2e-16 ***\n",
       "---\n",
       "Signif. codes:  0 '***' 0.001 '**' 0.01 '*' 0.05 '.' 0.1 ' ' 1\n",
       "\n",
       "Residual standard error: 4804 on 204 degrees of freedom\n",
       "Multiple R-squared:  0.9769,\tAdjusted R-squared:  0.9767 \n",
       "F-statistic:  4317 on 2 and 204 DF,  p-value: < 2.2e-16\n"
      ]
     },
     "metadata": {},
     "output_type": "display_data"
    }
   ],
   "source": [
    "summary(quadratic.model_dc)"
   ]
  },
  {
   "cell_type": "code",
   "execution_count": 39,
   "metadata": {},
   "outputs": [
    {
     "data": {
      "image/png": "[encoded data removed]",
      "text/plain": [
       "Plot with title \"Boxplot: Residuals\""
      ]
     },
     "metadata": {
      "image/png": {
       "height": 420,
       "width": 420
      },
      "text/plain": {
       "height": 420,
       "width": 420
      }
     },
     "output_type": "display_data"
    }
   ],
   "source": [
    "boxplot(quadratic.model_dc[['residuals']],main='Boxplot: Residuals',ylab='residual value')"
   ]
  },
  {
   "cell_type": "code",
   "execution_count": 40,
   "metadata": {},
   "outputs": [
    {
     "data": {
      "image/png": "[encoded data removed]",
      "text/plain": [
       "plot without title"
      ]
     },
     "metadata": {
      "image/png": {
       "height": 420,
       "width": 420
      },
      "text/plain": {
       "height": 420,
       "width": 420
      }
     },
     "output_type": "display_data"
    }
   ],
   "source": [
    "timevalues <- seq(0, 206, 1)\n",
    "predictedcounts <- predict(quadratic.model_dc,list(index=timevalues, index2=timevalues^2))\n",
    "plot(index, Daily.Count, pch=20, xlab = \"Day\", ylab = \"Daily.Count\", cex.lab = 1.3, col = \"#2eb8b3\")\n",
    "lines(timevalues, predictedcounts, col = \"#a11b6e\", lwd = 3)\n",
    "grid()"
   ]
  },
  {
   "cell_type": "code",
   "execution_count": 41,
   "metadata": {},
   "outputs": [],
   "source": [
    "#Polynomial\n",
    "index2 <- index^2\n",
    "index3 <- index^3\n",
    "poly.model_dc <-lm(Daily.Count ~ index + index2 + index3)"
   ]
  },
  {
   "cell_type": "code",
   "execution_count": 42,
   "metadata": {},
   "outputs": [
    {
     "data": {
      "text/plain": [
       "\n",
       "Call:\n",
       "lm(formula = Daily.Count ~ index + index2 + index3)\n",
       "\n",
       "Residuals:\n",
       "   Min     1Q Median     3Q    Max \n",
       "-24455  -3290    627   2522  10527 \n",
       "\n",
       "Coefficients:\n",
       "              Estimate Std. Error t value Pr(>|t|)    \n",
       "(Intercept)  4.644e+03  1.306e+03   3.555  0.00047 ***\n",
       "index       -3.399e+02  5.504e+01  -6.176 3.53e-09 ***\n",
       "index2       4.603e+00  6.218e-01   7.404 3.46e-12 ***\n",
       "index3      -3.289e-03  1.984e-03  -1.658  0.09883 .  \n",
       "---\n",
       "Signif. codes:  0 '***' 0.001 '**' 0.01 '*' 0.05 '.' 0.1 ' ' 1\n",
       "\n",
       "Residual standard error: 4783 on 203 degrees of freedom\n",
       "Multiple R-squared:  0.9772,\tAdjusted R-squared:  0.9769 \n",
       "F-statistic:  2904 on 3 and 203 DF,  p-value: < 2.2e-16\n"
      ]
     },
     "metadata": {},
     "output_type": "display_data"
    }
   ],
   "source": [
    "summary(poly.model_dc)"
   ]
  },
  {
   "cell_type": "code",
   "execution_count": 43,
   "metadata": {},
   "outputs": [
    {
     "data": {
      "image/png": "[encoded data removed]",
      "text/plain": [
       "plot without title"
      ]
     },
     "metadata": {
      "image/png": {
       "height": 420,
       "width": 420
      },
      "text/plain": {
       "height": 420,
       "width": 420
      }
     },
     "output_type": "display_data"
    }
   ],
   "source": [
    "timevalues <- seq(0, 206, 1)\n",
    "predictedcounts <- predict(poly.model_dc,list(index=timevalues, index2=timevalues^2, index3=timevalues^3))\n",
    "plot(index, Daily.Count, pch=20, xlab = \"Day\", ylab = \"Daily.Count\", cex.lab = 1.3, col = \"#2eb8b3\")\n",
    "lines(timevalues, predictedcounts, col = \"red\", lwd = 3)\n",
    "grid()"
   ]
  },
  {
   "cell_type": "code",
   "execution_count": 44,
   "metadata": {},
   "outputs": [],
   "source": [
    "#exponential\n",
    "logdc <- log(Daily.Count)\n",
    "logdc[which(!is.finite(logdc))] <- 0"
   ]
  },
  {
   "cell_type": "code",
   "execution_count": 45,
   "metadata": {},
   "outputs": [
    {
     "data": {
      "text/plain": [
       "\n",
       "Call:\n",
       "lm(formula = logdc ~ index)\n",
       "\n",
       "Residuals:\n",
       "    Min      1Q  Median      3Q     Max \n",
       "-4.3021 -0.6702  0.4124  0.8501  1.3356 \n",
       "\n",
       "Coefficients:\n",
       "            Estimate Std. Error t value Pr(>|t|)    \n",
       "(Intercept)  4.08462    0.15843   25.78   <2e-16 ***\n",
       "index        0.04350    0.00133   32.69   <2e-16 ***\n",
       "---\n",
       "Signif. codes:  0 '***' 0.001 '**' 0.01 '*' 0.05 '.' 0.1 ' ' 1\n",
       "\n",
       "Residual standard error: 1.144 on 205 degrees of freedom\n",
       "Multiple R-squared:  0.8391,\tAdjusted R-squared:  0.8383 \n",
       "F-statistic:  1069 on 1 and 205 DF,  p-value: < 2.2e-16\n"
      ]
     },
     "metadata": {},
     "output_type": "display_data"
    }
   ],
   "source": [
    "exponential.model_dc <- lm(logdc~ index)\n",
    "summary(exponential.model_dc)"
   ]
  },
  {
   "cell_type": "code",
   "execution_count": 46,
   "metadata": {},
   "outputs": [
    {
     "data": {
      "image/png": "[encoded data removed]",
      "text/plain": [
       "plot without title"
      ]
     },
     "metadata": {
      "image/png": {
       "height": 420,
       "width": 420
      },
      "text/plain": {
       "height": 420,
       "width": 420
      }
     },
     "output_type": "display_data"
    }
   ],
   "source": [
    "timevalues <- seq(0, 206, 1)\n",
    "Counts.exponential2 <- exp(predict(exponential.model_dc,list(Time=timevalues)))\n",
    "plot(index, Daily.Count,pch=20, col = \"#2eb8b3\", xlab = \"Day\", ylab = \"Daily.Count\", cex.lab = 1.3 )\n",
    "lines(timevalues, Counts.exponential2,lwd=3, col = \"#3b51e3\", xlab = \"Time (s)\", ylab = \"Daily.Count\")\n",
    "grid()"
   ]
  },
  {
   "cell_type": "code",
   "execution_count": 47,
   "metadata": {},
   "outputs": [],
   "source": [
    "linear.model_dr <-lm(Daily.Recovered ~ index)"
   ]
  },
  {
   "cell_type": "code",
   "execution_count": 48,
   "metadata": {},
   "outputs": [
    {
     "data": {
      "text/plain": [
       "\n",
       "Call:\n",
       "lm(formula = Daily.Recovered ~ index)\n",
       "\n",
       "Residuals:\n",
       "   Min     1Q Median     3Q    Max \n",
       "-19857 -12178    -94   9923  36898 \n",
       "\n",
       "Coefficients:\n",
       "             Estimate Std. Error t value Pr(>|t|)    \n",
       "(Intercept) -20877.03    1776.27  -11.75   <2e-16 ***\n",
       "index          421.81      14.92   28.28   <2e-16 ***\n",
       "---\n",
       "Signif. codes:  0 '***' 0.001 '**' 0.01 '*' 0.05 '.' 0.1 ' ' 1\n",
       "\n",
       "Residual standard error: 12820 on 205 degrees of freedom\n",
       "Multiple R-squared:  0.7959,\tAdjusted R-squared:  0.7949 \n",
       "F-statistic: 799.6 on 1 and 205 DF,  p-value: < 2.2e-16\n"
      ]
     },
     "metadata": {},
     "output_type": "display_data"
    }
   ],
   "source": [
    "summary(linear.model_dr)"
   ]
  },
  {
   "cell_type": "code",
   "execution_count": 49,
   "metadata": {},
   "outputs": [
    {
     "data": {
      "image/png": "[encoded data removed]",
      "text/plain": [
       "plot without title"
      ]
     },
     "metadata": {
      "image/png": {
       "height": 420,
       "width": 420
      },
      "text/plain": {
       "height": 420,
       "width": 420
      }
     },
     "output_type": "display_data"
    }
   ],
   "source": [
    "plot(index, Daily.Recovered, pch=20, xlab=\"Day\", ylab = \"Daily.Recovered\", cex.lab = 1.3, col = \"#5dcc4b\" )\n",
    "\n",
    "abline(lm(Daily.Recovered ~ index), col = \"dark green\", lwd=3)\n",
    "grid()"
   ]
  },
  {
   "cell_type": "code",
   "execution_count": 50,
   "metadata": {},
   "outputs": [],
   "source": [
    "index2 <- index^2\n",
    "quadratic.model_dr <-lm(Daily.Recovered ~ index + index2)"
   ]
  },
  {
   "cell_type": "code",
   "execution_count": 51,
   "metadata": {},
   "outputs": [
    {
     "data": {
      "text/plain": [
       "\n",
       "Call:\n",
       "lm(formula = Daily.Recovered ~ index + index2)\n",
       "\n",
       "Residuals:\n",
       "     Min       1Q   Median       3Q      Max \n",
       "-10913.0  -2722.0    197.8   2669.4  11790.5 \n",
       "\n",
       "Coefficients:\n",
       "              Estimate Std. Error t value Pr(>|t|)    \n",
       "(Intercept) 5958.57848  795.11096   7.494 1.99e-12 ***\n",
       "index       -363.62399   17.83292 -20.391  < 2e-16 ***\n",
       "index2         3.81278    0.08379  45.502  < 2e-16 ***\n",
       "---\n",
       "Signif. codes:  0 '***' 0.001 '**' 0.01 '*' 0.05 '.' 0.1 ' ' 1\n",
       "\n",
       "Residual standard error: 3850 on 204 degrees of freedom\n",
       "Multiple R-squared:  0.9817,\tAdjusted R-squared:  0.9815 \n",
       "F-statistic:  5471 on 2 and 204 DF,  p-value: < 2.2e-16\n"
      ]
     },
     "metadata": {},
     "output_type": "display_data"
    }
   ],
   "source": [
    "summary(quadratic.model_dr)"
   ]
  },
  {
   "cell_type": "code",
   "execution_count": 52,
   "metadata": {},
   "outputs": [
    {
     "data": {
      "image/png": "[encoded data removed]",
      "text/plain": [
       "plot without title"
      ]
     },
     "metadata": {
      "image/png": {
       "height": 420,
       "width": 420
      },
      "text/plain": {
       "height": 420,
       "width": 420
      }
     },
     "output_type": "display_data"
    }
   ],
   "source": [
    "timevalues <- seq(0, 206, 1)\n",
    "predictedcounts <- predict(quadratic.model_dr,list(index=timevalues, index2=timevalues^2))\n",
    "plot(index, Daily.Recovered, pch=20, xlab = \"Day\", ylab = \"Daily.Recovered\", cex.lab = 1.3, col = \"#5dcc4b\")\n",
    "lines(timevalues, predictedcounts, col = \"#a11b6e\", lwd = 3)\n",
    "grid()"
   ]
  },
  {
   "cell_type": "code",
   "execution_count": 53,
   "metadata": {},
   "outputs": [],
   "source": [
    "index2 <- index^2\n",
    "index3 <- index^3\n",
    "poly.model_dr <-lm(Daily.Recovered ~ index + index2 + index3)"
   ]
  },
  {
   "cell_type": "code",
   "execution_count": 54,
   "metadata": {},
   "outputs": [
    {
     "data": {
      "text/plain": [
       "\n",
       "Call:\n",
       "lm(formula = Daily.Recovered ~ index + index2 + index3)\n",
       "\n",
       "Residuals:\n",
       "   Min     1Q Median     3Q    Max \n",
       " -9373  -2121    202   1280  13451 \n",
       "\n",
       "Coefficients:\n",
       "              Estimate Std. Error t value Pr(>|t|)    \n",
       "(Intercept)  2.316e+03  9.788e+02   2.366 0.018905 *  \n",
       "index       -1.488e+02  4.125e+01  -3.608 0.000388 ***\n",
       "index2       1.200e+00  4.659e-01   2.575 0.010731 *  \n",
       "index3       8.456e-03  1.487e-03   5.688 4.43e-08 ***\n",
       "---\n",
       "Signif. codes:  0 '***' 0.001 '**' 0.01 '*' 0.05 '.' 0.1 ' ' 1\n",
       "\n",
       "Residual standard error: 3584 on 203 degrees of freedom\n",
       "Multiple R-squared:  0.9842,\tAdjusted R-squared:  0.984 \n",
       "F-statistic:  4219 on 3 and 203 DF,  p-value: < 2.2e-16\n"
      ]
     },
     "metadata": {},
     "output_type": "display_data"
    }
   ],
   "source": [
    "summary(poly.model_dr)"
   ]
  },
  {
   "cell_type": "code",
   "execution_count": 55,
   "metadata": {},
   "outputs": [
    {
     "data": {
      "image/png": "[encoded data removed]",
      "text/plain": [
       "plot without title"
      ]
     },
     "metadata": {
      "image/png": {
       "height": 420,
       "width": 420
      },
      "text/plain": {
       "height": 420,
       "width": 420
      }
     },
     "output_type": "display_data"
    }
   ],
   "source": [
    "timevalues <- seq(0, 206, 1)\n",
    "predictedcounts <- predict(poly.model_dr,list(index=timevalues, index2=timevalues^2))\n",
    "plot(index, Daily.Recovered, pch=20, xlab = \"Day\", ylab = \"Daily.Recovered\", cex.lab = 1.3, col = \"#5dcc4b\")\n",
    "lines(timevalues, predictedcounts, col = \"red\", lwd = 3)\n",
    "grid()"
   ]
  },
  {
   "cell_type": "code",
   "execution_count": 56,
   "metadata": {},
   "outputs": [],
   "source": [
    "logdr <- log(Daily.Recovered)\n",
    "logdr[which(!is.finite(logdr))] <- 0"
   ]
  },
  {
   "cell_type": "code",
   "execution_count": 57,
   "metadata": {},
   "outputs": [
    {
     "data": {
      "text/plain": [
       "\n",
       "Call:\n",
       "lm(formula = logdr ~ index)\n",
       "\n",
       "Residuals:\n",
       "    Min      1Q  Median      3Q     Max \n",
       "-3.2448 -0.9425  0.3474  1.0958  2.4017 \n",
       "\n",
       "Coefficients:\n",
       "            Estimate Std. Error t value Pr(>|t|)    \n",
       "(Intercept) 2.094751   0.180501   11.61   <2e-16 ***\n",
       "index       0.054763   0.001516   36.13   <2e-16 ***\n",
       "---\n",
       "Signif. codes:  0 '***' 0.001 '**' 0.01 '*' 0.05 '.' 0.1 ' ' 1\n",
       "\n",
       "Residual standard error: 1.303 on 205 degrees of freedom\n",
       "Multiple R-squared:  0.8643,\tAdjusted R-squared:  0.8636 \n",
       "F-statistic:  1305 on 1 and 205 DF,  p-value: < 2.2e-16\n"
      ]
     },
     "metadata": {},
     "output_type": "display_data"
    }
   ],
   "source": [
    "exponential.model_dr <- lm(logdr~ index)\n",
    "summary(exponential.model_dr)"
   ]
  },
  {
   "cell_type": "code",
   "execution_count": 58,
   "metadata": {},
   "outputs": [
    {
     "data": {
      "image/png": "[encoded data removed]",
      "text/plain": [
       "plot without title"
      ]
     },
     "metadata": {
      "image/png": {
       "height": 420,
       "width": 420
      },
      "text/plain": {
       "height": 420,
       "width": 420
      }
     },
     "output_type": "display_data"
    }
   ],
   "source": [
    "timevalues <- seq(0, 206, 1)\n",
    "Counts.exponential2 <- exp(predict(exponential.model_dr,list(Time=timevalues)))\n",
    "plot(index, Daily.Recovered,pch=20, col=\"#5dcc4b\", xlab = \"Day\", ylab = \"Daily.Recovered\", cex.lab = 1.3)\n",
    "lines(timevalues, Counts.exponential2,lwd=2, col = \"#3b51e3\", xlab = \"Time (s)\", ylab = \"Daily.Recovered\")\n",
    "grid()"
   ]
  },
  {
   "cell_type": "code",
   "execution_count": 61,
   "metadata": {},
   "outputs": [],
   "source": [
    "linear.model_dd <-lm(Daily.Deceased ~ index)"
   ]
  },
  {
   "cell_type": "code",
   "execution_count": 62,
   "metadata": {},
   "outputs": [
    {
     "data": {
      "text/plain": [
       "\n",
       "Call:\n",
       "lm(formula = Daily.Deceased ~ index)\n",
       "\n",
       "Residuals:\n",
       "    Min      1Q  Median      3Q     Max \n",
       "-182.75  -99.60  -11.19   87.10  441.34 \n",
       "\n",
       "Coefficients:\n",
       "             Estimate Std. Error t value Pr(>|t|)    \n",
       "(Intercept) -235.6065    15.9203  -14.80   <2e-16 ***\n",
       "index          6.4634     0.1337   48.34   <2e-16 ***\n",
       "---\n",
       "Signif. codes:  0 '***' 0.001 '**' 0.01 '*' 0.05 '.' 0.1 ' ' 1\n",
       "\n",
       "Residual standard error: 114.9 on 205 degrees of freedom\n",
       "Multiple R-squared:  0.9194,\tAdjusted R-squared:  0.919 \n",
       "F-statistic:  2337 on 1 and 205 DF,  p-value: < 2.2e-16\n"
      ]
     },
     "metadata": {},
     "output_type": "display_data"
    }
   ],
   "source": [
    "summary(linear.model_dd)"
   ]
  },
  {
   "cell_type": "code",
   "execution_count": 63,
   "metadata": {},
   "outputs": [
    {
     "data": {
      "image/png": "[encoded data removed]",
      "text/plain": [
       "plot without title"
      ]
     },
     "metadata": {
      "image/png": {
       "height": 420,
       "width": 420
      },
      "text/plain": {
       "height": 420,
       "width": 420
      }
     },
     "output_type": "display_data"
    }
   ],
   "source": [
    "plot(index, Daily.Deceased, pch=20, xlab = \"Day\", ylab = \"Daily.Deceased\", cex.lab = 1.3, col = \"#a8a8a8\" )\n",
    "\n",
    "abline(lm(Daily.Deceased ~ index), col = \"dark green\", lwd=3)\n",
    "grid()"
   ]
  },
  {
   "cell_type": "code",
   "execution_count": 64,
   "metadata": {},
   "outputs": [],
   "source": [
    "index2 <- index^2\n",
    "quadratic.model_dd <-lm(Daily.Deceased ~ index + index2)"
   ]
  },
  {
   "cell_type": "code",
   "execution_count": 65,
   "metadata": {},
   "outputs": [
    {
     "data": {
      "text/plain": [
       "\n",
       "Call:\n",
       "lm(formula = Daily.Deceased ~ index + index2)\n",
       "\n",
       "Residuals:\n",
       "    Min      1Q  Median      3Q     Max \n",
       "-207.09  -39.22   -5.71   37.37  494.21 \n",
       "\n",
       "Coefficients:\n",
       "              Estimate Std. Error t value Pr(>|t|)    \n",
       "(Intercept) -46.787515  15.766089  -2.968  0.00336 ** \n",
       "index         0.936962   0.353605   2.650  0.00869 ** \n",
       "index2        0.026827   0.001662  16.146  < 2e-16 ***\n",
       "---\n",
       "Signif. codes:  0 '***' 0.001 '**' 0.01 '*' 0.05 '.' 0.1 ' ' 1\n",
       "\n",
       "Residual standard error: 76.34 on 204 degrees of freedom\n",
       "Multiple R-squared:  0.9646,\tAdjusted R-squared:  0.9643 \n",
       "F-statistic:  2779 on 2 and 204 DF,  p-value: < 2.2e-16\n"
      ]
     },
     "metadata": {},
     "output_type": "display_data"
    }
   ],
   "source": [
    "summary(quadratic.model_dd)"
   ]
  },
  {
   "cell_type": "code",
   "execution_count": 66,
   "metadata": {},
   "outputs": [
    {
     "data": {
      "image/png": "[encoded data removed]",
      "text/plain": [
       "plot without title"
      ]
     },
     "metadata": {
      "image/png": {
       "height": 420,
       "width": 420
      },
      "text/plain": {
       "height": 420,
       "width": 420
      }
     },
     "output_type": "display_data"
    }
   ],
   "source": [
    "timevalues <- seq(0, 206, 1)\n",
    "predictedcounts <- predict(quadratic.model_dd,list(index=timevalues, index2=timevalues^2))\n",
    "plot(index, Daily.Deceased, pch=20, xlab = \"Day\", ylab = \"Daily.Deceased\", cex.lab = 1.3, col = \"#a8a8a8\")\n",
    "lines(timevalues, predictedcounts, col = \"#a11b6e\", lwd = 3)\n",
    "grid()"
   ]
  },
  {
   "cell_type": "code",
   "execution_count": 67,
   "metadata": {},
   "outputs": [],
   "source": [
    "index2 <- index^2\n",
    "index3 <- index^3\n",
    "poly.model_dd <-lm(Daily.Deceased ~ index + index2 + index3)"
   ]
  },
  {
   "cell_type": "code",
   "execution_count": 68,
   "metadata": {},
   "outputs": [
    {
     "data": {
      "text/plain": [
       "\n",
       "Call:\n",
       "lm(formula = Daily.Deceased ~ index + index2 + index3)\n",
       "\n",
       "Residuals:\n",
       "    Min      1Q  Median      3Q     Max \n",
       "-207.60  -34.74    3.65   27.46  449.13 \n",
       "\n",
       "Coefficients:\n",
       "              Estimate Std. Error t value Pr(>|t|)    \n",
       "(Intercept)  5.378e+01  1.790e+01   3.005  0.00299 ** \n",
       "index       -4.993e+00  7.542e-01  -6.621 3.13e-10 ***\n",
       "index2       9.897e-02  8.519e-03  11.617  < 2e-16 ***\n",
       "index3      -2.335e-04  2.718e-05  -8.590 2.31e-15 ***\n",
       "---\n",
       "Signif. codes:  0 '***' 0.001 '**' 0.01 '*' 0.05 '.' 0.1 ' ' 1\n",
       "\n",
       "Residual standard error: 65.54 on 203 degrees of freedom\n",
       "Multiple R-squared:  0.974,\tAdjusted R-squared:  0.9737 \n",
       "F-statistic:  2538 on 3 and 203 DF,  p-value: < 2.2e-16\n"
      ]
     },
     "metadata": {},
     "output_type": "display_data"
    }
   ],
   "source": [
    "summary(poly.model_dd)"
   ]
  },
  {
   "cell_type": "code",
   "execution_count": 69,
   "metadata": {},
   "outputs": [
    {
     "data": {
      "image/png": "[encoded data removed]",
      "text/plain": [
       "plot without title"
      ]
     },
     "metadata": {
      "image/png": {
       "height": 420,
       "width": 420
      },
      "text/plain": {
       "height": 420,
       "width": 420
      }
     },
     "output_type": "display_data"
    }
   ],
   "source": [
    "timevalues <- seq(0, 206, 1)\n",
    "predictedcounts <- predict(poly.model_dd,list(index=timevalues, index2=timevalues^2, index3=timevalues^3))\n",
    "plot(index, Daily.Deceased, pch=20, xlab = \"Day\", ylab = \"Daily.Deceased\", cex.lab = 1.3, col = \"#a8a8a8\")\n",
    "lines(timevalues, predictedcounts, col = \"red\", lwd = 3)\n",
    "grid()"
   ]
  },
  {
   "cell_type": "code",
   "execution_count": 70,
   "metadata": {},
   "outputs": [],
   "source": [
    "logdd <- log(Daily.Deceased)\n",
    "logdd[which(!is.finite(logdd))] <- 0"
   ]
  },
  {
   "cell_type": "code",
   "execution_count": 71,
   "metadata": {},
   "outputs": [
    {
     "data": {
      "text/plain": [
       "\n",
       "Call:\n",
       "lm(formula = logdd ~ index)\n",
       "\n",
       "Residuals:\n",
       "    Min      1Q  Median      3Q     Max \n",
       "-2.1909 -0.7199  0.3260  0.7754  1.4169 \n",
       "\n",
       "Coefficients:\n",
       "            Estimate Std. Error t value Pr(>|t|)    \n",
       "(Intercept) 1.369978   0.127723   10.73   <2e-16 ***\n",
       "index       0.034203   0.001073   31.89   <2e-16 ***\n",
       "---\n",
       "Signif. codes:  0 '***' 0.001 '**' 0.01 '*' 0.05 '.' 0.1 ' ' 1\n",
       "\n",
       "Residual standard error: 0.9221 on 205 degrees of freedom\n",
       "Multiple R-squared:  0.8322,\tAdjusted R-squared:  0.8314 \n",
       "F-statistic:  1017 on 1 and 205 DF,  p-value: < 2.2e-16\n"
      ]
     },
     "metadata": {},
     "output_type": "display_data"
    }
   ],
   "source": [
    "exponential.model_dd <- lm(logdd~ index)\n",
    "summary(exponential.model_dd)"
   ]
  },
  {
   "cell_type": "code",
   "execution_count": 72,
   "metadata": {},
   "outputs": [
    {
     "data": {
      "image/png": "[encoded data removed]",
      "text/plain": [
       "plot without title"
      ]
     },
     "metadata": {
      "image/png": {
       "height": 420,
       "width": 420
      },
      "text/plain": {
       "height": 420,
       "width": 420
      }
     },
     "output_type": "display_data"
    }
   ],
   "source": [
    "timevalues <- seq(0, 206, 1)\n",
    "Counts.exponential2 <- exp(predict(exponential.model_dd,list(Time=timevalues)))\n",
    "plot(index, Daily.Deceased,pch=20, col=\"#a8a8a8\", xlab = \"Day\", ylab = \"Daily.Deceased\")\n",
    "lines(timevalues, Counts.exponential2,lwd=3, col = \"#3b51e3\", xlab = \"Day\", ylab = \"Daily.Deceased\")\n",
    "grid()"
   ]
  },
  {
   "cell_type": "code",
   "execution_count": 73,
   "metadata": {},
   "outputs": [
    {
     "data": {
      "image/png": "[encoded data removed]",
      "text/plain": [
       "Plot with title \"Deaths by Active\""
      ]
     },
     "metadata": {
      "image/png": {
       "height": 360,
       "width": 1080
      },
      "text/plain": {
       "height": 360,
       "width": 1080
      }
     },
     "output_type": "display_data"
    }
   ],
   "source": [
    "options(repr.plot.width=18, repr.plot.height=6)\n",
    "par(mfcol=c(1,3))\n",
    "plot(index, dd_by_dc,pch=16, col=\"#3b51e3\", xlab = \"Day\", ylab = \"dd_by_dc\", cex.lab = 1.3, main=\"Deaths by Count\")\n",
    "grid()\n",
    "plot(index, dd_by_dr,pch=16, col=\"#5dcc4b\", xlab = \"Day\", ylab = \"dd_by_dr\", cex.lab = 1.3, main=\"Deaths by Recoveries\")\n",
    "grid()\n",
    "plot(index, dd_by_da,pch=16, col=\"#f26fac\", xlab = \"Day\", ylab = \"dd_by_da\", cex.lab = 1.3, main=\"Deaths by Active\")\n",
    "grid()"
   ]
  },
  {
   "cell_type": "code",
   "execution_count": 93,
   "metadata": {},
   "outputs": [],
   "source": [
    "linear.model_1 <-lm(dd_by_dc ~ index)\n",
    "linear.model_2 <-lm(dd_by_dr ~ index)\n",
    "linear.model_3 <-lm(dd_by_da ~ index)"
   ]
  },
  {
   "cell_type": "code",
   "execution_count": 94,
   "metadata": {},
   "outputs": [
    {
     "name": "stdout",
     "output_type": "stream",
     "text": [
      "[1] \"dd_by_dc\"\n"
     ]
    },
    {
     "data": {
      "text/plain": [
       "\n",
       "Call:\n",
       "lm(formula = dd_by_dc ~ index)\n",
       "\n",
       "Residuals:\n",
       "      Min        1Q    Median        3Q       Max \n",
       "-0.030723 -0.003138 -0.001081  0.004434  0.070091 \n",
       "\n",
       "Coefficients:\n",
       "              Estimate Std. Error t value Pr(>|t|)    \n",
       "(Intercept)  3.080e-02  1.869e-03  16.483  < 2e-16 ***\n",
       "index       -8.133e-05  1.566e-05  -5.195 4.95e-07 ***\n",
       "---\n",
       "Signif. codes:  0 '***' 0.001 '**' 0.01 '*' 0.05 '.' 0.1 ' ' 1\n",
       "\n",
       "Residual standard error: 0.01336 on 204 degrees of freedom\n",
       "  (1 observation deleted due to missingness)\n",
       "Multiple R-squared:  0.1168,\tAdjusted R-squared:  0.1125 \n",
       "F-statistic: 26.98 on 1 and 204 DF,  p-value: 4.954e-07\n"
      ]
     },
     "metadata": {},
     "output_type": "display_data"
    },
    {
     "name": "stdout",
     "output_type": "stream",
     "text": [
      "[1] \"dd_by_dr\"\n"
     ]
    },
    {
     "data": {
      "text/plain": [
       "\n",
       "Call:\n",
       "lm(formula = dd_by_dr ~ index)\n",
       "\n",
       "Residuals:\n",
       "     Min       1Q   Median       3Q      Max \n",
       "-0.23737 -0.06095 -0.02630  0.02487  0.79328 \n",
       "\n",
       "Coefficients:\n",
       "              Estimate Std. Error t value Pr(>|t|)    \n",
       "(Intercept)  0.2373672  0.0228085  10.407  < 2e-16 ***\n",
       "index       -0.0013931  0.0001915  -7.273  7.3e-12 ***\n",
       "---\n",
       "Signif. codes:  0 '***' 0.001 '**' 0.01 '*' 0.05 '.' 0.1 ' ' 1\n",
       "\n",
       "Residual standard error: 0.1647 on 205 degrees of freedom\n",
       "Multiple R-squared:  0.2051,\tAdjusted R-squared:  0.2012 \n",
       "F-statistic:  52.9 on 1 and 205 DF,  p-value: 7.297e-12\n"
      ]
     },
     "metadata": {},
     "output_type": "display_data"
    },
    {
     "name": "stdout",
     "output_type": "stream",
     "text": [
      "[1] \"dd_by_da\"\n"
     ]
    },
    {
     "data": {
      "text/plain": [
       "\n",
       "Call:\n",
       "lm(formula = dd_by_da ~ index)\n",
       "\n",
       "Residuals:\n",
       "       Min         1Q     Median         3Q        Max \n",
       "-0.0030815 -0.0003889 -0.0001458  0.0001860  0.0095966 \n",
       "\n",
       "Coefficients:\n",
       "              Estimate Std. Error t value Pr(>|t|)    \n",
       "(Intercept)  3.082e-03  2.207e-04  13.960  < 2e-16 ***\n",
       "index       -1.620e-05  1.854e-06  -8.737 8.57e-16 ***\n",
       "---\n",
       "Signif. codes:  0 '***' 0.001 '**' 0.01 '*' 0.05 '.' 0.1 ' ' 1\n",
       "\n",
       "Residual standard error: 0.001594 on 205 degrees of freedom\n",
       "Multiple R-squared:  0.2713,\tAdjusted R-squared:  0.2678 \n",
       "F-statistic: 76.33 on 1 and 205 DF,  p-value: 8.571e-16\n"
      ]
     },
     "metadata": {},
     "output_type": "display_data"
    }
   ],
   "source": [
    "print('dd_by_dc')\n",
    "summary(linear.model_1)\n",
    "print('dd_by_dr')\n",
    "summary(linear.model_2)\n",
    "print('dd_by_da')\n",
    "summary(linear.model_3)"
   ]
  },
  {
   "cell_type": "code",
   "execution_count": 95,
   "metadata": {},
   "outputs": [
    {
     "data": {
      "image/png": "[encoded data removed]",
      "text/plain": [
       "Plot with title \"Deaths by Active\""
      ]
     },
     "metadata": {
      "image/png": {
       "height": 360,
       "width": 1080
      },
      "text/plain": {
       "height": 360,
       "width": 1080
      }
     },
     "output_type": "display_data"
    }
   ],
   "source": [
    "options(repr.plot.width=18, repr.plot.height=6)\n",
    "par(mfcol=c(1,3))\n",
    "plot(index, dd_by_dc,pch=16, col=\"#3b51e3\", xlab = \"Day\", ylab = \"dd_by_dc\", cex.lab = 1.3, main=\"Deaths by Count\")\n",
    "abline(lm(dd_by_dc ~ index), col = \"red\", lwd=3)\n",
    "grid()\n",
    "plot(index, dd_by_dr,pch=16, col=\"#5dcc4b\", xlab = \"Day\", ylab = \"dd_by_dr\", cex.lab = 1.3, main=\"Deaths by Recoveries\")\n",
    "abline(lm(dd_by_dr ~ index), col = \"red\", lwd=3)\n",
    "grid()\n",
    "plot(index, dd_by_da,pch=16, col=\"#f26fac\", xlab = \"Day\", ylab = \"dd_by_da\", cex.lab = 1.3, main=\"Deaths by Active\")\n",
    "abline(lm(dd_by_da ~ index), col = \"red\", lwd=3)\n",
    "grid()"
   ]
  },
  {
   "cell_type": "code",
   "execution_count": 96,
   "metadata": {},
   "outputs": [],
   "source": [
    "log1 <- log(dd_by_dc)\n",
    "log1[which(!is.finite(log1))] <- 0\n",
    "log2 <- log(dd_by_dr)\n",
    "log2[which(!is.finite(log2))] <- 0\n",
    "log3 <- log(dd_by_da)\n",
    "log3[which(!is.finite(log3))] <- 0"
   ]
  },
  {
   "cell_type": "code",
   "execution_count": 97,
   "metadata": {},
   "outputs": [],
   "source": [
    "exponential.model_1 <- lm(log1~ index)\n",
    "exponential.model_2 <- lm(log2~ index)\n",
    "exponential.model_3 <- lm(log3~ index)"
   ]
  },
  {
   "cell_type": "code",
   "execution_count": 98,
   "metadata": {},
   "outputs": [
    {
     "name": "stdout",
     "output_type": "stream",
     "text": [
      "[1] \"dd_by_dc\"\n"
     ]
    },
    {
     "data": {
      "text/plain": [
       "\n",
       "Call:\n",
       "lm(formula = log1 ~ index)\n",
       "\n",
       "Residuals:\n",
       "     Min       1Q   Median       3Q      Max \n",
       "-1.99613 -0.39226 -0.08408  0.16478  2.40484 \n",
       "\n",
       "Coefficients:\n",
       "             Estimate Std. Error t value Pr(>|t|)    \n",
       "(Intercept) -2.137980   0.112173  -19.06   <2e-16 ***\n",
       "index       -0.013343   0.000942  -14.16   <2e-16 ***\n",
       "---\n",
       "Signif. codes:  0 '***' 0.001 '**' 0.01 '*' 0.05 '.' 0.1 ' ' 1\n",
       "\n",
       "Residual standard error: 0.8099 on 205 degrees of freedom\n",
       "Multiple R-squared:  0.4946,\tAdjusted R-squared:  0.4921 \n",
       "F-statistic: 200.6 on 1 and 205 DF,  p-value: < 2.2e-16\n"
      ]
     },
     "metadata": {},
     "output_type": "display_data"
    },
    {
     "name": "stdout",
     "output_type": "stream",
     "text": [
      "[1] \"dd_by_dr\"\n"
     ]
    },
    {
     "data": {
      "text/plain": [
       "\n",
       "Call:\n",
       "lm(formula = log2 ~ index)\n",
       "\n",
       "Residuals:\n",
       "     Min       1Q   Median       3Q      Max \n",
       "-1.55285 -0.35642 -0.04531  0.33920  1.13429 \n",
       "\n",
       "Coefficients:\n",
       "              Estimate Std. Error t value Pr(>|t|)    \n",
       "(Intercept) -0.6741563  0.0717254  -9.399   <2e-16 ***\n",
       "index       -0.0209152  0.0006023 -34.723   <2e-16 ***\n",
       "---\n",
       "Signif. codes:  0 '***' 0.001 '**' 0.01 '*' 0.05 '.' 0.1 ' ' 1\n",
       "\n",
       "Residual standard error: 0.5178 on 205 degrees of freedom\n",
       "Multiple R-squared:  0.8547,\tAdjusted R-squared:  0.854 \n",
       "F-statistic:  1206 on 1 and 205 DF,  p-value: < 2.2e-16\n"
      ]
     },
     "metadata": {},
     "output_type": "display_data"
    },
    {
     "name": "stdout",
     "output_type": "stream",
     "text": [
      "[1] \"dd_by_da\"\n"
     ]
    },
    {
     "data": {
      "text/plain": [
       "\n",
       "Call:\n",
       "lm(formula = log3 ~ index)\n",
       "\n",
       "Residuals:\n",
       "    Min      1Q  Median      3Q     Max \n",
       "-2.3173 -0.8395 -0.2333  0.3663  4.0509 \n",
       "\n",
       "Coefficients:\n",
       "             Estimate Std. Error t value Pr(>|t|)    \n",
       "(Intercept) -3.484231   0.179275  -19.43   <2e-16 ***\n",
       "index       -0.028335   0.001506  -18.82   <2e-16 ***\n",
       "---\n",
       "Signif. codes:  0 '***' 0.001 '**' 0.01 '*' 0.05 '.' 0.1 ' ' 1\n",
       "\n",
       "Residual standard error: 1.294 on 205 degrees of freedom\n",
       "Multiple R-squared:  0.6334,\tAdjusted R-squared:  0.6316 \n",
       "F-statistic: 354.2 on 1 and 205 DF,  p-value: < 2.2e-16\n"
      ]
     },
     "metadata": {},
     "output_type": "display_data"
    }
   ],
   "source": [
    "\n",
    "print('dd_by_dc')\n",
    "summary(exponential.model_1)\n",
    "print('dd_by_dr')\n",
    "summary(exponential.model_2)\n",
    "print('dd_by_da')\n",
    "summary(exponential.model_3)"
   ]
  },
  {
   "cell_type": "code",
   "execution_count": 99,
   "metadata": {},
   "outputs": [
    {
     "data": {
      "image/png": "[encoded data removed]",
      "text/plain": [
       "Plot with title \"Deaths by Active\""
      ]
     },
     "metadata": {
      "image/png": {
       "height": 360,
       "width": 1080
      },
      "text/plain": {
       "height": 360,
       "width": 1080
      }
     },
     "output_type": "display_data"
    }
   ],
   "source": [
    "options(repr.plot.width=18, repr.plot.height=6)\n",
    "par(mfcol=c(1,3))\n",
    "timevalues <- seq(0, 206, 1)\n",
    "Counts.exponential1 <- exp(predict(exponential.model_1,list(Time=timevalues)))\n",
    "plot(index, dd_by_dc,pch=16, col=\"#3b51e3\", xlab = \"Day\", ylab = \"dd_by_dc\", cex.lab = 1.3, main=\"Deaths by Count\")\n",
    "lines(timevalues, Counts.exponential1, col = \"red\", lwd = 3)\n",
    "grid()\n",
    "Counts.exponential2 <- exp(predict(exponential.model_2,list(Time=timevalues)))\n",
    "plot(index, dd_by_dr,pch=16, col=\"#5dcc4b\", xlab = \"Day\", ylab = \"dd_by_dr\", cex.lab = 1.3, main=\"Deaths by Recovered\")\n",
    "lines(timevalues, Counts.exponential2, col = \"red\", lwd = 3)\n",
    "grid()\n",
    "Counts.exponential3 <- exp(predict(exponential.model_3,list(Time=timevalues)))\n",
    "plot(index, dd_by_da,pch=16, col=\"#f26fac\", xlab = \"Day\", ylab = \"dd_by_da\", cex.lab = 1.3, main=\"Deaths by Active\")\n",
    "lines(timevalues, Counts.exponential3, col = \"red\", lwd = 3)\n",
    "grid()"
   ]
  }
 ],
 "metadata": {
  "kernelspec": {
   "display_name": "R",
   "language": "R",
   "name": "ir"
  },
  "language_info": {
   "codemirror_mode": "r",
   "file_extension": ".r",
   "mimetype": "text/x-r-source",
   "name": "R",
   "pygments_lexer": "r",
   "version": "3.6.2"
  }
 },
 "nbformat": 4,
 "nbformat_minor": 4
}
